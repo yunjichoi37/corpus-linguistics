{
 "cells": [
  {
   "cell_type": "markdown",
   "id": "19f8383f",
   "metadata": {},
   "source": [
    "## atomic data type과 함수 type"
   ]
  },
  {
   "cell_type": "code",
   "execution_count": 145,
   "id": "240d34b6",
   "metadata": {},
   "outputs": [
    {
     "data": {
      "text/plain": [
       "30"
      ]
     },
     "execution_count": 145,
     "metadata": {},
     "output_type": "execute_result"
    }
   ],
   "source": [
    "30"
   ]
  },
  {
   "cell_type": "code",
   "execution_count": 146,
   "id": "27c58b97",
   "metadata": {},
   "outputs": [
    {
     "data": {
      "text/plain": [
       "int"
      ]
     },
     "execution_count": 146,
     "metadata": {},
     "output_type": "execute_result"
    }
   ],
   "source": [
    "type(30)"
   ]
  },
  {
   "cell_type": "code",
   "execution_count": 147,
   "id": "af415ca0",
   "metadata": {},
   "outputs": [
    {
     "data": {
      "text/plain": [
       "30.5"
      ]
     },
     "execution_count": 147,
     "metadata": {},
     "output_type": "execute_result"
    }
   ],
   "source": [
    "30.5"
   ]
  },
  {
   "cell_type": "code",
   "execution_count": 148,
   "id": "7c0cf364",
   "metadata": {},
   "outputs": [
    {
     "data": {
      "text/plain": [
       "float"
      ]
     },
     "execution_count": 148,
     "metadata": {},
     "output_type": "execute_result"
    }
   ],
   "source": [
    "type(30.5)"
   ]
  },
  {
   "cell_type": "code",
   "execution_count": 149,
   "id": "338b7814",
   "metadata": {},
   "outputs": [
    {
     "data": {
      "text/plain": [
       "'apple'"
      ]
     },
     "execution_count": 149,
     "metadata": {},
     "output_type": "execute_result"
    }
   ],
   "source": [
    "'apple'"
   ]
  },
  {
   "cell_type": "code",
   "execution_count": 150,
   "id": "720930f2",
   "metadata": {},
   "outputs": [
    {
     "data": {
      "text/plain": [
       "str"
      ]
     },
     "execution_count": 150,
     "metadata": {},
     "output_type": "execute_result"
    }
   ],
   "source": [
    "type(\"apple\")"
   ]
  },
  {
   "cell_type": "code",
   "execution_count": 151,
   "id": "0acbccee",
   "metadata": {},
   "outputs": [
    {
     "data": {
      "text/plain": [
       "'서울 특별시'"
      ]
     },
     "execution_count": 151,
     "metadata": {},
     "output_type": "execute_result"
    }
   ],
   "source": [
    "\"서울 특별시\""
   ]
  },
  {
   "cell_type": "code",
   "execution_count": 152,
   "id": "0f8ba157",
   "metadata": {},
   "outputs": [
    {
     "data": {
      "text/plain": [
       "str"
      ]
     },
     "execution_count": 152,
     "metadata": {},
     "output_type": "execute_result"
    }
   ],
   "source": [
    "type('서울 특별시')"
   ]
  },
  {
   "cell_type": "code",
   "execution_count": 153,
   "id": "c9da0a6d",
   "metadata": {},
   "outputs": [
    {
     "data": {
      "text/plain": [
       "True"
      ]
     },
     "execution_count": 153,
     "metadata": {},
     "output_type": "execute_result"
    }
   ],
   "source": [
    "True"
   ]
  },
  {
   "cell_type": "code",
   "execution_count": 154,
   "id": "80fbdd79",
   "metadata": {},
   "outputs": [
    {
     "data": {
      "text/plain": [
       "bool"
      ]
     },
     "execution_count": 154,
     "metadata": {},
     "output_type": "execute_result"
    }
   ],
   "source": [
    "type(True)"
   ]
  },
  {
   "cell_type": "code",
   "execution_count": 155,
   "id": "dffea5c2",
   "metadata": {},
   "outputs": [
    {
     "data": {
      "text/plain": [
       "False"
      ]
     },
     "execution_count": 155,
     "metadata": {},
     "output_type": "execute_result"
    }
   ],
   "source": [
    "False"
   ]
  },
  {
   "cell_type": "code",
   "execution_count": 156,
   "id": "44bce8e2",
   "metadata": {},
   "outputs": [
    {
     "data": {
      "text/plain": [
       "bool"
      ]
     },
     "execution_count": 156,
     "metadata": {},
     "output_type": "execute_result"
    }
   ],
   "source": [
    "type(False)"
   ]
  },
  {
   "cell_type": "markdown",
   "id": "da825980",
   "metadata": {},
   "source": [
    "## 변수명 variable"
   ]
  },
  {
   "cell_type": "code",
   "execution_count": 157,
   "id": "128267bf",
   "metadata": {},
   "outputs": [
    {
     "data": {
      "text/plain": [
       "3"
      ]
     },
     "execution_count": 157,
     "metadata": {},
     "output_type": "execute_result"
    }
   ],
   "source": [
    "3"
   ]
  },
  {
   "cell_type": "code",
   "execution_count": 158,
   "id": "1a07918b",
   "metadata": {},
   "outputs": [],
   "source": [
    "a = 3"
   ]
  },
  {
   "cell_type": "code",
   "execution_count": 159,
   "id": "692a2eb2",
   "metadata": {},
   "outputs": [
    {
     "data": {
      "text/plain": [
       "3"
      ]
     },
     "execution_count": 159,
     "metadata": {},
     "output_type": "execute_result"
    }
   ],
   "source": [
    "a"
   ]
  },
  {
   "cell_type": "code",
   "execution_count": 160,
   "id": "d8a4d2bb",
   "metadata": {},
   "outputs": [],
   "source": [
    "a = 5"
   ]
  },
  {
   "cell_type": "code",
   "execution_count": 161,
   "id": "56a830f6",
   "metadata": {},
   "outputs": [],
   "source": [
    "a = a + 3"
   ]
  },
  {
   "cell_type": "code",
   "execution_count": 162,
   "id": "9a15ffd4",
   "metadata": {},
   "outputs": [
    {
     "data": {
      "text/plain": [
       "8"
      ]
     },
     "execution_count": 162,
     "metadata": {},
     "output_type": "execute_result"
    }
   ],
   "source": [
    "a"
   ]
  },
  {
   "cell_type": "code",
   "execution_count": 163,
   "id": "fc842366",
   "metadata": {},
   "outputs": [],
   "source": [
    "b = a + 3"
   ]
  },
  {
   "cell_type": "code",
   "execution_count": 164,
   "id": "e5bf5a34",
   "metadata": {},
   "outputs": [
    {
     "data": {
      "text/plain": [
       "11"
      ]
     },
     "execution_count": 164,
     "metadata": {},
     "output_type": "execute_result"
    }
   ],
   "source": [
    "b"
   ]
  },
  {
   "cell_type": "markdown",
   "id": "c8436a67",
   "metadata": {},
   "source": [
    "## 확장 치환 연산자 augmented assignment operator"
   ]
  },
  {
   "cell_type": "code",
   "execution_count": 165,
   "id": "b670a764",
   "metadata": {},
   "outputs": [],
   "source": [
    "a = 1"
   ]
  },
  {
   "cell_type": "code",
   "execution_count": 166,
   "id": "9d3ae7c2",
   "metadata": {},
   "outputs": [
    {
     "data": {
      "text/plain": [
       "3"
      ]
     },
     "execution_count": 166,
     "metadata": {},
     "output_type": "execute_result"
    }
   ],
   "source": [
    "a = a + 2\n",
    "a"
   ]
  },
  {
   "cell_type": "code",
   "execution_count": 167,
   "id": "128a5ecd",
   "metadata": {},
   "outputs": [
    {
     "data": {
      "text/plain": [
       "8"
      ]
     },
     "execution_count": 167,
     "metadata": {},
     "output_type": "execute_result"
    }
   ],
   "source": [
    "b = 3\n",
    "b += 5\n",
    "b"
   ]
  },
  {
   "cell_type": "code",
   "execution_count": 168,
   "id": "fc2d1998",
   "metadata": {},
   "outputs": [
    {
     "data": {
      "text/plain": [
       "-2"
      ]
     },
     "execution_count": 168,
     "metadata": {},
     "output_type": "execute_result"
    }
   ],
   "source": [
    "a -= 5\n",
    "a"
   ]
  },
  {
   "cell_type": "code",
   "execution_count": 169,
   "id": "53a7f8bd",
   "metadata": {},
   "outputs": [
    {
     "data": {
      "text/plain": [
       "16"
      ]
     },
     "execution_count": 169,
     "metadata": {},
     "output_type": "execute_result"
    }
   ],
   "source": [
    "b *= 2\n",
    "b"
   ]
  },
  {
   "cell_type": "code",
   "execution_count": 170,
   "id": "6d298eee",
   "metadata": {},
   "outputs": [
    {
     "data": {
      "text/plain": [
       "-0.125"
      ]
     },
     "execution_count": 170,
     "metadata": {},
     "output_type": "execute_result"
    }
   ],
   "source": [
    "a /= b\n",
    "a"
   ]
  },
  {
   "cell_type": "code",
   "execution_count": 171,
   "id": "c7ff42e5",
   "metadata": {},
   "outputs": [
    {
     "data": {
      "text/plain": [
       "256"
      ]
     },
     "execution_count": 171,
     "metadata": {},
     "output_type": "execute_result"
    }
   ],
   "source": [
    "b **= 2 # 거듭제곱\n",
    "b"
   ]
  },
  {
   "cell_type": "code",
   "execution_count": 172,
   "id": "774c3283",
   "metadata": {},
   "outputs": [
    {
     "data": {
      "text/plain": [
       "128"
      ]
     },
     "execution_count": 172,
     "metadata": {},
     "output_type": "execute_result"
    }
   ],
   "source": [
    "b //= 2 # 몫\n",
    "b"
   ]
  },
  {
   "cell_type": "code",
   "execution_count": 173,
   "id": "78ac43f4",
   "metadata": {},
   "outputs": [
    {
     "data": {
      "text/plain": [
       "0"
      ]
     },
     "execution_count": 173,
     "metadata": {},
     "output_type": "execute_result"
    }
   ],
   "source": [
    "b %= 16 # 나머지\n",
    "b"
   ]
  },
  {
   "cell_type": "markdown",
   "id": "a76ddc09",
   "metadata": {},
   "source": [
    "## 기본 데이터 구조 data structure"
   ]
  },
  {
   "cell_type": "code",
   "execution_count": 174,
   "id": "c7696325",
   "metadata": {},
   "outputs": [
    {
     "data": {
      "text/plain": [
       "[1, 'abc', True]"
      ]
     },
     "execution_count": 174,
     "metadata": {},
     "output_type": "execute_result"
    }
   ],
   "source": [
    "[1, 'abc', True]"
   ]
  },
  {
   "cell_type": "code",
   "execution_count": 175,
   "id": "41ef6fd2",
   "metadata": {},
   "outputs": [
    {
     "data": {
      "text/plain": [
       "list"
      ]
     },
     "execution_count": 175,
     "metadata": {},
     "output_type": "execute_result"
    }
   ],
   "source": [
    "type([1, 'abc', True])"
   ]
  },
  {
   "cell_type": "code",
   "execution_count": 176,
   "id": "f8a49b1b",
   "metadata": {},
   "outputs": [
    {
     "data": {
      "text/plain": [
       "(1, 'abc', True)"
      ]
     },
     "execution_count": 176,
     "metadata": {},
     "output_type": "execute_result"
    }
   ],
   "source": [
    "(1, 'abc', True)"
   ]
  },
  {
   "cell_type": "code",
   "execution_count": 177,
   "id": "07398177",
   "metadata": {},
   "outputs": [
    {
     "data": {
      "text/plain": [
       "tuple"
      ]
     },
     "execution_count": 177,
     "metadata": {},
     "output_type": "execute_result"
    }
   ],
   "source": [
    "type((1, 'abc', True))"
   ]
  },
  {
   "cell_type": "code",
   "execution_count": 178,
   "id": "82633d4b",
   "metadata": {},
   "outputs": [
    {
     "data": {
      "text/plain": [
       "{1: 'a', 2: 'b', 3: 'b'}"
      ]
     },
     "execution_count": 178,
     "metadata": {},
     "output_type": "execute_result"
    }
   ],
   "source": [
    "{1:'a', 2:'b', 3:'b'}"
   ]
  },
  {
   "cell_type": "code",
   "execution_count": 179,
   "id": "b3546b9e",
   "metadata": {},
   "outputs": [
    {
     "data": {
      "text/plain": [
       "dict"
      ]
     },
     "execution_count": 179,
     "metadata": {},
     "output_type": "execute_result"
    }
   ],
   "source": [
    "type({1:'a', 2:'b', 3:'b'})"
   ]
  },
  {
   "cell_type": "code",
   "execution_count": 180,
   "id": "6fb7ce90",
   "metadata": {},
   "outputs": [
    {
     "data": {
      "text/plain": [
       "{1, 'a', 'b'}"
      ]
     },
     "execution_count": 180,
     "metadata": {},
     "output_type": "execute_result"
    }
   ],
   "source": [
    "{'b', 'a', 1}"
   ]
  },
  {
   "cell_type": "code",
   "execution_count": 181,
   "id": "151774eb",
   "metadata": {},
   "outputs": [
    {
     "data": {
      "text/plain": [
       "set"
      ]
     },
     "execution_count": 181,
     "metadata": {},
     "output_type": "execute_result"
    }
   ],
   "source": [
    "type({'b', 'a', 1})"
   ]
  },
  {
   "cell_type": "markdown",
   "id": "00de0413",
   "metadata": {},
   "source": [
    "## 연습문제 1"
   ]
  },
  {
   "cell_type": "code",
   "execution_count": 182,
   "id": "2fa12279",
   "metadata": {},
   "outputs": [
    {
     "data": {
      "text/plain": [
       "str"
      ]
     },
     "execution_count": 182,
     "metadata": {},
     "output_type": "execute_result"
    }
   ],
   "source": [
    "type('True') # str\n",
    "# type('True') == 'str' # False\n",
    "# type('True') == str # True\n",
    "# 'str'이랑 str도 다르다. 'str'은 문자열, str은 자료형"
   ]
  },
  {
   "cell_type": "code",
   "execution_count": 183,
   "id": "13980e26",
   "metadata": {},
   "outputs": [
    {
     "data": {
      "text/plain": [
       "tuple"
      ]
     },
     "execution_count": 183,
     "metadata": {},
     "output_type": "execute_result"
    }
   ],
   "source": [
    "type((3, 5, [7, 9])) # tuple"
   ]
  },
  {
   "cell_type": "code",
   "execution_count": 184,
   "id": "1a0feebd",
   "metadata": {},
   "outputs": [
    {
     "data": {
      "text/plain": [
       "dict"
      ]
     },
     "execution_count": 184,
     "metadata": {},
     "output_type": "execute_result"
    }
   ],
   "source": [
    "type({(1,2):[1,2], 3:'a'}) # dict"
   ]
  },
  {
   "cell_type": "code",
   "execution_count": 185,
   "id": "db2b7170",
   "metadata": {},
   "outputs": [
    {
     "data": {
      "text/plain": [
       "'\\n/   나눗셈 -> 실수\\n//  몫    -> 정수\\n%   나머지 -> 실수\\n'"
      ]
     },
     "execution_count": 185,
     "metadata": {},
     "output_type": "execute_result"
    }
   ],
   "source": [
    "a = 6\n",
    "b = 3\n",
    "a //= b # 나눗셈, 나머지는 무조건 실수로 처리됨.\n",
    "\n",
    "'''\n",
    "/   나눗셈 -> 실수\n",
    "//  몫    -> 정수\n",
    "%   나머지 -> 실수\n",
    "'''"
   ]
  },
  {
   "cell_type": "code",
   "execution_count": 186,
   "id": "ba3bdc55",
   "metadata": {},
   "outputs": [
    {
     "data": {
      "text/plain": [
       "2"
      ]
     },
     "execution_count": 186,
     "metadata": {},
     "output_type": "execute_result"
    }
   ],
   "source": [
    "a # 2\n",
    "# 2 vs 2.0"
   ]
  },
  {
   "cell_type": "code",
   "execution_count": 187,
   "id": "4604dcf4",
   "metadata": {},
   "outputs": [
    {
     "data": {
      "text/plain": [
       "3"
      ]
     },
     "execution_count": 187,
     "metadata": {},
     "output_type": "execute_result"
    }
   ],
   "source": [
    "b # 3"
   ]
  },
  {
   "cell_type": "markdown",
   "id": "eafb1a70",
   "metadata": {},
   "source": [
    "## 데이터 구조와 for 제어문"
   ]
  },
  {
   "cell_type": "code",
   "execution_count": 188,
   "id": "75003a75",
   "metadata": {},
   "outputs": [
    {
     "name": "stdout",
     "output_type": "stream",
     "text": [
      "a\n",
      "b\n",
      "c\n"
     ]
    }
   ],
   "source": [
    "for x in 'abc':\n",
    "    print(x)"
   ]
  },
  {
   "cell_type": "code",
   "execution_count": 189,
   "id": "0cd1283d",
   "metadata": {},
   "outputs": [
    {
     "name": "stdout",
     "output_type": "stream",
     "text": [
      "1\n",
      "abc\n",
      "True\n"
     ]
    }
   ],
   "source": [
    "for x in [1, 'abc', True]:\n",
    "    print(x)"
   ]
  },
  {
   "cell_type": "code",
   "execution_count": 190,
   "id": "8fe62c80",
   "metadata": {},
   "outputs": [
    {
     "name": "stdout",
     "output_type": "stream",
     "text": [
      "1\n",
      "2\n",
      "3\n"
     ]
    }
   ],
   "source": [
    "for x in {1:'a', 2:'b', 3:'b'}:\n",
    "    print(x)\n",
    "# dict는 순서가 있다."
   ]
  },
  {
   "cell_type": "code",
   "execution_count": 191,
   "id": "eed4701b",
   "metadata": {},
   "outputs": [
    {
     "name": "stdout",
     "output_type": "stream",
     "text": [
      "a\n",
      "1\n",
      "b\n"
     ]
    }
   ],
   "source": [
    "for x in {1, 'a', 'b'}:\n",
    "    print(x)\n",
    "# set은 순서가 없다."
   ]
  },
  {
   "cell_type": "markdown",
   "id": "5e21e639",
   "metadata": {},
   "source": [
    "## 데이터 구조와 함수 len"
   ]
  },
  {
   "cell_type": "code",
   "execution_count": 192,
   "id": "dec730c9",
   "metadata": {},
   "outputs": [],
   "source": [
    "a = 'abc'\n",
    "b = [1, 'abc', True]\n",
    "c = {1: 'a', 2:'b', 3: 'b'}\n",
    "d = {1, 'a', 'b'}"
   ]
  },
  {
   "cell_type": "code",
   "execution_count": 193,
   "id": "fb46a27f",
   "metadata": {},
   "outputs": [
    {
     "name": "stdout",
     "output_type": "stream",
     "text": [
      "3\n",
      "3\n",
      "3\n",
      "3\n"
     ]
    }
   ],
   "source": [
    "print(len(a))\n",
    "print(len(b))\n",
    "print(len(c))\n",
    "print(len(d))\n",
    "# print(len(30)) # int는 길이가 없다."
   ]
  },
  {
   "cell_type": "markdown",
   "id": "d650326f",
   "metadata": {},
   "source": [
    "## 함수 function"
   ]
  },
  {
   "cell_type": "code",
   "execution_count": 194,
   "id": "2338c95b",
   "metadata": {},
   "outputs": [
    {
     "name": "stdout",
     "output_type": "stream",
     "text": [
      "10\n",
      "10\n",
      "3\n",
      "10\n"
     ]
    }
   ],
   "source": [
    "print(sum([1, 2, 3, 4]))\n",
    "print(sum((1, 2, 3, 4)))\n",
    "print(sum({1:10, 2:20}))\n",
    "print(sum({1, 2, 3, 4}))"
   ]
  },
  {
   "cell_type": "code",
   "execution_count": 195,
   "id": "2103d40c",
   "metadata": {},
   "outputs": [
    {
     "data": {
      "text/plain": [
       "3"
      ]
     },
     "execution_count": 195,
     "metadata": {},
     "output_type": "execute_result"
    }
   ],
   "source": [
    "int(3.5)"
   ]
  },
  {
   "cell_type": "code",
   "execution_count": 196,
   "id": "fd861b73",
   "metadata": {},
   "outputs": [
    {
     "data": {
      "text/plain": [
       "3.5"
      ]
     },
     "execution_count": 196,
     "metadata": {},
     "output_type": "execute_result"
    }
   ],
   "source": [
    "float('3.5')"
   ]
  },
  {
   "cell_type": "code",
   "execution_count": 197,
   "id": "0da4002b",
   "metadata": {},
   "outputs": [
    {
     "data": {
      "text/plain": [
       "'3.5'"
      ]
     },
     "execution_count": 197,
     "metadata": {},
     "output_type": "execute_result"
    }
   ],
   "source": [
    "str(3.5)"
   ]
  },
  {
   "cell_type": "code",
   "execution_count": 198,
   "id": "60efffde",
   "metadata": {},
   "outputs": [
    {
     "data": {
      "text/plain": [
       "3.16"
      ]
     },
     "execution_count": 198,
     "metadata": {},
     "output_type": "execute_result"
    }
   ],
   "source": [
    "round(3.1592, 2)"
   ]
  },
  {
   "cell_type": "code",
   "execution_count": 199,
   "id": "aa84bece",
   "metadata": {},
   "outputs": [
    {
     "data": {
      "text/plain": [
       "8"
      ]
     },
     "execution_count": 199,
     "metadata": {},
     "output_type": "execute_result"
    }
   ],
   "source": [
    "pow(2, 3)"
   ]
  },
  {
   "cell_type": "code",
   "execution_count": 200,
   "id": "18f92fee",
   "metadata": {},
   "outputs": [
    {
     "data": {
      "text/plain": [
       "(3, 1)"
      ]
     },
     "execution_count": 200,
     "metadata": {},
     "output_type": "execute_result"
    }
   ],
   "source": [
    "divmod(10, 3)"
   ]
  },
  {
   "cell_type": "code",
   "execution_count": 201,
   "id": "c9b0fb4f",
   "metadata": {},
   "outputs": [],
   "source": [
    "# mean([1,2,3,4])"
   ]
  },
  {
   "cell_type": "markdown",
   "id": "0510fa69",
   "metadata": {},
   "source": [
    "## 연습문제 2"
   ]
  },
  {
   "cell_type": "code",
   "execution_count": 202,
   "id": "56e35893",
   "metadata": {},
   "outputs": [
    {
     "name": "stdout",
     "output_type": "stream",
     "text": [
      "2\n",
      "3\n",
      "3\n",
      "12\n",
      "3\n",
      "111\n"
     ]
    }
   ],
   "source": [
    "for i in [[1, 2], {3, 4, 5}, {1:'a', 10:'b', 100:'c'}]:\n",
    "    print(len(i))\n",
    "    print(sum(i))"
   ]
  },
  {
   "cell_type": "markdown",
   "id": "80f05a94",
   "metadata": {},
   "source": [
    "# **문자열 string**"
   ]
  },
  {
   "cell_type": "markdown",
   "id": "ae1584c9",
   "metadata": {},
   "source": [
    "## 문자열 이스케이프 문자"
   ]
  },
  {
   "cell_type": "code",
   "execution_count": 203,
   "id": "5108d9a4",
   "metadata": {},
   "outputs": [
    {
     "data": {
      "text/plain": [
       "'나는\\t학교에\\t갔다'"
      ]
     },
     "execution_count": 203,
     "metadata": {},
     "output_type": "execute_result"
    }
   ],
   "source": [
    "a = '나는\\t학교에\\t갔다'\n",
    "a"
   ]
  },
  {
   "cell_type": "code",
   "execution_count": 204,
   "id": "95ad2185",
   "metadata": {},
   "outputs": [
    {
     "name": "stdout",
     "output_type": "stream",
     "text": [
      "나는\t학교에\t갔다\n"
     ]
    }
   ],
   "source": [
    "print(a)"
   ]
  },
  {
   "cell_type": "code",
   "execution_count": 205,
   "id": "2b91b1e0",
   "metadata": {},
   "outputs": [
    {
     "data": {
      "text/plain": [
       "'나는\\n학교에\\n갔다'"
      ]
     },
     "execution_count": 205,
     "metadata": {},
     "output_type": "execute_result"
    }
   ],
   "source": [
    "b = '나는\\n학교에\\n갔다'\n",
    "b"
   ]
  },
  {
   "cell_type": "code",
   "execution_count": 206,
   "id": "7a5e50f1",
   "metadata": {},
   "outputs": [
    {
     "name": "stdout",
     "output_type": "stream",
     "text": [
      "나는\n",
      "학교에\n",
      "갔다\n"
     ]
    }
   ],
   "source": [
    "print(b)"
   ]
  },
  {
   "cell_type": "code",
   "execution_count": 207,
   "id": "97d4e79d",
   "metadata": {},
   "outputs": [
    {
     "data": {
      "text/plain": [
       "'\\'\"'"
      ]
     },
     "execution_count": 207,
     "metadata": {},
     "output_type": "execute_result"
    }
   ],
   "source": [
    "'\\'\\\"'"
   ]
  },
  {
   "cell_type": "code",
   "execution_count": 208,
   "id": "1da1409b",
   "metadata": {},
   "outputs": [
    {
     "name": "stdout",
     "output_type": "stream",
     "text": [
      "'\"\n"
     ]
    }
   ],
   "source": [
    "print('\\'\\\"')"
   ]
  },
  {
   "cell_type": "code",
   "execution_count": 209,
   "id": "db024ebd",
   "metadata": {},
   "outputs": [
    {
     "data": {
      "text/plain": [
       "'\\\\'"
      ]
     },
     "execution_count": 209,
     "metadata": {},
     "output_type": "execute_result"
    }
   ],
   "source": [
    "'\\\\'"
   ]
  },
  {
   "cell_type": "code",
   "execution_count": 210,
   "id": "823d64f4",
   "metadata": {},
   "outputs": [
    {
     "name": "stdout",
     "output_type": "stream",
     "text": [
      "\\\n"
     ]
    }
   ],
   "source": [
    "print('\\\\')"
   ]
  },
  {
   "cell_type": "markdown",
   "id": "95556192",
   "metadata": {},
   "source": [
    "## indexing"
   ]
  },
  {
   "cell_type": "code",
   "execution_count": 211,
   "id": "9edefc3e",
   "metadata": {},
   "outputs": [],
   "source": [
    "a = 'python PYTHON\\tdata\\nDATA'"
   ]
  },
  {
   "cell_type": "code",
   "execution_count": 212,
   "id": "ead2a95d",
   "metadata": {},
   "outputs": [
    {
     "data": {
      "text/plain": [
       "'p'"
      ]
     },
     "execution_count": 212,
     "metadata": {},
     "output_type": "execute_result"
    }
   ],
   "source": [
    "a[0]"
   ]
  },
  {
   "cell_type": "code",
   "execution_count": 213,
   "id": "89279886",
   "metadata": {},
   "outputs": [
    {
     "data": {
      "text/plain": [
       "'\\n'"
      ]
     },
     "execution_count": 213,
     "metadata": {},
     "output_type": "execute_result"
    }
   ],
   "source": [
    "a[-5]"
   ]
  },
  {
   "cell_type": "code",
   "execution_count": 214,
   "id": "fff09c8d",
   "metadata": {},
   "outputs": [
    {
     "data": {
      "text/plain": [
       "'n'"
      ]
     },
     "execution_count": 214,
     "metadata": {},
     "output_type": "execute_result"
    }
   ],
   "source": [
    "a[5]"
   ]
  },
  {
   "cell_type": "code",
   "execution_count": 215,
   "id": "33dfbd41",
   "metadata": {},
   "outputs": [],
   "source": [
    "# a[len(a)]"
   ]
  },
  {
   "cell_type": "code",
   "execution_count": 216,
   "id": "e8493a3e",
   "metadata": {},
   "outputs": [
    {
     "name": "stdout",
     "output_type": "stream",
     "text": [
      "A A\n"
     ]
    },
    {
     "data": {
      "text/plain": [
       "23"
      ]
     },
     "execution_count": 216,
     "metadata": {},
     "output_type": "execute_result"
    }
   ],
   "source": [
    "print(a[22], a[-1])\n",
    "len(a)"
   ]
  },
  {
   "cell_type": "markdown",
   "id": "bda99d6f",
   "metadata": {},
   "source": [
    "## slicing"
   ]
  },
  {
   "cell_type": "code",
   "execution_count": 217,
   "id": "fea1e1f1",
   "metadata": {},
   "outputs": [],
   "source": [
    "a = 'abcde'; b = list(a)"
   ]
  },
  {
   "cell_type": "code",
   "execution_count": 218,
   "id": "57681611",
   "metadata": {},
   "outputs": [
    {
     "data": {
      "text/plain": [
       "'ab'"
      ]
     },
     "execution_count": 218,
     "metadata": {},
     "output_type": "execute_result"
    }
   ],
   "source": [
    "a[0:2]"
   ]
  },
  {
   "cell_type": "code",
   "execution_count": 219,
   "id": "6d049ac8",
   "metadata": {},
   "outputs": [
    {
     "data": {
      "text/plain": [
       "['a', 'b']"
      ]
     },
     "execution_count": 219,
     "metadata": {},
     "output_type": "execute_result"
    }
   ],
   "source": [
    "b[0:2]"
   ]
  },
  {
   "cell_type": "code",
   "execution_count": 220,
   "id": "728b3bf5",
   "metadata": {},
   "outputs": [
    {
     "data": {
      "text/plain": [
       "'ab'"
      ]
     },
     "execution_count": 220,
     "metadata": {},
     "output_type": "execute_result"
    }
   ],
   "source": [
    "a[:2]"
   ]
  },
  {
   "cell_type": "code",
   "execution_count": 221,
   "id": "3a220c45",
   "metadata": {},
   "outputs": [
    {
     "data": {
      "text/plain": [
       "'abcde'"
      ]
     },
     "execution_count": 221,
     "metadata": {},
     "output_type": "execute_result"
    }
   ],
   "source": [
    "a[0:]"
   ]
  },
  {
   "cell_type": "code",
   "execution_count": 222,
   "id": "1af51e0d",
   "metadata": {},
   "outputs": [
    {
     "data": {
      "text/plain": [
       "'abcd'"
      ]
     },
     "execution_count": 222,
     "metadata": {},
     "output_type": "execute_result"
    }
   ],
   "source": [
    "a[:-1]"
   ]
  },
  {
   "cell_type": "code",
   "execution_count": 223,
   "id": "a248d275",
   "metadata": {},
   "outputs": [
    {
     "data": {
      "text/plain": [
       "'abcde'"
      ]
     },
     "execution_count": 223,
     "metadata": {},
     "output_type": "execute_result"
    }
   ],
   "source": [
    "a[:]"
   ]
  },
  {
   "cell_type": "markdown",
   "id": "955eb784",
   "metadata": {},
   "source": [
    "## for 구문과 문자열"
   ]
  },
  {
   "cell_type": "code",
   "execution_count": 224,
   "id": "42bb57f9",
   "metadata": {},
   "outputs": [
    {
     "data": {
      "text/plain": [
       "'abcde'"
      ]
     },
     "execution_count": 224,
     "metadata": {},
     "output_type": "execute_result"
    }
   ],
   "source": [
    "a"
   ]
  },
  {
   "cell_type": "code",
   "execution_count": 225,
   "id": "cd0a79ca",
   "metadata": {},
   "outputs": [
    {
     "name": "stdout",
     "output_type": "stream",
     "text": [
      "a\n",
      "b\n",
      "c\n",
      "d\n",
      "e\n"
     ]
    }
   ],
   "source": [
    "for i in a:\n",
    "    print(i)"
   ]
  },
  {
   "cell_type": "markdown",
   "id": "b66260ea",
   "metadata": {},
   "source": [
    "## 문자열과 리스트의 연결 및 반복"
   ]
  },
  {
   "cell_type": "code",
   "execution_count": 226,
   "id": "a0c40b17",
   "metadata": {},
   "outputs": [],
   "source": [
    "a = 'abcde'"
   ]
  },
  {
   "cell_type": "code",
   "execution_count": 227,
   "id": "33283e82",
   "metadata": {},
   "outputs": [
    {
     "data": {
      "text/plain": [
       "'abcstrde'"
      ]
     },
     "execution_count": 227,
     "metadata": {},
     "output_type": "execute_result"
    }
   ],
   "source": [
    "a[:3] + 'str' + a[3:]"
   ]
  },
  {
   "cell_type": "code",
   "execution_count": 228,
   "id": "9d147209",
   "metadata": {},
   "outputs": [
    {
     "data": {
      "text/plain": [
       "'abcdeabcdeabcde'"
      ]
     },
     "execution_count": 228,
     "metadata": {},
     "output_type": "execute_result"
    }
   ],
   "source": [
    "a * 3"
   ]
  },
  {
   "cell_type": "code",
   "execution_count": 229,
   "id": "1dc9aa7a",
   "metadata": {},
   "outputs": [
    {
     "data": {
      "text/plain": [
       "'abcdeabcdeabcde'"
      ]
     },
     "execution_count": 229,
     "metadata": {},
     "output_type": "execute_result"
    }
   ],
   "source": [
    "3 * a"
   ]
  },
  {
   "cell_type": "code",
   "execution_count": 230,
   "id": "0ca779ab",
   "metadata": {},
   "outputs": [],
   "source": [
    "# a + 2"
   ]
  },
  {
   "cell_type": "code",
   "execution_count": 231,
   "id": "ba95f98a",
   "metadata": {},
   "outputs": [
    {
     "data": {
      "text/plain": [
       "'abcde2'"
      ]
     },
     "execution_count": 231,
     "metadata": {},
     "output_type": "execute_result"
    }
   ],
   "source": [
    "a + '2'"
   ]
  },
  {
   "cell_type": "markdown",
   "id": "62cfbabb",
   "metadata": {},
   "source": [
    "## 멤버쉽 테스트: in"
   ]
  },
  {
   "cell_type": "code",
   "execution_count": 232,
   "id": "300cb0c4",
   "metadata": {},
   "outputs": [],
   "source": [
    "a = 'abcde'"
   ]
  },
  {
   "cell_type": "code",
   "execution_count": 233,
   "id": "af41c5fb",
   "metadata": {},
   "outputs": [
    {
     "data": {
      "text/plain": [
       "True"
      ]
     },
     "execution_count": 233,
     "metadata": {},
     "output_type": "execute_result"
    }
   ],
   "source": [
    "'a' in a"
   ]
  },
  {
   "cell_type": "code",
   "execution_count": 234,
   "id": "6089aeca",
   "metadata": {},
   "outputs": [
    {
     "data": {
      "text/plain": [
       "True"
      ]
     },
     "execution_count": 234,
     "metadata": {},
     "output_type": "execute_result"
    }
   ],
   "source": [
    "'bcd' in a"
   ]
  },
  {
   "cell_type": "code",
   "execution_count": 235,
   "id": "bd027dcc",
   "metadata": {},
   "outputs": [
    {
     "data": {
      "text/plain": [
       "True"
      ]
     },
     "execution_count": 235,
     "metadata": {},
     "output_type": "execute_result"
    }
   ],
   "source": [
    "'' in a"
   ]
  },
  {
   "cell_type": "code",
   "execution_count": 236,
   "id": "31ebf2eb",
   "metadata": {},
   "outputs": [
    {
     "data": {
      "text/plain": [
       "False"
      ]
     },
     "execution_count": 236,
     "metadata": {},
     "output_type": "execute_result"
    }
   ],
   "source": [
    "'dc' in a"
   ]
  },
  {
   "cell_type": "code",
   "execution_count": 237,
   "id": "432df6be",
   "metadata": {},
   "outputs": [
    {
     "data": {
      "text/plain": [
       "False"
      ]
     },
     "execution_count": 237,
     "metadata": {},
     "output_type": "execute_result"
    }
   ],
   "source": [
    "not 'a' in a"
   ]
  },
  {
   "cell_type": "code",
   "execution_count": 238,
   "id": "08172645",
   "metadata": {},
   "outputs": [
    {
     "data": {
      "text/plain": [
       "False"
      ]
     },
     "execution_count": 238,
     "metadata": {},
     "output_type": "execute_result"
    }
   ],
   "source": [
    "not 'a' in b"
   ]
  },
  {
   "cell_type": "code",
   "execution_count": 239,
   "id": "61da6054",
   "metadata": {},
   "outputs": [
    {
     "data": {
      "text/plain": [
       "False"
      ]
     },
     "execution_count": 239,
     "metadata": {},
     "output_type": "execute_result"
    }
   ],
   "source": [
    "'a' not in a"
   ]
  },
  {
   "cell_type": "code",
   "execution_count": 240,
   "id": "c6df8521",
   "metadata": {},
   "outputs": [
    {
     "data": {
      "text/plain": [
       "True"
      ]
     },
     "execution_count": 240,
     "metadata": {},
     "output_type": "execute_result"
    }
   ],
   "source": [
    "'ac' not in a"
   ]
  },
  {
   "cell_type": "markdown",
   "id": "a46381aa",
   "metadata": {},
   "source": [
    "## 연습문제 3"
   ]
  },
  {
   "cell_type": "code",
   "execution_count": 241,
   "id": "c4195e71",
   "metadata": {},
   "outputs": [],
   "source": [
    "a = 'abcde'"
   ]
  },
  {
   "cell_type": "code",
   "execution_count": 242,
   "id": "392b2a7d",
   "metadata": {},
   "outputs": [
    {
     "data": {
      "text/plain": [
       "'ab'"
      ]
     },
     "execution_count": 242,
     "metadata": {},
     "output_type": "execute_result"
    }
   ],
   "source": [
    "a[0:2] # 'ab'"
   ]
  },
  {
   "cell_type": "code",
   "execution_count": 243,
   "id": "ade2f80c",
   "metadata": {},
   "outputs": [
    {
     "data": {
      "text/plain": [
       "'abcde'"
      ]
     },
     "execution_count": 243,
     "metadata": {},
     "output_type": "execute_result"
    }
   ],
   "source": [
    "a[0:] # 'abcde'"
   ]
  },
  {
   "cell_type": "code",
   "execution_count": 244,
   "id": "83a9afff",
   "metadata": {},
   "outputs": [
    {
     "data": {
      "text/plain": [
       "'abcd'"
      ]
     },
     "execution_count": 244,
     "metadata": {},
     "output_type": "execute_result"
    }
   ],
   "source": [
    "a[:-1]"
   ]
  },
  {
   "cell_type": "code",
   "execution_count": 245,
   "id": "b6f68d55",
   "metadata": {},
   "outputs": [
    {
     "data": {
      "text/plain": [
       "'abcde'"
      ]
     },
     "execution_count": 245,
     "metadata": {},
     "output_type": "execute_result"
    }
   ],
   "source": [
    "a[:]"
   ]
  },
  {
   "cell_type": "code",
   "execution_count": 246,
   "id": "5d3bd188",
   "metadata": {},
   "outputs": [
    {
     "data": {
      "text/plain": [
       "'abcde'"
      ]
     },
     "execution_count": 246,
     "metadata": {},
     "output_type": "execute_result"
    }
   ],
   "source": [
    "a[:len(a)]"
   ]
  },
  {
   "cell_type": "code",
   "execution_count": 247,
   "id": "23d90fff",
   "metadata": {},
   "outputs": [
    {
     "data": {
      "text/plain": [
       "True"
      ]
     },
     "execution_count": 247,
     "metadata": {},
     "output_type": "execute_result"
    }
   ],
   "source": [
    "'a' in a # True"
   ]
  },
  {
   "cell_type": "code",
   "execution_count": 248,
   "id": "5eb7cc54",
   "metadata": {},
   "outputs": [
    {
     "data": {
      "text/plain": [
       "True"
      ]
     },
     "execution_count": 248,
     "metadata": {},
     "output_type": "execute_result"
    }
   ],
   "source": [
    "'bcd' in a"
   ]
  },
  {
   "cell_type": "code",
   "execution_count": 249,
   "id": "ad46d1ef",
   "metadata": {},
   "outputs": [
    {
     "data": {
      "text/plain": [
       "True"
      ]
     },
     "execution_count": 249,
     "metadata": {},
     "output_type": "execute_result"
    }
   ],
   "source": [
    "'' in a"
   ]
  },
  {
   "cell_type": "markdown",
   "id": "a33d5e47",
   "metadata": {},
   "source": [
    "## 대소문자 변환 메서드"
   ]
  },
  {
   "cell_type": "code",
   "execution_count": 250,
   "id": "5521721a",
   "metadata": {},
   "outputs": [
    {
     "data": {
      "text/plain": [
       "'i like programming.'"
      ]
     },
     "execution_count": 250,
     "metadata": {},
     "output_type": "execute_result"
    }
   ],
   "source": [
    "s = 'i like programming.'\n",
    "s"
   ]
  },
  {
   "cell_type": "code",
   "execution_count": 251,
   "id": "fd120627",
   "metadata": {},
   "outputs": [
    {
     "data": {
      "text/plain": [
       "'I LIKE PROGRAMMING.'"
      ]
     },
     "execution_count": 251,
     "metadata": {},
     "output_type": "execute_result"
    }
   ],
   "source": [
    "s.upper()"
   ]
  },
  {
   "cell_type": "code",
   "execution_count": 252,
   "id": "6febcb3d",
   "metadata": {},
   "outputs": [
    {
     "data": {
      "text/plain": [
       "'i like programming.'"
      ]
     },
     "execution_count": 252,
     "metadata": {},
     "output_type": "execute_result"
    }
   ],
   "source": [
    "s.lower()"
   ]
  },
  {
   "cell_type": "code",
   "execution_count": 253,
   "id": "e781a753",
   "metadata": {},
   "outputs": [
    {
     "data": {
      "text/plain": [
       "'I Like Programming.'"
      ]
     },
     "execution_count": 253,
     "metadata": {},
     "output_type": "execute_result"
    }
   ],
   "source": [
    "s.title()"
   ]
  },
  {
   "cell_type": "code",
   "execution_count": 254,
   "id": "92a17e62",
   "metadata": {},
   "outputs": [
    {
     "data": {
      "text/plain": [
       "'I like programming.'"
      ]
     },
     "execution_count": 254,
     "metadata": {},
     "output_type": "execute_result"
    }
   ],
   "source": [
    "s.capitalize()"
   ]
  },
  {
   "cell_type": "code",
   "execution_count": 255,
   "id": "814bc614",
   "metadata": {},
   "outputs": [],
   "source": [
    "txt = \"36 is my age.\""
   ]
  },
  {
   "cell_type": "code",
   "execution_count": 256,
   "id": "ab74451b",
   "metadata": {},
   "outputs": [
    {
     "data": {
      "text/plain": [
       "'36 IS MY AGE.'"
      ]
     },
     "execution_count": 256,
     "metadata": {},
     "output_type": "execute_result"
    }
   ],
   "source": [
    "txt.upper()"
   ]
  },
  {
   "cell_type": "code",
   "execution_count": 257,
   "id": "da010a35",
   "metadata": {},
   "outputs": [
    {
     "data": {
      "text/plain": [
       "'36 is my age.'"
      ]
     },
     "execution_count": 257,
     "metadata": {},
     "output_type": "execute_result"
    }
   ],
   "source": [
    "txt.capitalize()"
   ]
  },
  {
   "cell_type": "code",
   "execution_count": 258,
   "id": "e09c1744",
   "metadata": {},
   "outputs": [
    {
     "data": {
      "text/plain": [
       "'36 Is My Age.'"
      ]
     },
     "execution_count": 258,
     "metadata": {},
     "output_type": "execute_result"
    }
   ],
   "source": [
    "txt.title()"
   ]
  },
  {
   "cell_type": "code",
   "execution_count": 259,
   "id": "2ebcb471",
   "metadata": {},
   "outputs": [
    {
     "data": {
      "text/plain": [
       "'I like programming.'"
      ]
     },
     "execution_count": 259,
     "metadata": {},
     "output_type": "execute_result"
    }
   ],
   "source": [
    "s.title().upper().capitalize()"
   ]
  },
  {
   "cell_type": "markdown",
   "id": "12d5ec93",
   "metadata": {},
   "source": [
    "## 메서드와 함수\n",
    "\n",
    "- 메서드: s.title().upper().capitalize()\n",
    "- 함수: capitalize(upper(title(s)))\n",
    "- 메서드가 인지적으로 조금 더 편하다.\n",
    "\n",
    "- 각 메서드는 특정 데이터 구조에만 적용 가능하고 결과도 다 다름.\n",
    "  - 그렇기 때문에 사용법을 명확히 알아야 함. 엄청 헷갈려~~"
   ]
  },
  {
   "cell_type": "markdown",
   "id": "d3f8f8bd",
   "metadata": {},
   "source": [
    "## 검색 관련 메서드(str 관련)"
   ]
  },
  {
   "cell_type": "code",
   "execution_count": 260,
   "id": "ae2e769b",
   "metadata": {},
   "outputs": [
    {
     "data": {
      "text/plain": [
       "'i like programming.'"
      ]
     },
     "execution_count": 260,
     "metadata": {},
     "output_type": "execute_result"
    }
   ],
   "source": [
    "s"
   ]
  },
  {
   "cell_type": "markdown",
   "id": "db51797d",
   "metadata": {},
   "source": [
    "str.count() : int <br/>\n",
    "str.endswith(), str.startswith() : bool"
   ]
  },
  {
   "cell_type": "code",
   "execution_count": 261,
   "id": "664131f6",
   "metadata": {},
   "outputs": [
    {
     "data": {
      "text/plain": [
       "(3, 1)"
      ]
     },
     "execution_count": 261,
     "metadata": {},
     "output_type": "execute_result"
    }
   ],
   "source": [
    "s.count('i'), s.count('ik')"
   ]
  },
  {
   "cell_type": "code",
   "execution_count": 262,
   "id": "b2c87db7",
   "metadata": {},
   "outputs": [
    {
     "data": {
      "text/plain": [
       "(True, False)"
      ]
     },
     "execution_count": 262,
     "metadata": {},
     "output_type": "execute_result"
    }
   ],
   "source": [
    "s.endswith('g.'), s.endswith('ng')"
   ]
  },
  {
   "cell_type": "code",
   "execution_count": 263,
   "id": "4627fb63",
   "metadata": {},
   "outputs": [
    {
     "data": {
      "text/plain": [
       "(True, False)"
      ]
     },
     "execution_count": 263,
     "metadata": {},
     "output_type": "execute_result"
    }
   ],
   "source": [
    "s.startswith('i l'), s.startswith('il')"
   ]
  },
  {
   "cell_type": "markdown",
   "id": "c94f4a00",
   "metadata": {},
   "source": [
    "## 문자 유형 판별 메서드\n",
    "is가 들어가는 메서드는 모두 True/Falsle를 반환한다.\n",
    "\n",
    "- isalnum()\n",
    "- isalpha()\n",
    "- isdigit()\n",
    "- islower()\n",
    "- isprintable()\n",
    "- isspace()\n",
    "- istitle()\n",
    "- isupper()"
   ]
  },
  {
   "cell_type": "markdown",
   "id": "cbd18492",
   "metadata": {},
   "source": [
    "## 제거 메서드"
   ]
  },
  {
   "cell_type": "markdown",
   "id": "7527fecd",
   "metadata": {},
   "source": [
    "목록에 있는 게 사이드에 하나라도 있으면 제거하는 것이다. <br/>\n",
    "사이드가 아닌 중앙에 있으면 거기서 제거는 끝남!! <br/>\n",
    "제거하고 목록에 또 있으면 제거해 나가는 형식이다."
   ]
  },
  {
   "cell_type": "code",
   "execution_count": 264,
   "id": "52e1a4a6",
   "metadata": {},
   "outputs": [],
   "source": [
    "u = '\\tspam\\n and ham\\n'"
   ]
  },
  {
   "cell_type": "code",
   "execution_count": 265,
   "id": "73933bbd",
   "metadata": {},
   "outputs": [
    {
     "name": "stdout",
     "output_type": "stream",
     "text": [
      "\tspam\n",
      " and ham\n",
      "\n"
     ]
    }
   ],
   "source": [
    "print(u)"
   ]
  },
  {
   "cell_type": "code",
   "execution_count": 266,
   "id": "9dddeef3",
   "metadata": {},
   "outputs": [
    {
     "data": {
      "text/plain": [
       "'spam\\n and ham'"
      ]
     },
     "execution_count": 266,
     "metadata": {},
     "output_type": "execute_result"
    }
   ],
   "source": [
    "u.strip()"
   ]
  },
  {
   "cell_type": "code",
   "execution_count": 267,
   "id": "be4298ba",
   "metadata": {},
   "outputs": [
    {
     "data": {
      "text/plain": [
       "('\\tspam\\n and ham', 'spam\\n and ham\\n')"
      ]
     },
     "execution_count": 267,
     "metadata": {},
     "output_type": "execute_result"
    }
   ],
   "source": [
    "u.rstrip(), u.lstrip()"
   ]
  },
  {
   "cell_type": "code",
   "execution_count": 268,
   "id": "5956c608",
   "metadata": {},
   "outputs": [
    {
     "data": {
      "text/plain": [
       "'><<ab<><><<'"
      ]
     },
     "execution_count": 268,
     "metadata": {},
     "output_type": "execute_result"
    }
   ],
   "source": [
    "'><<ab<><><<\\t\\n'.strip()"
   ]
  },
  {
   "cell_type": "code",
   "execution_count": 269,
   "id": "9e634f8b",
   "metadata": {},
   "outputs": [
    {
     "data": {
      "text/plain": [
       "'ab<><><<\\t\\n'"
      ]
     },
     "execution_count": 269,
     "metadata": {},
     "output_type": "execute_result"
    }
   ],
   "source": [
    "'><<ab<><><<\\t\\n'.strip('><')"
   ]
  },
  {
   "cell_type": "code",
   "execution_count": 270,
   "id": "047c9ea7",
   "metadata": {},
   "outputs": [
    {
     "data": {
      "text/plain": [
       "'ab'"
      ]
     },
     "execution_count": 270,
     "metadata": {},
     "output_type": "execute_result"
    }
   ],
   "source": [
    "'><<ab<><><<\\t\\n'.strip('\\t\\n<>')"
   ]
  },
  {
   "cell_type": "code",
   "execution_count": 271,
   "id": "449c3ea7",
   "metadata": {},
   "outputs": [
    {
     "data": {
      "text/plain": [
       "'example'"
      ]
     },
     "execution_count": 271,
     "metadata": {},
     "output_type": "execute_result"
    }
   ],
   "source": [
    "'www.example.com'.strip('cmxwoaz.')"
   ]
  },
  {
   "cell_type": "markdown",
   "id": "397ee473",
   "metadata": {},
   "source": [
    "## 치환 메서드"
   ]
  },
  {
   "cell_type": "code",
   "execution_count": 273,
   "id": "d19406c4",
   "metadata": {},
   "outputs": [
    {
     "data": {
      "text/plain": [
       "'스팸 ham'"
      ]
     },
     "execution_count": 273,
     "metadata": {},
     "output_type": "execute_result"
    }
   ],
   "source": [
    "u = 'spam and ham'\n",
    "u.replace('spam and', '스팸')"
   ]
  },
  {
   "cell_type": "markdown",
   "id": "0f130c0f",
   "metadata": {},
   "source": [
    "## 문자열 분리"
   ]
  },
  {
   "cell_type": "code",
   "execution_count": 280,
   "id": "8ed77d4e",
   "metadata": {},
   "outputs": [
    {
     "data": {
      "text/plain": [
       "['spam', 'and', 'ham']"
      ]
     },
     "execution_count": 280,
     "metadata": {},
     "output_type": "execute_result"
    }
   ],
   "source": [
    "u = '\\tspam\\n and ham\\n '\n",
    "u.split()"
   ]
  },
  {
   "cell_type": "markdown",
   "id": "412c4560",
   "metadata": {},
   "source": [
    "\\t, \\n, ' '가 지워진다.<br/>\n",
    "split 오른쪽엔 추가적인 메서드를 쓸 수 없다.<br/>\n",
    "**쪼개지는 앞 뒤에 빈 공백에 하나 있다고 생각하기**"
   ]
  },
  {
   "cell_type": "code",
   "execution_count": 284,
   "id": "99a2dc9f",
   "metadata": {},
   "outputs": [
    {
     "data": {
      "text/plain": [
       "['\\tspam\\n', 'and', 'ham\\n', '']"
      ]
     },
     "execution_count": 284,
     "metadata": {},
     "output_type": "execute_result"
    }
   ],
   "source": [
    "u.split(' ')"
   ]
  },
  {
   "cell_type": "code",
   "execution_count": 285,
   "id": "c782b057",
   "metadata": {},
   "outputs": [
    {
     "data": {
      "text/plain": [
       "['', '\\n and ham\\n ']"
      ]
     },
     "execution_count": 285,
     "metadata": {},
     "output_type": "execute_result"
    }
   ],
   "source": [
    "u.split('\\tspam')"
   ]
  },
  {
   "cell_type": "code",
   "execution_count": 286,
   "id": "c8b62ce0",
   "metadata": {},
   "outputs": [
    {
     "data": {
      "text/plain": [
       "['\\tspam\\n and ham\\n ']"
      ]
     },
     "execution_count": 286,
     "metadata": {},
     "output_type": "execute_result"
    }
   ],
   "source": [
    "u.split('\\t\\n')"
   ]
  },
  {
   "cell_type": "code",
   "execution_count": 294,
   "id": "4056fafe",
   "metadata": {},
   "outputs": [
    {
     "data": {
      "text/plain": [
       "['', '']"
      ]
     },
     "execution_count": 294,
     "metadata": {},
     "output_type": "execute_result"
    }
   ],
   "source": [
    "u.split(u)"
   ]
  },
  {
   "cell_type": "markdown",
   "id": "935cb068",
   "metadata": {},
   "source": [
    "## 데이터구조 원소를 문자열로"
   ]
  },
  {
   "cell_type": "code",
   "execution_count": 287,
   "id": "3dc5690e",
   "metadata": {},
   "outputs": [],
   "source": [
    "a = 'abc'; b = list(a)"
   ]
  },
  {
   "cell_type": "code",
   "execution_count": null,
   "id": "3d215499",
   "metadata": {},
   "outputs": [
    {
     "data": {
      "text/plain": [
       "'a:b:c'"
      ]
     },
     "execution_count": 288,
     "metadata": {},
     "output_type": "execute_result"
    }
   ],
   "source": [
    "':'.join(a) # 원소 사이사이에 :를 추가하기"
   ]
  },
  {
   "cell_type": "code",
   "execution_count": 289,
   "id": "f4244a31",
   "metadata": {},
   "outputs": [
    {
     "data": {
      "text/plain": [
       "'a:b:c'"
      ]
     },
     "execution_count": 289,
     "metadata": {},
     "output_type": "execute_result"
    }
   ],
   "source": [
    "':'.join(b)"
   ]
  },
  {
   "cell_type": "code",
   "execution_count": 290,
   "id": "b9fd7c27",
   "metadata": {},
   "outputs": [
    {
     "data": {
      "text/plain": [
       "'aapplebapplec'"
      ]
     },
     "execution_count": 290,
     "metadata": {},
     "output_type": "execute_result"
    }
   ],
   "source": [
    "'apple'.join(a)"
   ]
  },
  {
   "cell_type": "code",
   "execution_count": 291,
   "id": "4decff0e",
   "metadata": {},
   "outputs": [
    {
     "data": {
      "text/plain": [
       "'aapplebapplec'"
      ]
     },
     "execution_count": 291,
     "metadata": {},
     "output_type": "execute_result"
    }
   ],
   "source": [
    "'apple'.join(b)"
   ]
  },
  {
   "cell_type": "code",
   "execution_count": 293,
   "id": "bc2a38bc",
   "metadata": {},
   "outputs": [
    {
     "name": "stdout",
     "output_type": "stream",
     "text": [
      "a\n",
      "b\n",
      "c\n"
     ]
    }
   ],
   "source": [
    "print('\\n'.join(a))\n",
    "# 원소 사이사이를 라인 단위로 출력하고 싶으면 이걸 바로 쓰면 된다!! 짱 간단"
   ]
  },
  {
   "cell_type": "markdown",
   "id": "b656a195",
   "metadata": {},
   "source": [
    "## 연습문제 4"
   ]
  },
  {
   "cell_type": "code",
   "execution_count": 297,
   "id": "23227682",
   "metadata": {},
   "outputs": [
    {
     "name": "stdout",
     "output_type": "stream",
     "text": [
      "\tspam\n",
      " and ham\n",
      " \n"
     ]
    }
   ],
   "source": [
    "u = '\\tspam\\n and ham\\n '\n",
    "print(u)"
   ]
  },
  {
   "cell_type": "code",
   "execution_count": 298,
   "id": "90412bdb",
   "metadata": {},
   "outputs": [
    {
     "data": {
      "text/plain": [
       "'spam\\n and ham'"
      ]
     },
     "execution_count": 298,
     "metadata": {},
     "output_type": "execute_result"
    }
   ],
   "source": [
    "u.strip()"
   ]
  },
  {
   "cell_type": "code",
   "execution_count": 299,
   "id": "543e9623",
   "metadata": {},
   "outputs": [
    {
     "data": {
      "text/plain": [
       "'\\tspam\\n and ham'"
      ]
     },
     "execution_count": 299,
     "metadata": {},
     "output_type": "execute_result"
    }
   ],
   "source": [
    "u.rstrip()"
   ]
  },
  {
   "cell_type": "code",
   "execution_count": 300,
   "id": "2db69532",
   "metadata": {},
   "outputs": [
    {
     "data": {
      "text/plain": [
       "'spam\\n and ham\\n '"
      ]
     },
     "execution_count": 300,
     "metadata": {},
     "output_type": "execute_result"
    }
   ],
   "source": [
    "u.lstrip()"
   ]
  },
  {
   "cell_type": "code",
   "execution_count": 301,
   "id": "a6d13f61",
   "metadata": {},
   "outputs": [
    {
     "data": {
      "text/plain": [
       "['spam', 'and', 'ham']"
      ]
     },
     "execution_count": 301,
     "metadata": {},
     "output_type": "execute_result"
    }
   ],
   "source": [
    "u.split()"
   ]
  },
  {
   "cell_type": "code",
   "execution_count": 302,
   "id": "2a00ed08",
   "metadata": {},
   "outputs": [
    {
     "data": {
      "text/plain": [
       "['\\tspam\\n', 'and', 'ham\\n', '']"
      ]
     },
     "execution_count": 302,
     "metadata": {},
     "output_type": "execute_result"
    }
   ],
   "source": [
    "u.split(' ')"
   ]
  }
 ],
 "metadata": {
  "kernelspec": {
   "display_name": "Python 3",
   "language": "python",
   "name": "python3"
  },
  "language_info": {
   "codemirror_mode": {
    "name": "ipython",
    "version": 3
   },
   "file_extension": ".py",
   "mimetype": "text/x-python",
   "name": "python",
   "nbconvert_exporter": "python",
   "pygments_lexer": "ipython3",
   "version": "3.11.9"
  }
 },
 "nbformat": 4,
 "nbformat_minor": 5
}
