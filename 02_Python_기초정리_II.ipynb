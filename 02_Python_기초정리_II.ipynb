{
 "cells": [
  {
   "cell_type": "markdown",
   "id": "989cec3b",
   "metadata": {},
   "source": [
    "# 데이터 구조 유형과 특성\n",
    "## 산술연산자와 비교/논리 연산자(복습)\n",
    "## Sequence: string, list, tuple"
   ]
  },
  {
   "cell_type": "code",
   "execution_count": 1,
   "id": "4a8b4f26",
   "metadata": {},
   "outputs": [],
   "source": [
    "a = 'abcd'; b = list(a); c = tuple(a)"
   ]
  },
  {
   "cell_type": "code",
   "execution_count": 2,
   "id": "727e0948",
   "metadata": {},
   "outputs": [
    {
     "data": {
      "text/plain": [
       "'abcd'"
      ]
     },
     "execution_count": 2,
     "metadata": {},
     "output_type": "execute_result"
    }
   ],
   "source": [
    "a"
   ]
  },
  {
   "cell_type": "code",
   "execution_count": 3,
   "id": "1876c712",
   "metadata": {},
   "outputs": [
    {
     "name": "stdout",
     "output_type": "stream",
     "text": [
      "['a', 'b', 'c', 'd']\n",
      "('a', 'b', 'c', 'd')\n"
     ]
    }
   ],
   "source": [
    "print(b)\n",
    "print(c)"
   ]
  },
  {
   "cell_type": "code",
   "execution_count": 4,
   "id": "9d337555",
   "metadata": {},
   "outputs": [
    {
     "data": {
      "text/plain": [
       "'a'"
      ]
     },
     "execution_count": 4,
     "metadata": {},
     "output_type": "execute_result"
    }
   ],
   "source": [
    "a[0:1]"
   ]
  },
  {
   "cell_type": "code",
   "execution_count": 5,
   "id": "fb7c2793",
   "metadata": {},
   "outputs": [
    {
     "data": {
      "text/plain": [
       "['a']"
      ]
     },
     "execution_count": 5,
     "metadata": {},
     "output_type": "execute_result"
    }
   ],
   "source": [
    "b[0:1]"
   ]
  },
  {
   "cell_type": "code",
   "execution_count": 6,
   "id": "0c39ac37",
   "metadata": {},
   "outputs": [
    {
     "data": {
      "text/plain": [
       "('a',)"
      ]
     },
     "execution_count": 6,
     "metadata": {},
     "output_type": "execute_result"
    }
   ],
   "source": [
    "c[0:1]"
   ]
  },
  {
   "cell_type": "markdown",
   "id": "68d0dfaf",
   "metadata": {},
   "source": [
    "튜플은 원소가 하나여도 ,를 찍어준다!!<br/>\n",
    "인덱싱은 구조를 분해함. 원소를 출력함<br/>\n",
    "슬라이싱은 구조를 분해하지 못함(차원 축소를 못함). 그래서 원소로 안 나옴."
   ]
  },
  {
   "cell_type": "code",
   "execution_count": 7,
   "id": "5a653b7e",
   "metadata": {},
   "outputs": [
    {
     "name": "stdout",
     "output_type": "stream",
     "text": [
      "<class 'str'>\n",
      "<class 'tuple'>\n"
     ]
    }
   ],
   "source": [
    "print(type(('a')))\n",
    "print(type(('a',)))"
   ]
  },
  {
   "cell_type": "code",
   "execution_count": 8,
   "id": "d02ce90d",
   "metadata": {},
   "outputs": [
    {
     "data": {
      "text/plain": [
       "'abcdab'"
      ]
     },
     "execution_count": 8,
     "metadata": {},
     "output_type": "execute_result"
    }
   ],
   "source": [
    "a + a[:2]"
   ]
  },
  {
   "cell_type": "code",
   "execution_count": 9,
   "id": "f5a27377",
   "metadata": {},
   "outputs": [
    {
     "data": {
      "text/plain": [
       "['a', 'b', 'c', 'd', 'a', 'b']"
      ]
     },
     "execution_count": 9,
     "metadata": {},
     "output_type": "execute_result"
    }
   ],
   "source": [
    "# b + b[2] # 오류가 뜬다. 리스트를 인덱싱하면 원소가 나오기 때문에.\n",
    "b + b[:2]"
   ]
  },
  {
   "cell_type": "code",
   "execution_count": 10,
   "id": "df1ab410",
   "metadata": {},
   "outputs": [
    {
     "data": {
      "text/plain": [
       "('a', 'b', 'c', 'd', 'a', 'b')"
      ]
     },
     "execution_count": 10,
     "metadata": {},
     "output_type": "execute_result"
    }
   ],
   "source": [
    "c + c[:2]"
   ]
  },
  {
   "cell_type": "code",
   "execution_count": 11,
   "id": "7b5efc43",
   "metadata": {},
   "outputs": [
    {
     "data": {
      "text/plain": [
       "'aaa'"
      ]
     },
     "execution_count": 11,
     "metadata": {},
     "output_type": "execute_result"
    }
   ],
   "source": [
    "a[0] * 3"
   ]
  },
  {
   "cell_type": "code",
   "execution_count": 12,
   "id": "8ec98be0",
   "metadata": {},
   "outputs": [
    {
     "data": {
      "text/plain": [
       "['a', 'b', 'a', 'b']"
      ]
     },
     "execution_count": 12,
     "metadata": {},
     "output_type": "execute_result"
    }
   ],
   "source": [
    "b[:2] * 2"
   ]
  },
  {
   "cell_type": "code",
   "execution_count": 13,
   "id": "06978edc",
   "metadata": {},
   "outputs": [
    {
     "data": {
      "text/plain": [
       "('c', 'c', 'c')"
      ]
     },
     "execution_count": 13,
     "metadata": {},
     "output_type": "execute_result"
    }
   ],
   "source": [
    "c[2:3] * 3 # 슬라이싱은 차원 축소를 못 한다!!!\n",
    "# c[2] * 3          # 'ccc'"
   ]
  },
  {
   "cell_type": "markdown",
   "id": "b63e166a",
   "metadata": {},
   "source": [
    "## iterable type"
   ]
  },
  {
   "cell_type": "code",
   "execution_count": 14,
   "id": "e7b75c04",
   "metadata": {},
   "outputs": [],
   "source": [
    "a = 'abcd'; b = list(a); c = tuple(a)\n",
    "d = {'a':2, 'b':1}; e = {2, 12, 3, 2}"
   ]
  },
  {
   "cell_type": "code",
   "execution_count": 15,
   "id": "678951a5",
   "metadata": {},
   "outputs": [
    {
     "data": {
      "text/plain": [
       "{'a': 2, 'b': 1}"
      ]
     },
     "execution_count": 15,
     "metadata": {},
     "output_type": "execute_result"
    }
   ],
   "source": [
    "d"
   ]
  },
  {
   "cell_type": "code",
   "execution_count": 16,
   "id": "57e6fad9",
   "metadata": {},
   "outputs": [
    {
     "data": {
      "text/plain": [
       "{2, 3, 12}"
      ]
     },
     "execution_count": 16,
     "metadata": {},
     "output_type": "execute_result"
    }
   ],
   "source": [
    "e # 중복이 제거됨."
   ]
  },
  {
   "cell_type": "code",
   "execution_count": 17,
   "id": "ab318ae0",
   "metadata": {},
   "outputs": [
    {
     "name": "stdout",
     "output_type": "stream",
     "text": [
      "a\n",
      "b\n"
     ]
    }
   ],
   "source": [
    "for i in d:\n",
    "    print(i)\n",
    "# dict는 key만 나온다."
   ]
  },
  {
   "cell_type": "code",
   "execution_count": 18,
   "id": "61c2df4e",
   "metadata": {},
   "outputs": [
    {
     "name": "stdout",
     "output_type": "stream",
     "text": [
      "2\n",
      "3\n",
      "12\n"
     ]
    }
   ],
   "source": [
    "for i in e:\n",
    "    print(i)\n",
    "# random 하게 출력된다."
   ]
  },
  {
   "cell_type": "markdown",
   "id": "9f0a1fb6",
   "metadata": {},
   "source": [
    "## mutable/immutable type"
   ]
  },
  {
   "cell_type": "markdown",
   "id": "1e5f0476",
   "metadata": {},
   "source": [
    "output cell에 출력된다 == 원본이 유지된다."
   ]
  },
  {
   "cell_type": "code",
   "execution_count": 19,
   "id": "9cdd6589",
   "metadata": {},
   "outputs": [],
   "source": [
    "a = ['a', 'b', 'c', 'd']\n",
    "b = ('a', 'b', 'c', 'd')"
   ]
  },
  {
   "cell_type": "code",
   "execution_count": 20,
   "id": "f6e5ebdb",
   "metadata": {},
   "outputs": [
    {
     "data": {
      "text/plain": [
       "['A', 'b', 'c', 'd']"
      ]
     },
     "execution_count": 20,
     "metadata": {},
     "output_type": "execute_result"
    }
   ],
   "source": [
    "a[0] = 'A'; a"
   ]
  },
  {
   "cell_type": "code",
   "execution_count": 21,
   "id": "0ffe9367",
   "metadata": {},
   "outputs": [],
   "source": [
    "# b[0] = 'A' # tuple은 값을 못 바꾼다."
   ]
  },
  {
   "cell_type": "markdown",
   "id": "5ea249fc",
   "metadata": {},
   "source": [
    "변경 불가능한 것들은 set의 원소, dict의 키가 될 수 있다.\n",
    "- bool, int, float, str, tuple, (frozenset)\n",
    "\n",
    "변경 가능한 것들은 set의 원소, dict의 키가 될 수 없다.\n",
    "- list, set, dict, ..."
   ]
  },
  {
   "cell_type": "markdown",
   "id": "b912b2db",
   "metadata": {},
   "source": [
    "## hashable\n",
    "\n",
    "정보 검색 방식<br/>\n",
    "unique + immutable type"
   ]
  },
  {
   "cell_type": "markdown",
   "id": "3a737007",
   "metadata": {},
   "source": [
    "## 리스트 메서드"
   ]
  },
  {
   "cell_type": "code",
   "execution_count": 22,
   "id": "6bce7288",
   "metadata": {},
   "outputs": [],
   "source": [
    "a = [1, 2, 1, 2, 3]"
   ]
  },
  {
   "cell_type": "code",
   "execution_count": 23,
   "id": "a88d907b",
   "metadata": {},
   "outputs": [
    {
     "data": {
      "text/plain": [
       "[1, 2, 1, 2, 3, 3]"
      ]
     },
     "execution_count": 23,
     "metadata": {},
     "output_type": "execute_result"
    }
   ],
   "source": [
    "a.append(3); a\n",
    "# iterable한 애들은 원소로 들어감.\n",
    "# 그 자체가 포함된다.\n",
    "# b = a.append(3); \n",
    "# 이거는 b에 아무것도 안 담김. a만 바뀐다. 치환문 적용 불가!"
   ]
  },
  {
   "cell_type": "code",
   "execution_count": 24,
   "id": "372e8247",
   "metadata": {},
   "outputs": [
    {
     "data": {
      "text/plain": [
       "[1, 2, 1, 2, 3, 3, 4, 5]"
      ]
     },
     "execution_count": 24,
     "metadata": {},
     "output_type": "execute_result"
    }
   ],
   "source": [
    "a.extend([4, 5]); a\n",
    "# iterable한 애들만 올 수 있다('ab' 이런 것도 올 수 있음).\n",
    "# for문 생각하면 편하다. 쪼개져서 포함됨."
   ]
  },
  {
   "cell_type": "code",
   "execution_count": 25,
   "id": "d141cc7e",
   "metadata": {},
   "outputs": [
    {
     "data": {
      "text/plain": [
       "[1, 1, 2, 3, 3, 4, 5]"
      ]
     },
     "execution_count": 25,
     "metadata": {},
     "output_type": "execute_result"
    }
   ],
   "source": [
    "a.remove(2); a\n",
    "# 원소를 넣어야 함.\n",
    "# 원소 중 처음 온 것이 없어짐."
   ]
  },
  {
   "cell_type": "code",
   "execution_count": 26,
   "id": "61ca8944",
   "metadata": {},
   "outputs": [],
   "source": [
    "a.insert(2, 10); \n",
    "# 해당 인덱스에 값을 넣음."
   ]
  },
  {
   "cell_type": "code",
   "execution_count": 27,
   "id": "11516ab1",
   "metadata": {},
   "outputs": [
    {
     "data": {
      "text/plain": [
       "2"
      ]
     },
     "execution_count": 27,
     "metadata": {},
     "output_type": "execute_result"
    }
   ],
   "source": [
    "a.count(3) # count는 치환문 가능(output 출력)"
   ]
  },
  {
   "cell_type": "code",
   "execution_count": 28,
   "id": "603d9fac",
   "metadata": {},
   "outputs": [
    {
     "data": {
      "text/plain": [
       "[5, 4, 3, 3, 2, 10, 1, 1]"
      ]
     },
     "execution_count": 28,
     "metadata": {},
     "output_type": "execute_result"
    }
   ],
   "source": [
    "a.reverse(); a"
   ]
  },
  {
   "cell_type": "code",
   "execution_count": 29,
   "id": "a192f236",
   "metadata": {},
   "outputs": [
    {
     "data": {
      "text/plain": [
       "[1, 1, 2, 3, 3, 4, 5, 10]"
      ]
     },
     "execution_count": 29,
     "metadata": {},
     "output_type": "execute_result"
    }
   ],
   "source": [
    "a.sort(); a\n",
    "# 알파벳 오름차순"
   ]
  },
  {
   "cell_type": "code",
   "execution_count": 30,
   "id": "cff78b56",
   "metadata": {},
   "outputs": [
    {
     "data": {
      "text/plain": [
       "[10, 5, 4, 3, 3, 2, 1, 1]"
      ]
     },
     "execution_count": 30,
     "metadata": {},
     "output_type": "execute_result"
    }
   ],
   "source": [
    "a.sort(reverse=True); a"
   ]
  },
  {
   "cell_type": "markdown",
   "id": "853b4c50",
   "metadata": {},
   "source": [
    "## 연습문제 1"
   ]
  },
  {
   "cell_type": "code",
   "execution_count": 31,
   "id": "f578e4b0",
   "metadata": {},
   "outputs": [],
   "source": [
    "a = []"
   ]
  },
  {
   "cell_type": "markdown",
   "id": "e917e8f9",
   "metadata": {},
   "source": [
    "확장: +=, -= ...<br/>\n",
    "확장의 오른쪽엔 iterable한 게 오면 된다."
   ]
  },
  {
   "cell_type": "code",
   "execution_count": 32,
   "id": "85b963f9",
   "metadata": {},
   "outputs": [
    {
     "data": {
      "text/plain": [
       "[100]"
      ]
     },
     "execution_count": 32,
     "metadata": {},
     "output_type": "execute_result"
    }
   ],
   "source": [
    "a += [100]; a"
   ]
  },
  {
   "cell_type": "code",
   "execution_count": 33,
   "id": "8df4cc33",
   "metadata": {},
   "outputs": [
    {
     "data": {
      "text/plain": [
       "[100, 'c', 'a', 't']"
      ]
     },
     "execution_count": 33,
     "metadata": {},
     "output_type": "execute_result"
    }
   ],
   "source": [
    "a += 'cat'; a"
   ]
  },
  {
   "cell_type": "code",
   "execution_count": 34,
   "id": "38dd04e9",
   "metadata": {},
   "outputs": [
    {
     "data": {
      "text/plain": [
       "[['cat'], 'c', 'a', 't']"
      ]
     },
     "execution_count": 34,
     "metadata": {},
     "output_type": "execute_result"
    }
   ],
   "source": [
    "a[0] = ['cat']; a"
   ]
  },
  {
   "cell_type": "code",
   "execution_count": 35,
   "id": "70878d59",
   "metadata": {},
   "outputs": [
    {
     "data": {
      "text/plain": [
       "['a', 't', 'c', 'a', 't']"
      ]
     },
     "execution_count": 35,
     "metadata": {},
     "output_type": "execute_result"
    }
   ],
   "source": [
    "a[0:1] = 'at'; a\n",
    "# 이렇게 해도 같다."
   ]
  },
  {
   "cell_type": "code",
   "execution_count": 36,
   "id": "131790d5",
   "metadata": {},
   "outputs": [
    {
     "data": {
      "text/plain": [
       "['a', 'c', 'a', 't']"
      ]
     },
     "execution_count": 36,
     "metadata": {},
     "output_type": "execute_result"
    }
   ],
   "source": [
    "a.remove('t'); a"
   ]
  },
  {
   "cell_type": "code",
   "execution_count": 37,
   "id": "52b7fce6",
   "metadata": {},
   "outputs": [
    {
     "data": {
      "text/plain": [
       "['a', 'a', 'c', 't']"
      ]
     },
     "execution_count": 37,
     "metadata": {},
     "output_type": "execute_result"
    }
   ],
   "source": [
    "a.sort(); a"
   ]
  },
  {
   "cell_type": "code",
   "execution_count": 38,
   "id": "0bb52b85",
   "metadata": {},
   "outputs": [
    {
     "data": {
      "text/plain": [
       "['t', 'c', 'a', 'a']"
      ]
     },
     "execution_count": 38,
     "metadata": {},
     "output_type": "execute_result"
    }
   ],
   "source": [
    "a.reverse(); a"
   ]
  },
  {
   "cell_type": "code",
   "execution_count": 39,
   "id": "96f13452",
   "metadata": {},
   "outputs": [
    {
     "data": {
      "text/plain": [
       "['t', 'c', 'a', 'a']"
      ]
     },
     "execution_count": 39,
     "metadata": {},
     "output_type": "execute_result"
    }
   ],
   "source": [
    "a"
   ]
  },
  {
   "cell_type": "code",
   "execution_count": 40,
   "id": "ec8c9964",
   "metadata": {},
   "outputs": [
    {
     "data": {
      "text/plain": [
       "['t', 'c', 'a', 'a', ['b']]"
      ]
     },
     "execution_count": 40,
     "metadata": {},
     "output_type": "execute_result"
    }
   ],
   "source": [
    "a.append(['b']); a"
   ]
  },
  {
   "cell_type": "code",
   "execution_count": 41,
   "id": "f7e9630a",
   "metadata": {},
   "outputs": [
    {
     "data": {
      "text/plain": [
       "['t', 'c', 'a', 'a']"
      ]
     },
     "execution_count": 41,
     "metadata": {},
     "output_type": "execute_result"
    }
   ],
   "source": [
    "a.remove(['b']); a"
   ]
  },
  {
   "cell_type": "code",
   "execution_count": 42,
   "id": "9a28f04c",
   "metadata": {},
   "outputs": [
    {
     "data": {
      "text/plain": [
       "['t', 'c', 'a', 'a', 'e', 'g', 'g']"
      ]
     },
     "execution_count": 42,
     "metadata": {},
     "output_type": "execute_result"
    }
   ],
   "source": [
    "a.extend('egg'); a"
   ]
  },
  {
   "cell_type": "code",
   "execution_count": 43,
   "id": "e1153a3e",
   "metadata": {},
   "outputs": [],
   "source": [
    "# a.extend(100)\n",
    "# error!!! iterable object가 아니라서\n",
    "# extend는 반드시 구조(원소가 분리되어 처리될 수 있는)여야 한다."
   ]
  },
  {
   "cell_type": "markdown",
   "id": "8c61dbde",
   "metadata": {},
   "source": [
    "## 사전 메서드\n",
    "\n",
    "동일한 키는 하나만 존재할 수 있다."
   ]
  },
  {
   "cell_type": "code",
   "execution_count": 44,
   "id": "8657c15c",
   "metadata": {},
   "outputs": [
    {
     "data": {
      "text/plain": [
       "{'b': 1, 'a': 2}"
      ]
     },
     "execution_count": 44,
     "metadata": {},
     "output_type": "execute_result"
    }
   ],
   "source": [
    "a = {'b':1, 'a':2}\n",
    "a"
   ]
  },
  {
   "cell_type": "code",
   "execution_count": 45,
   "id": "495bfac3",
   "metadata": {},
   "outputs": [
    {
     "data": {
      "text/plain": [
       "2"
      ]
     },
     "execution_count": 45,
     "metadata": {},
     "output_type": "execute_result"
    }
   ],
   "source": [
    "a['a']"
   ]
  },
  {
   "cell_type": "code",
   "execution_count": 46,
   "id": "2aa03c6f",
   "metadata": {},
   "outputs": [
    {
     "data": {
      "text/plain": [
       "{'b': 1, 'a': 3}"
      ]
     },
     "execution_count": 46,
     "metadata": {},
     "output_type": "execute_result"
    }
   ],
   "source": [
    "a['a'] = 3; a"
   ]
  },
  {
   "cell_type": "code",
   "execution_count": 47,
   "id": "c21fc640",
   "metadata": {},
   "outputs": [],
   "source": [
    "a['c'] = 3"
   ]
  },
  {
   "cell_type": "markdown",
   "id": "87ede136",
   "metadata": {},
   "source": [
    "update 안에도 iterable 한 것만 가능하다."
   ]
  },
  {
   "cell_type": "code",
   "execution_count": 48,
   "id": "67c6b57b",
   "metadata": {},
   "outputs": [],
   "source": [
    "# a.update({'b':4, 'd':5}); a\n",
    "# a.update(['a1','c3']); a"
   ]
  },
  {
   "cell_type": "code",
   "execution_count": 49,
   "id": "e1e2036d",
   "metadata": {},
   "outputs": [
    {
     "data": {
      "text/plain": [
       "dict_keys(['b', 'a', 'c'])"
      ]
     },
     "execution_count": 49,
     "metadata": {},
     "output_type": "execute_result"
    }
   ],
   "source": [
    "a.keys()"
   ]
  },
  {
   "cell_type": "code",
   "execution_count": 50,
   "id": "1a7b0e3f",
   "metadata": {},
   "outputs": [
    {
     "data": {
      "text/plain": [
       "dict_values([1, 3, 3])"
      ]
     },
     "execution_count": 50,
     "metadata": {},
     "output_type": "execute_result"
    }
   ],
   "source": [
    "a.values()"
   ]
  },
  {
   "cell_type": "code",
   "execution_count": 51,
   "id": "5e0e75e5",
   "metadata": {},
   "outputs": [
    {
     "data": {
      "text/plain": [
       "dict_items([('b', 1), ('a', 3), ('c', 3)])"
      ]
     },
     "execution_count": 51,
     "metadata": {},
     "output_type": "execute_result"
    }
   ],
   "source": [
    "a.items()"
   ]
  },
  {
   "cell_type": "markdown",
   "id": "62c92b51",
   "metadata": {},
   "source": [
    "## 집합 메서드\n",
    "update에 iterable 한 것이 올 수 있다.<br/>\n",
    "출력결과는 물론 유니크하다."
   ]
  },
  {
   "cell_type": "code",
   "execution_count": 52,
   "id": "048b57d6",
   "metadata": {},
   "outputs": [
    {
     "data": {
      "text/plain": [
       "{'ab', 'bc'}"
      ]
     },
     "execution_count": 52,
     "metadata": {},
     "output_type": "execute_result"
    }
   ],
   "source": [
    "a = {'ab', 'bc', 'bc'}; a"
   ]
  },
  {
   "cell_type": "code",
   "execution_count": 53,
   "id": "785ef214",
   "metadata": {},
   "outputs": [
    {
     "data": {
      "text/plain": [
       "{1, 'ab', 'bc'}"
      ]
     },
     "execution_count": 53,
     "metadata": {},
     "output_type": "execute_result"
    }
   ],
   "source": [
    "a.add(1); a"
   ]
  },
  {
   "cell_type": "code",
   "execution_count": 54,
   "id": "dcc12212",
   "metadata": {},
   "outputs": [
    {
     "data": {
      "text/plain": [
       "{1, 2, 3, 'ab', 'bc'}"
      ]
     },
     "execution_count": 54,
     "metadata": {},
     "output_type": "execute_result"
    }
   ],
   "source": [
    "a.update([2,3]); a"
   ]
  },
  {
   "cell_type": "code",
   "execution_count": 55,
   "id": "ea432ee6",
   "metadata": {},
   "outputs": [
    {
     "data": {
      "text/plain": [
       "{1, 2, 'ab', 'bc'}"
      ]
     },
     "execution_count": 55,
     "metadata": {},
     "output_type": "execute_result"
    }
   ],
   "source": [
    "a.discard(3); a"
   ]
  },
  {
   "cell_type": "code",
   "execution_count": 56,
   "id": "8b3a90cc",
   "metadata": {},
   "outputs": [],
   "source": [
    "a = {1,2,3}; b = {2,3,4}"
   ]
  },
  {
   "cell_type": "code",
   "execution_count": 57,
   "id": "d1eee9b6",
   "metadata": {},
   "outputs": [
    {
     "data": {
      "text/plain": [
       "{1, 2, 3, 4}"
      ]
     },
     "execution_count": 57,
     "metadata": {},
     "output_type": "execute_result"
    }
   ],
   "source": [
    "a.union(b)"
   ]
  },
  {
   "cell_type": "code",
   "execution_count": 58,
   "id": "b61a6082",
   "metadata": {},
   "outputs": [
    {
     "data": {
      "text/plain": [
       "{1, 2, 3, 4}"
      ]
     },
     "execution_count": 58,
     "metadata": {},
     "output_type": "execute_result"
    }
   ],
   "source": [
    "a | b"
   ]
  },
  {
   "cell_type": "code",
   "execution_count": 59,
   "id": "81d800db",
   "metadata": {},
   "outputs": [
    {
     "data": {
      "text/plain": [
       "{2, 3}"
      ]
     },
     "execution_count": 59,
     "metadata": {},
     "output_type": "execute_result"
    }
   ],
   "source": [
    "a.intersection(b)"
   ]
  },
  {
   "cell_type": "code",
   "execution_count": 60,
   "id": "114219f4",
   "metadata": {},
   "outputs": [
    {
     "data": {
      "text/plain": [
       "{2, 3}"
      ]
     },
     "execution_count": 60,
     "metadata": {},
     "output_type": "execute_result"
    }
   ],
   "source": [
    "a & b"
   ]
  },
  {
   "cell_type": "code",
   "execution_count": 61,
   "id": "2bea214c",
   "metadata": {},
   "outputs": [
    {
     "data": {
      "text/plain": [
       "{1}"
      ]
     },
     "execution_count": 61,
     "metadata": {},
     "output_type": "execute_result"
    }
   ],
   "source": [
    "a.difference(b)"
   ]
  },
  {
   "cell_type": "code",
   "execution_count": 62,
   "id": "b2af40d4",
   "metadata": {},
   "outputs": [
    {
     "data": {
      "text/plain": [
       "{1}"
      ]
     },
     "execution_count": 62,
     "metadata": {},
     "output_type": "execute_result"
    }
   ],
   "source": [
    "a - b"
   ]
  },
  {
   "cell_type": "code",
   "execution_count": 63,
   "id": "9bfb5f92",
   "metadata": {},
   "outputs": [
    {
     "data": {
      "text/plain": [
       "{1, 4}"
      ]
     },
     "execution_count": 63,
     "metadata": {},
     "output_type": "execute_result"
    }
   ],
   "source": [
    "a.symmetric_difference(b)"
   ]
  },
  {
   "cell_type": "code",
   "execution_count": 64,
   "id": "8f6e1771",
   "metadata": {},
   "outputs": [
    {
     "data": {
      "text/plain": [
       "{1, 4}"
      ]
     },
     "execution_count": 64,
     "metadata": {},
     "output_type": "execute_result"
    }
   ],
   "source": [
    "a ^ b"
   ]
  },
  {
   "cell_type": "code",
   "execution_count": 65,
   "id": "45812c66",
   "metadata": {},
   "outputs": [
    {
     "data": {
      "text/plain": [
       "{1, 2, 3, 4}"
      ]
     },
     "execution_count": 65,
     "metadata": {},
     "output_type": "execute_result"
    }
   ],
   "source": [
    "a.update(b); a \n",
    "# a |= b"
   ]
  },
  {
   "cell_type": "code",
   "execution_count": 66,
   "id": "5d21482c",
   "metadata": {},
   "outputs": [
    {
     "data": {
      "text/plain": [
       "{2, 3, 4}"
      ]
     },
     "execution_count": 66,
     "metadata": {},
     "output_type": "execute_result"
    }
   ],
   "source": [
    "a.intersection_update(b); a \n",
    "# a &= b"
   ]
  },
  {
   "cell_type": "code",
   "execution_count": 67,
   "id": "e3318575",
   "metadata": {},
   "outputs": [
    {
     "data": {
      "text/plain": [
       "{1}"
      ]
     },
     "execution_count": 67,
     "metadata": {},
     "output_type": "execute_result"
    }
   ],
   "source": [
    "a = {1,2,3}; b = {2,3,4}\n",
    "a.difference_update(b); a\n",
    "# a-= b"
   ]
  },
  {
   "cell_type": "code",
   "execution_count": 68,
   "id": "6d6bdb80",
   "metadata": {},
   "outputs": [
    {
     "data": {
      "text/plain": [
       "{1, 4}"
      ]
     },
     "execution_count": 68,
     "metadata": {},
     "output_type": "execute_result"
    }
   ],
   "source": [
    "a = {1,2,3}; b = {2,3,4}\n",
    "a.symmetric_difference_update(b); a\n",
    "# a ^= b"
   ]
  },
  {
   "cell_type": "markdown",
   "id": "5f0add78",
   "metadata": {},
   "source": [
    "## 연습문제 2"
   ]
  },
  {
   "cell_type": "code",
   "execution_count": 69,
   "id": "ce680336",
   "metadata": {},
   "outputs": [],
   "source": [
    "scores = {'John':3.5, 'Betty':4.2, 'Tommy':2.5}"
   ]
  },
  {
   "cell_type": "code",
   "execution_count": 70,
   "id": "49f1348a",
   "metadata": {},
   "outputs": [
    {
     "name": "stdout",
     "output_type": "stream",
     "text": [
      "John\n",
      "Betty\n",
      "Tommy\n"
     ]
    }
   ],
   "source": [
    "for i in scores: print(i)"
   ]
  },
  {
   "cell_type": "code",
   "execution_count": 71,
   "id": "fe261c93",
   "metadata": {},
   "outputs": [
    {
     "name": "stdout",
     "output_type": "stream",
     "text": [
      "John\n",
      "Betty\n",
      "Tommy\n"
     ]
    }
   ],
   "source": [
    "for i in scores.keys(): print(i)"
   ]
  },
  {
   "cell_type": "code",
   "execution_count": 72,
   "id": "0cffd618",
   "metadata": {},
   "outputs": [
    {
     "name": "stdout",
     "output_type": "stream",
     "text": [
      "('John', 3.5)\n",
      "('Betty', 4.2)\n",
      "('Tommy', 2.5)\n"
     ]
    }
   ],
   "source": [
    "for i in scores.items(): print(i)"
   ]
  },
  {
   "cell_type": "code",
   "execution_count": 73,
   "id": "190ee72b",
   "metadata": {},
   "outputs": [
    {
     "name": "stdout",
     "output_type": "stream",
     "text": [
      "John 3.5\n",
      "Betty 4.2\n",
      "Tommy 2.5\n"
     ]
    }
   ],
   "source": [
    "for i in scores: print(i, scores[i])"
   ]
  },
  {
   "cell_type": "markdown",
   "id": "e5f65990",
   "metadata": {},
   "source": [
    "## 연습문제 3"
   ]
  },
  {
   "cell_type": "markdown",
   "id": "75d97e74",
   "metadata": {},
   "source": [
    "a = {} 이렇게 선언하면 dict가 된다. set은 반드시 set() 함수를 사용해야 한다."
   ]
  },
  {
   "cell_type": "code",
   "execution_count": 74,
   "id": "53c0daaa",
   "metadata": {},
   "outputs": [
    {
     "data": {
      "text/plain": [
       "set()"
      ]
     },
     "execution_count": 74,
     "metadata": {},
     "output_type": "execute_result"
    }
   ],
   "source": [
    "a = set()\n",
    "a"
   ]
  },
  {
   "cell_type": "code",
   "execution_count": 75,
   "id": "c719afdf",
   "metadata": {},
   "outputs": [
    {
     "data": {
      "text/plain": [
       "{'a', 'b', 'c', 'd'}"
      ]
     },
     "execution_count": 75,
     "metadata": {},
     "output_type": "execute_result"
    }
   ],
   "source": [
    "a.update('bacbad'); a"
   ]
  },
  {
   "cell_type": "code",
   "execution_count": 76,
   "id": "55a9e04e",
   "metadata": {},
   "outputs": [
    {
     "data": {
      "text/plain": [
       "{'a', 'ab', 'b', 'c', 'd'}"
      ]
     },
     "execution_count": 76,
     "metadata": {},
     "output_type": "execute_result"
    }
   ],
   "source": [
    "a.add('ab'); a"
   ]
  },
  {
   "cell_type": "code",
   "execution_count": 77,
   "id": "30adc69b",
   "metadata": {},
   "outputs": [
    {
     "data": {
      "text/plain": [
       "{'a', 'ab', 'b', 'd'}"
      ]
     },
     "execution_count": 77,
     "metadata": {},
     "output_type": "execute_result"
    }
   ],
   "source": [
    "a.discard('c'); a"
   ]
  },
  {
   "cell_type": "code",
   "execution_count": 78,
   "id": "9fc46298",
   "metadata": {},
   "outputs": [
    {
     "data": {
      "text/plain": [
       "set()"
      ]
     },
     "execution_count": 78,
     "metadata": {},
     "output_type": "execute_result"
    }
   ],
   "source": [
    "a.difference(a)"
   ]
  },
  {
   "cell_type": "markdown",
   "id": "2cd92866",
   "metadata": {},
   "source": [
    "## 함수 sorted"
   ]
  },
  {
   "cell_type": "code",
   "execution_count": 79,
   "id": "c14f8026",
   "metadata": {},
   "outputs": [],
   "source": [
    "f = ['fox', 'elephant', 'lion', 'cat', 'tiger']"
   ]
  },
  {
   "cell_type": "code",
   "execution_count": 80,
   "id": "92e20c9e",
   "metadata": {},
   "outputs": [
    {
     "data": {
      "text/plain": [
       "['cat', 'elephant', 'fox', 'lion', 'tiger']"
      ]
     },
     "execution_count": 80,
     "metadata": {},
     "output_type": "execute_result"
    }
   ],
   "source": [
    "sorted(f)"
   ]
  },
  {
   "cell_type": "code",
   "execution_count": 81,
   "id": "10abb819",
   "metadata": {},
   "outputs": [
    {
     "data": {
      "text/plain": [
       "['tiger', 'lion', 'fox', 'elephant', 'cat']"
      ]
     },
     "execution_count": 81,
     "metadata": {},
     "output_type": "execute_result"
    }
   ],
   "source": [
    "sorted(f, reverse=True)"
   ]
  },
  {
   "cell_type": "code",
   "execution_count": 82,
   "id": "2b933fec",
   "metadata": {},
   "outputs": [
    {
     "data": {
      "text/plain": [
       "['fox', 'cat', 'lion', 'tiger', 'elephant']"
      ]
     },
     "execution_count": 82,
     "metadata": {},
     "output_type": "execute_result"
    }
   ],
   "source": [
    "sorted(f, key=len)\n",
    "# key에 해당하는 value의 길이로 정렬.\n",
    "# fox가 먼저 나오는 이유는 변수에 먼저 저장되어서"
   ]
  },
  {
   "cell_type": "code",
   "execution_count": 83,
   "id": "864577c5",
   "metadata": {},
   "outputs": [
    {
     "data": {
      "text/plain": [
       "['elephant', 'tiger', 'lion', 'fox', 'cat']"
      ]
     },
     "execution_count": 83,
     "metadata": {},
     "output_type": "execute_result"
    }
   ],
   "source": [
    "sorted(f, key=len, reverse=True)\n",
    "# 애도 fox, cat이다!!!!!!"
   ]
  },
  {
   "cell_type": "markdown",
   "id": "92d7ad75",
   "metadata": {},
   "source": [
    "### lambda 변수명: 출력식"
   ]
  },
  {
   "cell_type": "code",
   "execution_count": 84,
   "id": "6dbc3bdd",
   "metadata": {},
   "outputs": [
    {
     "data": {
      "text/plain": [
       "['fox', 'cat', 'lion', 'tiger', 'elephant']"
      ]
     },
     "execution_count": 84,
     "metadata": {},
     "output_type": "execute_result"
    }
   ],
   "source": [
    "sorted(f, key=lambda x: len(x))\n",
    "# sorted(f, key=len)"
   ]
  },
  {
   "cell_type": "code",
   "execution_count": 85,
   "id": "96cf370f",
   "metadata": {},
   "outputs": [
    {
     "data": {
      "text/plain": [
       "['elephant', 'tiger', 'lion', 'fox', 'cat']"
      ]
     },
     "execution_count": 85,
     "metadata": {},
     "output_type": "execute_result"
    }
   ],
   "source": [
    "sorted(f, key=lambda x: -len(x))\n",
    "# sorted(f, key=len, reverse=True)"
   ]
  },
  {
   "cell_type": "code",
   "execution_count": 86,
   "id": "e01a887d",
   "metadata": {},
   "outputs": [
    {
     "data": {
      "text/plain": [
       "['lion', 'tiger', 'elephant', 'cat', 'fox']"
      ]
     },
     "execution_count": 86,
     "metadata": {},
     "output_type": "execute_result"
    }
   ],
   "source": [
    "sorted(f, key=lambda x: x[-1])\n",
    "# 각 요소의 마지막 글자[-1]로 정렬한다. n r t t x"
   ]
  },
  {
   "cell_type": "code",
   "execution_count": 87,
   "id": "fbdaea70",
   "metadata": {},
   "outputs": [
    {
     "data": {
      "text/plain": [
       "['cat', 'tiger', 'elephant', 'fox', 'lion']"
      ]
     },
     "execution_count": 87,
     "metadata": {},
     "output_type": "execute_result"
    }
   ],
   "source": [
    "sorted(f, key=lambda x: x[-2])\n",
    "# 각 요소의 [-2]번째 글자로 정렬한다. a e n o o"
   ]
  },
  {
   "cell_type": "code",
   "execution_count": 88,
   "id": "00c88e3c",
   "metadata": {},
   "outputs": [],
   "source": [
    "a = 'bacbca'\n",
    "b = tuple(a)\n",
    "c = set(a)\n",
    "d = dict(['ab', 'bc', 'cd'])"
   ]
  },
  {
   "cell_type": "code",
   "execution_count": 89,
   "id": "73d854d0",
   "metadata": {},
   "outputs": [
    {
     "data": {
      "text/plain": [
       "('b', 'a', 'c', 'b', 'c', 'a')"
      ]
     },
     "execution_count": 89,
     "metadata": {},
     "output_type": "execute_result"
    }
   ],
   "source": [
    "b"
   ]
  },
  {
   "cell_type": "code",
   "execution_count": 90,
   "id": "6608a2b2",
   "metadata": {},
   "outputs": [
    {
     "data": {
      "text/plain": [
       "{'a', 'b', 'c'}"
      ]
     },
     "execution_count": 90,
     "metadata": {},
     "output_type": "execute_result"
    }
   ],
   "source": [
    "c"
   ]
  },
  {
   "cell_type": "markdown",
   "id": "3c822956",
   "metadata": {},
   "source": [
    "set은 순서가 없지만 자동으로 정렬되게 보이는 듯...."
   ]
  },
  {
   "cell_type": "code",
   "execution_count": 91,
   "id": "af619266",
   "metadata": {},
   "outputs": [
    {
     "data": {
      "text/plain": [
       "{'a': 'b', 'b': 'c', 'c': 'd'}"
      ]
     },
     "execution_count": 91,
     "metadata": {},
     "output_type": "execute_result"
    }
   ],
   "source": [
    "d"
   ]
  },
  {
   "cell_type": "markdown",
   "id": "3d98648a",
   "metadata": {},
   "source": [
    "sorted() 함수의 반환값은 list다. <br/>\n",
    "그래서 set도 얘를 거치면 순서가 있게 만들 수 있음."
   ]
  },
  {
   "cell_type": "code",
   "execution_count": 92,
   "id": "774f3768",
   "metadata": {},
   "outputs": [
    {
     "data": {
      "text/plain": [
       "['a', 'a', 'b', 'b', 'c', 'c']"
      ]
     },
     "execution_count": 92,
     "metadata": {},
     "output_type": "execute_result"
    }
   ],
   "source": [
    "sorted(a)"
   ]
  },
  {
   "cell_type": "code",
   "execution_count": 93,
   "id": "a0ad7264",
   "metadata": {},
   "outputs": [
    {
     "data": {
      "text/plain": [
       "['a', 'a', 'b', 'b', 'c', 'c']"
      ]
     },
     "execution_count": 93,
     "metadata": {},
     "output_type": "execute_result"
    }
   ],
   "source": [
    "sorted(b)"
   ]
  },
  {
   "cell_type": "code",
   "execution_count": 94,
   "id": "46a0a0d0",
   "metadata": {},
   "outputs": [
    {
     "data": {
      "text/plain": [
       "['a', 'b', 'c']"
      ]
     },
     "execution_count": 94,
     "metadata": {},
     "output_type": "execute_result"
    }
   ],
   "source": [
    "sorted(c)"
   ]
  },
  {
   "cell_type": "code",
   "execution_count": 95,
   "id": "c9fb6aae",
   "metadata": {},
   "outputs": [
    {
     "data": {
      "text/plain": [
       "['a', 'b', 'c']"
      ]
     },
     "execution_count": 95,
     "metadata": {},
     "output_type": "execute_result"
    }
   ],
   "source": [
    "sorted(d)"
   ]
  },
  {
   "cell_type": "markdown",
   "id": "8f77f109",
   "metadata": {},
   "source": [
    "# 파일 입출력\n",
    "이제 드디어 파일 입출력을 한다."
   ]
  },
  {
   "cell_type": "markdown",
   "id": "0c6567e9",
   "metadata": {},
   "source": [
    "## Jupyter Notebook 작업폴더 변경"
   ]
  },
  {
   "cell_type": "code",
   "execution_count": 96,
   "id": "75b6b54a",
   "metadata": {},
   "outputs": [],
   "source": [
    "import os\n",
    "os.chdir('C:/Users/yunji/Desktop/코퍼스언어학')\n",
    "# os.chdir('C:\\\\Users\\\\yunji\\\\Desktop\\\\코퍼스언어학')\n",
    "# \\를 쓸 거면 \\\\로 해야 /와 같을 수 있다."
   ]
  },
  {
   "cell_type": "markdown",
   "id": "e2b742c2",
   "metadata": {},
   "source": [
    "## 텍스트 문자 수, 어휘 수, 문단 수"
   ]
  },
  {
   "cell_type": "code",
   "execution_count": 97,
   "id": "bb88312d",
   "metadata": {},
   "outputs": [
    {
     "data": {
      "text/plain": [
       "str"
      ]
     },
     "execution_count": 97,
     "metadata": {},
     "output_type": "execute_result"
    }
   ],
   "source": [
    "text = open('02_data.txt').read()\n",
    "type(text)"
   ]
  },
  {
   "cell_type": "code",
   "execution_count": 98,
   "id": "699e7d1b",
   "metadata": {},
   "outputs": [
    {
     "data": {
      "text/plain": [
       "5424"
      ]
     },
     "execution_count": 98,
     "metadata": {},
     "output_type": "execute_result"
    }
   ],
   "source": [
    "len(text)"
   ]
  },
  {
   "cell_type": "code",
   "execution_count": 99,
   "id": "05c887fb",
   "metadata": {},
   "outputs": [
    {
     "data": {
      "text/plain": [
       "'Preheat oven to 325 degrees F with a rac'"
      ]
     },
     "execution_count": 99,
     "metadata": {},
     "output_type": "execute_result"
    }
   ],
   "source": [
    "text[:40]"
   ]
  },
  {
   "cell_type": "code",
   "execution_count": 100,
   "id": "d5440912",
   "metadata": {},
   "outputs": [
    {
     "data": {
      "text/plain": [
       "\"berries; dust with confectioners' sugar.\""
      ]
     },
     "execution_count": 100,
     "metadata": {},
     "output_type": "execute_result"
    }
   ],
   "source": [
    "text[-40:]"
   ]
  },
  {
   "cell_type": "code",
   "execution_count": 101,
   "id": "39da9ce0",
   "metadata": {},
   "outputs": [
    {
     "data": {
      "text/plain": [
       "938"
      ]
     },
     "execution_count": 101,
     "metadata": {},
     "output_type": "execute_result"
    }
   ],
   "source": [
    "len(text.split()) # 어휘 수"
   ]
  },
  {
   "cell_type": "code",
   "execution_count": 102,
   "id": "ac4560bc",
   "metadata": {},
   "outputs": [
    {
     "data": {
      "text/plain": [
       "20"
      ]
     },
     "execution_count": 102,
     "metadata": {},
     "output_type": "execute_result"
    }
   ],
   "source": [
    "len(text.split('\\n')) # 문단 수"
   ]
  },
  {
   "cell_type": "markdown",
   "id": "c73354fc",
   "metadata": {},
   "source": [
    "## 어휘별 라인 구분 파일 출력"
   ]
  },
  {
   "cell_type": "code",
   "execution_count": 103,
   "id": "6c915274",
   "metadata": {},
   "outputs": [],
   "source": [
    "a = open('02_data.txt', 'r').read().lower().split()"
   ]
  },
  {
   "cell_type": "code",
   "execution_count": 104,
   "id": "81673521",
   "metadata": {},
   "outputs": [
    {
     "data": {
      "text/plain": [
       "5421"
      ]
     },
     "execution_count": 104,
     "metadata": {},
     "output_type": "execute_result"
    }
   ],
   "source": [
    "open('out01.txt', 'w').write('\\n'.join(a))"
   ]
  },
  {
   "cell_type": "markdown",
   "id": "5807735b",
   "metadata": {},
   "source": [
    "## 파일을 라인 단위 리스트로 불러오기"
   ]
  },
  {
   "cell_type": "code",
   "execution_count": 105,
   "id": "ec1e9530",
   "metadata": {},
   "outputs": [
    {
     "data": {
      "text/plain": [
       "list"
      ]
     },
     "execution_count": 105,
     "metadata": {},
     "output_type": "execute_result"
    }
   ],
   "source": [
    "b = open('02_data.txt', encoding='ASCII').readlines()\n",
    "type(b)"
   ]
  },
  {
   "cell_type": "code",
   "execution_count": 106,
   "id": "4610abd3",
   "metadata": {},
   "outputs": [
    {
     "data": {
      "text/plain": [
       "20"
      ]
     },
     "execution_count": 106,
     "metadata": {},
     "output_type": "execute_result"
    }
   ],
   "source": [
    "len(b)"
   ]
  },
  {
   "cell_type": "code",
   "execution_count": 107,
   "id": "3fb739b8",
   "metadata": {},
   "outputs": [
    {
     "data": {
      "text/plain": [
       "['Preheat oven to 325 degrees F with a rack in the center. Line jumbo muffin pans with paper baking cups; set aside. In a medium bowl, sift together flour, baking powder, salt, and baking soda; set aside.\\n',\n",
       " 'In the bowl of an electric mixer fitted with the paddle attachment, beat butter and sugar on medium speed until light and fluffy, 3 to 5 minutes. With mixer running, add eggs and vanilla extract; beat until combined.\\n']"
      ]
     },
     "execution_count": 107,
     "metadata": {},
     "output_type": "execute_result"
    }
   ],
   "source": [
    "b[:2]\n",
    "# 맨 끝에 \\n이 남아있는 것에 유의할 것"
   ]
  },
  {
   "cell_type": "markdown",
   "id": "c5a41dd3",
   "metadata": {},
   "source": [
    "## 제어문: if"
   ]
  },
  {
   "cell_type": "code",
   "execution_count": 109,
   "id": "cd3be230",
   "metadata": {},
   "outputs": [],
   "source": [
    "output = open('out02.txt', 'w')\n",
    "for line in b:\n",
    "    if 'cake' in line.lower():\n",
    "        output.write(line)\n",
    "output.close()"
   ]
  },
  {
   "cell_type": "markdown",
   "id": "dc32495d",
   "metadata": {},
   "source": [
    "쓰기 작업을 위해 open 함수를 써서 변수에 할당할 경우, close 해줘야 한다. <br/>\n",
    "쓰기 전용 파일은 변수명에 할당해야 한다.<br/>\n",
    "변수에 할당하지 않으면 close 할 게 없다.<br/>\n",
    "한번 쓰고 말 것이라면 변수에 할당하지 않아도 된다.<br/><br/>\n",
    "concordance: 용례"
   ]
  }
 ],
 "metadata": {
  "kernelspec": {
   "display_name": "Python 3",
   "language": "python",
   "name": "python3"
  },
  "language_info": {
   "codemirror_mode": {
    "name": "ipython",
    "version": 3
   },
   "file_extension": ".py",
   "mimetype": "text/x-python",
   "name": "python",
   "nbconvert_exporter": "python",
   "pygments_lexer": "ipython3",
   "version": "3.11.9"
  }
 },
 "nbformat": 4,
 "nbformat_minor": 5
}
