{
 "cells": [
  {
   "cell_type": "markdown",
   "id": "5371170a",
   "metadata": {},
   "source": [
    "# pandas 모듈: 데이터구조 Series\n",
    "\n",
    "## Python: 데이터 분석을 위한 기본 모듈\n",
    "- pandas: dataframe 구조 생성 및 조작\n",
    "- matplotlib: 시각화\n",
    "- scipy: 과학 및 공학 연산 -> 통계 분석\n",
    "- numpy: 다차원 행렬 구조 생성 및 연산"
   ]
  },
  {
   "cell_type": "code",
   "execution_count": null,
   "id": "bc15d261",
   "metadata": {},
   "outputs": [
    {
     "name": "stdout",
     "output_type": "stream",
     "text": [
      "Requirement already satisfied: pandas in c:\\users\\yunji\\appdata\\local\\programs\\python\\python311\\lib\\site-packages (2.3.2)\n",
      "Requirement already satisfied: numpy in c:\\users\\yunji\\appdata\\local\\programs\\python\\python311\\lib\\site-packages (2.3.2)\n",
      "Requirement already satisfied: matplotlib in c:\\users\\yunji\\appdata\\local\\programs\\python\\python311\\lib\\site-packages (3.10.6)\n",
      "Requirement already satisfied: scipy in c:\\users\\yunji\\appdata\\local\\programs\\python\\python311\\lib\\site-packages (1.16.1)\n",
      "Requirement already satisfied: python-dateutil>=2.8.2 in c:\\users\\yunji\\appdata\\roaming\\python\\python311\\site-packages (from pandas) (2.9.0.post0)\n",
      "Requirement already satisfied: pytz>=2020.1 in c:\\users\\yunji\\appdata\\local\\programs\\python\\python311\\lib\\site-packages (from pandas) (2025.2)\n",
      "Requirement already satisfied: tzdata>=2022.7 in c:\\users\\yunji\\appdata\\local\\programs\\python\\python311\\lib\\site-packages (from pandas) (2025.2)\n",
      "Requirement already satisfied: contourpy>=1.0.1 in c:\\users\\yunji\\appdata\\local\\programs\\python\\python311\\lib\\site-packages (from matplotlib) (1.3.3)\n",
      "Requirement already satisfied: cycler>=0.10 in c:\\users\\yunji\\appdata\\local\\programs\\python\\python311\\lib\\site-packages (from matplotlib) (0.12.1)\n",
      "Requirement already satisfied: fonttools>=4.22.0 in c:\\users\\yunji\\appdata\\local\\programs\\python\\python311\\lib\\site-packages (from matplotlib) (4.59.2)\n",
      "Requirement already satisfied: kiwisolver>=1.3.1 in c:\\users\\yunji\\appdata\\local\\programs\\python\\python311\\lib\\site-packages (from matplotlib) (1.4.9)\n",
      "Requirement already satisfied: packaging>=20.0 in c:\\users\\yunji\\appdata\\roaming\\python\\python311\\site-packages (from matplotlib) (25.0)\n",
      "Requirement already satisfied: pillow>=8 in c:\\users\\yunji\\appdata\\local\\programs\\python\\python311\\lib\\site-packages (from matplotlib) (11.3.0)\n",
      "Requirement already satisfied: pyparsing>=2.3.1 in c:\\users\\yunji\\appdata\\local\\programs\\python\\python311\\lib\\site-packages (from matplotlib) (3.2.3)\n",
      "Requirement already satisfied: six>=1.5 in c:\\users\\yunji\\appdata\\roaming\\python\\python311\\site-packages (from python-dateutil>=2.8.2->pandas) (1.17.0)\n"
     ]
    },
    {
     "name": "stderr",
     "output_type": "stream",
     "text": [
      "\n",
      "[notice] A new release of pip is available: 24.0 -> 25.2\n",
      "[notice] To update, run: C:\\Users\\yunji\\AppData\\Local\\Programs\\Python\\Python311\\python.exe -m pip install --upgrade pip\n"
     ]
    }
   ],
   "source": [
    "#!pip install pandas numpy matplotlib scipy"
   ]
  },
  {
   "cell_type": "markdown",
   "id": "3606ce66",
   "metadata": {},
   "source": [
    "## 1차원 데이터 구조 Series: 기본 특성\n",
    "values 층위는 numpy.ndarray로 구성되어 있다.<br>\n",
    "index 층위는 RangeIndex로 구성되어 있다.<br>\n",
    "series = numpy.ndarray + RangeIndex"
   ]
  },
  {
   "cell_type": "code",
   "execution_count": 1,
   "id": "91e4aa98",
   "metadata": {},
   "outputs": [
    {
     "data": {
      "text/plain": [
       "0    11\n",
       "1    28\n",
       "2    72\n",
       "3     3\n",
       "4     5\n",
       "5     8\n",
       "dtype: int64"
      ]
     },
     "execution_count": 1,
     "metadata": {},
     "output_type": "execute_result"
    }
   ],
   "source": [
    "import pandas as pd\n",
    "S = pd.Series([11, 28, 72, 3, 5, 8])\n",
    "S"
   ]
  },
  {
   "cell_type": "code",
   "execution_count": 2,
   "id": "e4ba9109",
   "metadata": {},
   "outputs": [
    {
     "data": {
      "text/plain": [
       "pandas.core.series.Series"
      ]
     },
     "execution_count": 2,
     "metadata": {},
     "output_type": "execute_result"
    }
   ],
   "source": [
    "type(S)"
   ]
  },
  {
   "cell_type": "code",
   "execution_count": 3,
   "id": "bb8aba5c",
   "metadata": {},
   "outputs": [
    {
     "data": {
      "text/plain": [
       "array([11, 28, 72,  3,  5,  8])"
      ]
     },
     "execution_count": 3,
     "metadata": {},
     "output_type": "execute_result"
    }
   ],
   "source": [
    "S.values"
   ]
  },
  {
   "cell_type": "code",
   "execution_count": 4,
   "id": "183b2a44",
   "metadata": {},
   "outputs": [
    {
     "data": {
      "text/plain": [
       "numpy.ndarray"
      ]
     },
     "execution_count": 4,
     "metadata": {},
     "output_type": "execute_result"
    }
   ],
   "source": [
    "type(S.values)"
   ]
  },
  {
   "cell_type": "code",
   "execution_count": 5,
   "id": "af7970dd",
   "metadata": {},
   "outputs": [
    {
     "data": {
      "text/plain": [
       "RangeIndex(start=0, stop=6, step=1)"
      ]
     },
     "execution_count": 5,
     "metadata": {},
     "output_type": "execute_result"
    }
   ],
   "source": [
    "S.index"
   ]
  },
  {
   "cell_type": "code",
   "execution_count": 6,
   "id": "ceea2647",
   "metadata": {},
   "outputs": [
    {
     "data": {
      "text/plain": [
       "pandas.core.indexes.range.RangeIndex"
      ]
     },
     "execution_count": 6,
     "metadata": {},
     "output_type": "execute_result"
    }
   ],
   "source": [
    "type(S.index)"
   ]
  },
  {
   "cell_type": "markdown",
   "id": "b963fef1",
   "metadata": {},
   "source": [
    "각 series는 dtype이 있다.<br>\n",
    "dtype은 통계적(척도) 타입을 의미한다.<br>\n",
    "척도(명목, 서열, 구간, 비율)를 대신하는 느낌으로 dtype\n",
    "\n",
    "하나의 series는 하나의 dtype만 가진다.<br>\n",
    "(list가 여러 타입을 가질 수 있던 것과 비교해보자)"
   ]
  },
  {
   "cell_type": "code",
   "execution_count": 7,
   "id": "b7f8111e",
   "metadata": {},
   "outputs": [
    {
     "data": {
      "text/plain": [
       "0    11.5\n",
       "1    28.0\n",
       "dtype: float64"
      ]
     },
     "execution_count": 7,
     "metadata": {},
     "output_type": "execute_result"
    }
   ],
   "source": [
    "pd.Series((11.5, 28))"
   ]
  },
  {
   "cell_type": "code",
   "execution_count": 8,
   "id": "e39e4404",
   "metadata": {},
   "outputs": [
    {
     "data": {
      "text/plain": [
       "0    True\n",
       "1      10\n",
       "dtype: object"
      ]
     },
     "execution_count": 8,
     "metadata": {},
     "output_type": "execute_result"
    }
   ],
   "source": [
    "pd.Series((True, 10))"
   ]
  },
  {
   "cell_type": "code",
   "execution_count": 9,
   "id": "6673df53",
   "metadata": {},
   "outputs": [
    {
     "data": {
      "text/plain": [
       "0    ab\n",
       "1    20\n",
       "dtype: object"
      ]
     },
     "execution_count": 9,
     "metadata": {},
     "output_type": "execute_result"
    }
   ],
   "source": [
    "pd.Series(('ab', 20))"
   ]
  },
  {
   "cell_type": "markdown",
   "id": "8dc23725",
   "metadata": {},
   "source": [
    "## 숫자 인덱싱, 슬라이싱\n",
    "\n",
    "- 인덱싱은 데이터 값만 가져온다.\n",
    "- 슬라이싱은 데이터의 차원이 바꾸지 못한다."
   ]
  },
  {
   "cell_type": "code",
   "execution_count": 10,
   "id": "75539c08",
   "metadata": {},
   "outputs": [
    {
     "data": {
      "text/plain": [
       "1    11\n",
       "3    28\n",
       "5    72\n",
       "dtype: int64"
      ]
     },
     "execution_count": 10,
     "metadata": {},
     "output_type": "execute_result"
    }
   ],
   "source": [
    "a = pd.Series([11, 28, 72], index=range(1, 6, 2))\n",
    "a"
   ]
  },
  {
   "cell_type": "code",
   "execution_count": 11,
   "id": "cfe7bfbf",
   "metadata": {},
   "outputs": [
    {
     "data": {
      "text/plain": [
       "RangeIndex(start=1, stop=6, step=2)"
      ]
     },
     "execution_count": 11,
     "metadata": {},
     "output_type": "execute_result"
    }
   ],
   "source": [
    "a.index"
   ]
  },
  {
   "cell_type": "code",
   "execution_count": 12,
   "id": "9c52ee3e",
   "metadata": {},
   "outputs": [
    {
     "data": {
      "text/plain": [
       "np.int64(11)"
      ]
     },
     "execution_count": 12,
     "metadata": {},
     "output_type": "execute_result"
    }
   ],
   "source": [
    "a[1]"
   ]
  },
  {
   "cell_type": "code",
   "execution_count": 13,
   "id": "797fc8af",
   "metadata": {},
   "outputs": [],
   "source": [
    "# a[0]\n",
    "# 오류가 뜬다! 지금 인덱스가 1, 3, 5라서"
   ]
  },
  {
   "cell_type": "code",
   "execution_count": 14,
   "id": "64b91009",
   "metadata": {},
   "outputs": [
    {
     "data": {
      "text/plain": [
       "1    11\n",
       "dtype: int64"
      ]
     },
     "execution_count": 14,
     "metadata": {},
     "output_type": "execute_result"
    }
   ],
   "source": [
    "a[0:1]"
   ]
  },
  {
   "cell_type": "code",
   "execution_count": 15,
   "id": "7597a7e2",
   "metadata": {},
   "outputs": [
    {
     "data": {
      "text/plain": [
       "3    28\n",
       "5    72\n",
       "dtype: int64"
      ]
     },
     "execution_count": 15,
     "metadata": {},
     "output_type": "execute_result"
    }
   ],
   "source": [
    "a[1:3]"
   ]
  },
  {
   "cell_type": "markdown",
   "id": "11a86dbb",
   "metadata": {},
   "source": [
    "## missing data\n",
    "NaN: 결측치, not a data<br>\n",
    "NaN이 하나라도 포함되면 dtype이 모두 **float64**로 바뀐다.<br>\n",
    "int64도 float64가 되어 소수점 표기로 뜬다."
   ]
  },
  {
   "cell_type": "code",
   "execution_count": 16,
   "id": "a288fb08",
   "metadata": {},
   "outputs": [
    {
     "data": {
      "text/plain": [
       "1    11\n",
       "3    28\n",
       "5    72\n",
       "dtype: int64"
      ]
     },
     "execution_count": 16,
     "metadata": {},
     "output_type": "execute_result"
    }
   ],
   "source": [
    "a"
   ]
  },
  {
   "cell_type": "code",
   "execution_count": 17,
   "id": "d3d2eea1",
   "metadata": {},
   "outputs": [
    {
     "data": {
      "text/plain": [
       "np.int64(28)"
      ]
     },
     "execution_count": 17,
     "metadata": {},
     "output_type": "execute_result"
    }
   ],
   "source": [
    "a[3]"
   ]
  },
  {
   "cell_type": "code",
   "execution_count": 18,
   "id": "2e606645",
   "metadata": {},
   "outputs": [
    {
     "data": {
      "text/plain": [
       "numpy.int64"
      ]
     },
     "execution_count": 18,
     "metadata": {},
     "output_type": "execute_result"
    }
   ],
   "source": [
    "type(a[3])"
   ]
  },
  {
   "cell_type": "code",
   "execution_count": 19,
   "id": "614de46c",
   "metadata": {},
   "outputs": [
    {
     "data": {
      "text/plain": [
       "1     NaN\n",
       "3    28.0\n",
       "5    72.0\n",
       "dtype: float64"
      ]
     },
     "execution_count": 19,
     "metadata": {},
     "output_type": "execute_result"
    }
   ],
   "source": [
    "a[1] = None; a"
   ]
  },
  {
   "cell_type": "code",
   "execution_count": 20,
   "id": "bd06f866",
   "metadata": {},
   "outputs": [
    {
     "data": {
      "text/plain": [
       "np.float64(nan)"
      ]
     },
     "execution_count": 20,
     "metadata": {},
     "output_type": "execute_result"
    }
   ],
   "source": [
    "a[1]"
   ]
  },
  {
   "cell_type": "code",
   "execution_count": 21,
   "id": "052cfd3f",
   "metadata": {},
   "outputs": [
    {
     "data": {
      "text/plain": [
       "numpy.float64"
      ]
     },
     "execution_count": 21,
     "metadata": {},
     "output_type": "execute_result"
    }
   ],
   "source": [
    "type(a[1])"
   ]
  },
  {
   "cell_type": "markdown",
   "id": "653bd0a4",
   "metadata": {},
   "source": [
    "series에서 데이터를 바꿀 땐, 무조건 바꾸려는 데이터의 개수가 동일해야 한다."
   ]
  },
  {
   "cell_type": "code",
   "execution_count": 22,
   "id": "6f098974",
   "metadata": {},
   "outputs": [
    {
     "data": {
      "text/plain": [
       "1     NaN\n",
       "3    10.0\n",
       "5     NaN\n",
       "dtype: float64"
      ]
     },
     "execution_count": 22,
     "metadata": {},
     "output_type": "execute_result"
    }
   ],
   "source": [
    "import numpy as np\n",
    "a[1:3] = [10, np.nan]; a"
   ]
  },
  {
   "cell_type": "code",
   "execution_count": 23,
   "id": "befbf883",
   "metadata": {},
   "outputs": [
    {
     "data": {
      "text/plain": [
       "5   NaN\n",
       "dtype: float64"
      ]
     },
     "execution_count": 23,
     "metadata": {},
     "output_type": "execute_result"
    }
   ],
   "source": [
    "a[2:3]"
   ]
  },
  {
   "cell_type": "code",
   "execution_count": 24,
   "id": "30a05746",
   "metadata": {},
   "outputs": [
    {
     "data": {
      "text/plain": [
       "np.float64(nan)"
      ]
     },
     "execution_count": 24,
     "metadata": {},
     "output_type": "execute_result"
    }
   ],
   "source": [
    "a[5]"
   ]
  },
  {
   "cell_type": "code",
   "execution_count": 25,
   "id": "75772407",
   "metadata": {},
   "outputs": [
    {
     "data": {
      "text/plain": [
       "numpy.float64"
      ]
     },
     "execution_count": 25,
     "metadata": {},
     "output_type": "execute_result"
    }
   ],
   "source": [
    "type(a[5])"
   ]
  },
  {
   "cell_type": "markdown",
   "id": "dd5e0cad",
   "metadata": {},
   "source": [
    "**np.nan**과 **None**은 다른 자료형이다."
   ]
  },
  {
   "cell_type": "code",
   "execution_count": 26,
   "id": "8d790a1c",
   "metadata": {},
   "outputs": [
    {
     "name": "stdout",
     "output_type": "stream",
     "text": [
      "<class 'float'>\n",
      "<class 'NoneType'>\n"
     ]
    }
   ],
   "source": [
    "print(type(np.nan))\n",
    "print(type(None))"
   ]
  },
  {
   "cell_type": "code",
   "execution_count": 27,
   "id": "791eaa43",
   "metadata": {},
   "outputs": [],
   "source": [
    "# a.astype('int')\n",
    "# IntCastingNaNError가 뜬다. NaN이 존재하기 때문에 타입을 전환할 수 없음."
   ]
  },
  {
   "cell_type": "code",
   "execution_count": 28,
   "id": "244b7d8b",
   "metadata": {},
   "outputs": [
    {
     "data": {
      "text/plain": [
       "1     0.0\n",
       "3    10.0\n",
       "5     0.0\n",
       "dtype: float64"
      ]
     },
     "execution_count": 28,
     "metadata": {},
     "output_type": "execute_result"
    }
   ],
   "source": [
    "a.fillna(0)"
   ]
  },
  {
   "cell_type": "code",
   "execution_count": 29,
   "id": "a6191a03",
   "metadata": {},
   "outputs": [
    {
     "data": {
      "text/plain": [
       "1     0\n",
       "3    10\n",
       "5     0\n",
       "dtype: int64"
      ]
     },
     "execution_count": 29,
     "metadata": {},
     "output_type": "execute_result"
    }
   ],
   "source": [
    "a.fillna(0).astype('int')"
   ]
  },
  {
   "cell_type": "code",
   "execution_count": 30,
   "id": "8a3de877",
   "metadata": {},
   "outputs": [
    {
     "data": {
      "text/plain": [
       "1     NaN\n",
       "3    10.0\n",
       "5     NaN\n",
       "dtype: float64"
      ]
     },
     "execution_count": 30,
     "metadata": {},
     "output_type": "execute_result"
    }
   ],
   "source": [
    "a"
   ]
  },
  {
   "cell_type": "markdown",
   "id": "a8bcc0f8",
   "metadata": {},
   "source": [
    "## 문자열 인덱싱, 슬라이싱"
   ]
  },
  {
   "cell_type": "code",
   "execution_count": null,
   "id": "13d3564d",
   "metadata": {},
   "outputs": [
    {
     "data": {
      "text/plain": [
       "a    11\n",
       "b    28\n",
       "c    72\n",
       "a     1\n",
       "dtype: int64"
      ]
     },
     "execution_count": 31,
     "metadata": {},
     "output_type": "execute_result"
    }
   ],
   "source": [
    "b = pd.Series([11, 28, 72, 1], index=list('abca')); b"
   ]
  },
  {
   "cell_type": "markdown",
   "id": "274595a3",
   "metadata": {},
   "source": [
    "FutureWarning은 향후 버전에서 정수 인덱싱을 사용할 수 없게 만들 거라는 것이다."
   ]
  },
  {
   "cell_type": "code",
   "execution_count": 32,
   "id": "7dfa4d4c",
   "metadata": {},
   "outputs": [
    {
     "name": "stderr",
     "output_type": "stream",
     "text": [
      "C:\\Users\\yunji\\AppData\\Local\\Temp\\ipykernel_12452\\172979841.py:1: FutureWarning: Series.__getitem__ treating keys as positions is deprecated. In a future version, integer keys will always be treated as labels (consistent with DataFrame behavior). To access a value by position, use `ser.iloc[pos]`\n",
      "  b[0]\n"
     ]
    },
    {
     "data": {
      "text/plain": [
       "np.int64(11)"
      ]
     },
     "execution_count": 32,
     "metadata": {},
     "output_type": "execute_result"
    }
   ],
   "source": [
    "b[0]"
   ]
  },
  {
   "cell_type": "code",
   "execution_count": 33,
   "id": "7d9e7ed0",
   "metadata": {},
   "outputs": [
    {
     "data": {
      "text/plain": [
       "np.int64(28)"
      ]
     },
     "execution_count": 33,
     "metadata": {},
     "output_type": "execute_result"
    }
   ],
   "source": [
    "b['b'] # 차원이 없는 개별 값을 출력한다."
   ]
  },
  {
   "cell_type": "code",
   "execution_count": 34,
   "id": "0b0e97e0",
   "metadata": {},
   "outputs": [
    {
     "data": {
      "text/plain": [
       "b    28\n",
       "c    72\n",
       "dtype: int64"
      ]
     },
     "execution_count": 34,
     "metadata": {},
     "output_type": "execute_result"
    }
   ],
   "source": [
    "b['b':'c'] # 두 개의 범위가 둘 다 출력된다."
   ]
  },
  {
   "cell_type": "markdown",
   "id": "aa3d0b1a",
   "metadata": {},
   "source": [
    "인덱스가 같은 게 여러 개 있을 땐 시리즈로 출력되는데, 이건 인덱싱인지 슬라이싱인지?\n"
   ]
  },
  {
   "cell_type": "code",
   "execution_count": 36,
   "id": "c953afcb",
   "metadata": {},
   "outputs": [
    {
     "data": {
      "text/plain": [
       "Index(['a', 'b', 'c', 'a'], dtype='object')"
      ]
     },
     "execution_count": 36,
     "metadata": {},
     "output_type": "execute_result"
    }
   ],
   "source": [
    "b.index"
   ]
  },
  {
   "cell_type": "code",
   "execution_count": 37,
   "id": "8482086e",
   "metadata": {},
   "outputs": [
    {
     "data": {
      "text/plain": [
       "array([11, 28, 72,  1])"
      ]
     },
     "execution_count": 37,
     "metadata": {},
     "output_type": "execute_result"
    }
   ],
   "source": [
    "b.values"
   ]
  },
  {
   "cell_type": "markdown",
   "id": "0e473dab",
   "metadata": {},
   "source": [
    "## 인덱스 자격"
   ]
  },
  {
   "cell_type": "code",
   "execution_count": 39,
   "id": "fbb0888f",
   "metadata": {},
   "outputs": [
    {
     "data": {
      "text/plain": [
       "a    11\n",
       "b    28\n",
       "c    72\n",
       "dtype: int64"
      ]
     },
     "execution_count": 39,
     "metadata": {},
     "output_type": "execute_result"
    }
   ],
   "source": [
    "b = pd.Series([11, 28, 72], index=list('abc')); b"
   ]
  },
  {
   "cell_type": "code",
   "execution_count": 41,
   "id": "56e97b17",
   "metadata": {},
   "outputs": [
    {
     "data": {
      "text/plain": [
       "0    11\n",
       "1    28\n",
       "2    72\n",
       "dtype: int64"
      ]
     },
     "execution_count": 41,
     "metadata": {},
     "output_type": "execute_result"
    }
   ],
   "source": [
    "b.index = range(3); b"
   ]
  },
  {
   "cell_type": "code",
   "execution_count": 42,
   "id": "87c418f7",
   "metadata": {},
   "outputs": [
    {
     "data": {
      "text/plain": [
       "(a,)    11\n",
       "(b,)    28\n",
       "(c,)    72\n",
       "dtype: int64"
      ]
     },
     "execution_count": 42,
     "metadata": {},
     "output_type": "execute_result"
    }
   ],
   "source": [
    "b.index = [('a',), ('b',), ('c',)]; b"
   ]
  },
  {
   "cell_type": "code",
   "execution_count": 44,
   "id": "6ae9c0e0",
   "metadata": {},
   "outputs": [],
   "source": [
    "# b.index = [['a'], ['b'], ['c']]; b"
   ]
  },
  {
   "cell_type": "markdown",
   "id": "e4c503b2",
   "metadata": {},
   "source": [
    "## Fancy indexing"
   ]
  },
  {
   "cell_type": "code",
   "execution_count": 46,
   "id": "a460d356",
   "metadata": {},
   "outputs": [
    {
     "data": {
      "text/plain": [
       "a    11\n",
       "b    28\n",
       "b    72\n",
       "dtype: int64"
      ]
     },
     "execution_count": 46,
     "metadata": {},
     "output_type": "execute_result"
    }
   ],
   "source": [
    "c = pd.Series([11, 28, 72], index=['a', 'b', 'b']); c"
   ]
  },
  {
   "cell_type": "code",
   "execution_count": 47,
   "id": "6ae4b867",
   "metadata": {},
   "outputs": [
    {
     "data": {
      "text/plain": [
       "b    28\n",
       "b    72\n",
       "dtype: int64"
      ]
     },
     "execution_count": 47,
     "metadata": {},
     "output_type": "execute_result"
    }
   ],
   "source": [
    "c['b']"
   ]
  },
  {
   "cell_type": "code",
   "execution_count": null,
   "id": "af584cf8",
   "metadata": {},
   "outputs": [
    {
     "data": {
      "text/plain": [
       "a    11\n",
       "b     3\n",
       "b     3\n",
       "dtype: int64"
      ]
     },
     "execution_count": 48,
     "metadata": {},
     "output_type": "execute_result"
    }
   ],
   "source": [
    "c['b'] = 3; c # 모두 바뀐다."
   ]
  },
  {
   "cell_type": "code",
   "execution_count": 50,
   "id": "8d7c7bbb",
   "metadata": {},
   "outputs": [
    {
     "data": {
      "text/plain": [
       "b     3\n",
       "b     3\n",
       "a    11\n",
       "dtype: int64"
      ]
     },
     "execution_count": 50,
     "metadata": {},
     "output_type": "execute_result"
    }
   ],
   "source": [
    "c[['b', 'a']]"
   ]
  },
  {
   "cell_type": "code",
   "execution_count": 51,
   "id": "73ac2cdf",
   "metadata": {},
   "outputs": [
    {
     "data": {
      "text/plain": [
       "b     3\n",
       "b     3\n",
       "a    11\n",
       "b     3\n",
       "b     3\n",
       "dtype: int64"
      ]
     },
     "execution_count": 51,
     "metadata": {},
     "output_type": "execute_result"
    }
   ],
   "source": [
    "c[['b', 'a', 'b']]"
   ]
  },
  {
   "cell_type": "markdown",
   "id": "b55e3e39",
   "metadata": {},
   "source": [
    "## Series: 연산"
   ]
  },
  {
   "cell_type": "code",
   "execution_count": 55,
   "id": "9a07c3a2",
   "metadata": {},
   "outputs": [
    {
     "data": {
      "text/plain": [
       "1     3.0\n",
       "3    10.0\n",
       "5     NaN\n",
       "dtype: float64"
      ]
     },
     "execution_count": 55,
     "metadata": {},
     "output_type": "execute_result"
    }
   ],
   "source": [
    "a = pd.Series([3, 10, np.nan], index=np.arange(1, 6, 2)); a"
   ]
  },
  {
   "cell_type": "code",
   "execution_count": 56,
   "id": "3a0cce2f",
   "metadata": {},
   "outputs": [
    {
     "data": {
      "text/plain": [
       "True"
      ]
     },
     "execution_count": 56,
     "metadata": {},
     "output_type": "execute_result"
    }
   ],
   "source": [
    "1 in a"
   ]
  },
  {
   "cell_type": "code",
   "execution_count": 57,
   "id": "187ee3a6",
   "metadata": {},
   "outputs": [
    {
     "data": {
      "text/plain": [
       "array([ 3., 10., nan])"
      ]
     },
     "execution_count": 57,
     "metadata": {},
     "output_type": "execute_result"
    }
   ],
   "source": [
    "a.values"
   ]
  },
  {
   "cell_type": "code",
   "execution_count": 60,
   "id": "3f15db18",
   "metadata": {},
   "outputs": [
    {
     "data": {
      "text/plain": [
       "True"
      ]
     },
     "execution_count": 60,
     "metadata": {},
     "output_type": "execute_result"
    }
   ],
   "source": [
    "10 in a.values"
   ]
  },
  {
   "cell_type": "code",
   "execution_count": 61,
   "id": "d4a45c37",
   "metadata": {},
   "outputs": [
    {
     "data": {
      "text/plain": [
       "False"
      ]
     },
     "execution_count": 61,
     "metadata": {},
     "output_type": "execute_result"
    }
   ],
   "source": [
    "np.nan in a.values"
   ]
  },
  {
   "cell_type": "code",
   "execution_count": 62,
   "id": "6cf84bc2",
   "metadata": {},
   "outputs": [
    {
     "data": {
      "text/plain": [
       "1    False\n",
       "3    False\n",
       "5     True\n",
       "dtype: bool"
      ]
     },
     "execution_count": 62,
     "metadata": {},
     "output_type": "execute_result"
    }
   ],
   "source": [
    "a.isnull()"
   ]
  },
  {
   "cell_type": "code",
   "execution_count": 63,
   "id": "148c1043",
   "metadata": {},
   "outputs": [
    {
     "data": {
      "text/plain": [
       "1     3.0\n",
       "3    10.0\n",
       "5     NaN\n",
       "dtype: float64"
      ]
     },
     "execution_count": 63,
     "metadata": {},
     "output_type": "execute_result"
    }
   ],
   "source": [
    "a"
   ]
  },
  {
   "cell_type": "code",
   "execution_count": 64,
   "id": "4279bf5c",
   "metadata": {},
   "outputs": [
    {
     "data": {
      "text/plain": [
       "1    13.0\n",
       "3    20.0\n",
       "5     NaN\n",
       "dtype: float64"
      ]
     },
     "execution_count": 64,
     "metadata": {},
     "output_type": "execute_result"
    }
   ],
   "source": [
    "a + 10"
   ]
  },
  {
   "cell_type": "code",
   "execution_count": 65,
   "id": "51b522a1",
   "metadata": {},
   "outputs": [
    {
     "data": {
      "text/plain": [
       "1     4.0\n",
       "3    12.0\n",
       "5     NaN\n",
       "dtype: float64"
      ]
     },
     "execution_count": 65,
     "metadata": {},
     "output_type": "execute_result"
    }
   ],
   "source": [
    "a + [1,2,3]"
   ]
  },
  {
   "cell_type": "code",
   "execution_count": 66,
   "id": "ec027dee",
   "metadata": {},
   "outputs": [
    {
     "data": {
      "text/plain": [
       "1     6.0\n",
       "3    20.0\n",
       "5     NaN\n",
       "dtype: float64"
      ]
     },
     "execution_count": 66,
     "metadata": {},
     "output_type": "execute_result"
    }
   ],
   "source": [
    "a + a"
   ]
  },
  {
   "cell_type": "code",
   "execution_count": 68,
   "id": "fe4b3fc9",
   "metadata": {},
   "outputs": [],
   "source": [
    "# a + [1, 2]"
   ]
  },
  {
   "cell_type": "code",
   "execution_count": 69,
   "id": "63433496",
   "metadata": {},
   "outputs": [
    {
     "data": {
      "text/plain": [
       "1     True\n",
       "3     True\n",
       "5    False\n",
       "dtype: bool"
      ]
     },
     "execution_count": 69,
     "metadata": {},
     "output_type": "execute_result"
    }
   ],
   "source": [
    "0 < a"
   ]
  },
  {
   "cell_type": "code",
   "execution_count": 70,
   "id": "e5ef1aa4",
   "metadata": {},
   "outputs": [
    {
     "data": {
      "text/plain": [
       "1     3.0\n",
       "3    10.0\n",
       "dtype: float64"
      ]
     },
     "execution_count": 70,
     "metadata": {},
     "output_type": "execute_result"
    }
   ],
   "source": [
    "a[0 < a]"
   ]
  },
  {
   "cell_type": "code",
   "execution_count": 72,
   "id": "1dd7814c",
   "metadata": {},
   "outputs": [
    {
     "data": {
      "text/plain": [
       "1     3.0\n",
       "3    10.0\n",
       "dtype: float64"
      ]
     },
     "execution_count": 72,
     "metadata": {},
     "output_type": "execute_result"
    }
   ],
   "source": [
    "a[(0 < a) | (a < 10)]"
   ]
  },
  {
   "cell_type": "code",
   "execution_count": 73,
   "id": "cf802e14",
   "metadata": {},
   "outputs": [
    {
     "data": {
      "text/plain": [
       "1    3.0\n",
       "dtype: float64"
      ]
     },
     "execution_count": 73,
     "metadata": {},
     "output_type": "execute_result"
    }
   ],
   "source": [
    "a[(0 < a) & (a < 10)]"
   ]
  }
 ],
 "metadata": {
  "kernelspec": {
   "display_name": "Python 3",
   "language": "python",
   "name": "python3"
  },
  "language_info": {
   "codemirror_mode": {
    "name": "ipython",
    "version": 3
   },
   "file_extension": ".py",
   "mimetype": "text/x-python",
   "name": "python",
   "nbconvert_exporter": "python",
   "pygments_lexer": "ipython3",
   "version": "3.11.9"
  }
 },
 "nbformat": 4,
 "nbformat_minor": 5
}
