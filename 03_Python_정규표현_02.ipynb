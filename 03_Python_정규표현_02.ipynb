{
 "cells": [
  {
   "cell_type": "markdown",
   "id": "7cda9da5",
   "metadata": {},
   "source": [
    "# 정규표현 함수\n",
    "## re.search 함수\n",
    "\n",
    "패턴이 문자열의 어느 위치에 있든지 상관없이, **처음으로** 일치하는 부분을 찾는다.<br>\n",
    "일치하는 부분을 찾지 못하면 NoenType(None)을 반환한다.<br>\n",
    "re.Match로 반환되기 때문에 group(), groups()를 사용할 수 있다."
   ]
  },
  {
   "cell_type": "code",
   "execution_count": 1,
   "id": "d8b43cba",
   "metadata": {},
   "outputs": [],
   "source": [
    "import re"
   ]
  },
  {
   "cell_type": "code",
   "execution_count": 2,
   "id": "0300d3ff",
   "metadata": {},
   "outputs": [
    {
     "data": {
      "text/plain": [
       "<re.Match object; span=(0, 2), match='\\t\\n'>"
      ]
     },
     "execution_count": 2,
     "metadata": {},
     "output_type": "execute_result"
    }
   ],
   "source": [
    "re.search('\\s+', '\\t\\n123\\t\\nabc\\t\\n')"
   ]
  },
  {
   "cell_type": "markdown",
   "id": "63f73685",
   "metadata": {},
   "source": [
    "search()는 문자열 전체에서 패턴을 찾는다. <br>\n",
    "$를 사용하면, 문자열의 마지막 부분에서 일치하는 것을 찾는다.<br>\n",
    "\n",
    "참고: match와 \\$를 함께 사용한다면, 문자열의 시작(^)부터 끝($)까지 완전 일치해야 한다!"
   ]
  },
  {
   "cell_type": "code",
   "execution_count": 3,
   "id": "881a13da",
   "metadata": {},
   "outputs": [
    {
     "data": {
      "text/plain": [
       "<re.Match object; span=(10, 13), match='\\t\\n\\n'>"
      ]
     },
     "execution_count": 3,
     "metadata": {},
     "output_type": "execute_result"
    }
   ],
   "source": [
    "re.search('\\s+$', '\\t\\n123\\n\\tabc\\t\\n\\n')"
   ]
  },
  {
   "cell_type": "code",
   "execution_count": 4,
   "id": "75a7bac1",
   "metadata": {},
   "outputs": [
    {
     "data": {
      "text/plain": [
       "'\\t\\n\\n'"
      ]
     },
     "execution_count": 4,
     "metadata": {},
     "output_type": "execute_result"
    }
   ],
   "source": [
    "re.search('\\s+$', '\\t\\n123\\n\\tabc\\t\\n\\n').group()"
   ]
  },
  {
   "cell_type": "code",
   "execution_count": 5,
   "id": "2b5a128d",
   "metadata": {},
   "outputs": [
    {
     "data": {
      "text/plain": [
       "('\\n\\n\\n',)"
      ]
     },
     "execution_count": 5,
     "metadata": {},
     "output_type": "execute_result"
    }
   ],
   "source": [
    "re.search('(\\s+)$', '\\t\\n123\\n\\tabc\\n\\n\\n').groups()\n",
    "# re.search('\\s+$', '\\t\\n123\\n\\tabc\\n\\n\\n').groups()"
   ]
  },
  {
   "cell_type": "code",
   "execution_count": 75,
   "id": "df006660",
   "metadata": {},
   "outputs": [
    {
     "data": {
      "text/plain": [
       "('\\n',)"
      ]
     },
     "execution_count": 75,
     "metadata": {},
     "output_type": "execute_result"
    }
   ],
   "source": [
    "re.search('(\\s)+$', '\\t\\n123\\n\\tabc\\n\\n\\n').groups()"
   ]
  },
  {
   "cell_type": "markdown",
   "id": "767fb655",
   "metadata": {},
   "source": [
    "## 정규표현과 조건문"
   ]
  },
  {
   "cell_type": "code",
   "execution_count": 77,
   "id": "85738685",
   "metadata": {},
   "outputs": [],
   "source": [
    "a = ['abc', 'bcd103', '103abc']"
   ]
  },
  {
   "cell_type": "code",
   "execution_count": null,
   "id": "920a21ca",
   "metadata": {},
   "outputs": [
    {
     "ename": "TypeError",
     "evalue": "expected string or bytes-like object, got 'list'",
     "output_type": "error",
     "traceback": [
      "\u001b[31m---------------------------------------------------------------------------\u001b[39m",
      "\u001b[31mTypeError\u001b[39m                                 Traceback (most recent call last)",
      "\u001b[36mCell\u001b[39m\u001b[36m \u001b[39m\u001b[32mIn[78]\u001b[39m\u001b[32m, line 1\u001b[39m\n\u001b[32m----> \u001b[39m\u001b[32m1\u001b[39m \u001b[43mre\u001b[49m\u001b[43m.\u001b[49m\u001b[43msearch\u001b[49m\u001b[43m(\u001b[49m\u001b[33;43m'\u001b[39;49m\u001b[33;43m\\\u001b[39;49m\u001b[33;43mw+\u001b[39;49m\u001b[33;43m'\u001b[39;49m\u001b[43m,\u001b[49m\u001b[43m \u001b[49m\u001b[43ma\u001b[49m\u001b[43m)\u001b[49m\n",
      "\u001b[36mFile \u001b[39m\u001b[32mc:\\Users\\yunji\\AppData\\Local\\Programs\\Python\\Python311\\Lib\\re\\__init__.py:176\u001b[39m, in \u001b[36msearch\u001b[39m\u001b[34m(pattern, string, flags)\u001b[39m\n\u001b[32m    173\u001b[39m \u001b[38;5;28;01mdef\u001b[39;00m\u001b[38;5;250m \u001b[39m\u001b[34msearch\u001b[39m(pattern, string, flags=\u001b[32m0\u001b[39m):\n\u001b[32m    174\u001b[39m \u001b[38;5;250m    \u001b[39m\u001b[33;03m\"\"\"Scan through string looking for a match to the pattern, returning\u001b[39;00m\n\u001b[32m    175\u001b[39m \u001b[33;03m    a Match object, or None if no match was found.\"\"\"\u001b[39;00m\n\u001b[32m--> \u001b[39m\u001b[32m176\u001b[39m     \u001b[38;5;28;01mreturn\u001b[39;00m \u001b[43m_compile\u001b[49m\u001b[43m(\u001b[49m\u001b[43mpattern\u001b[49m\u001b[43m,\u001b[49m\u001b[43m \u001b[49m\u001b[43mflags\u001b[49m\u001b[43m)\u001b[49m\u001b[43m.\u001b[49m\u001b[43msearch\u001b[49m\u001b[43m(\u001b[49m\u001b[43mstring\u001b[49m\u001b[43m)\u001b[49m\n",
      "\u001b[31mTypeError\u001b[39m: expected string or bytes-like object, got 'list'"
     ]
    }
   ],
   "source": [
    "# re.search('\\w+', a)"
   ]
  },
  {
   "cell_type": "code",
   "execution_count": 9,
   "id": "5b67d01e",
   "metadata": {},
   "outputs": [
    {
     "name": "stdout",
     "output_type": "stream",
     "text": [
      "bcd103 103\n",
      "103abc 103\n"
     ]
    }
   ],
   "source": [
    "for i in a:\n",
    "    if re.search('\\d+', i):\n",
    "        print(i, re.search('\\d+', i).group())\n",
    "\n",
    "# 찾는 것이기 때문에 첫 시작 위치는 상관없다."
   ]
  },
  {
   "cell_type": "markdown",
   "id": "6754864c",
   "metadata": {},
   "source": [
    "## 불 자료형 Bool Type"
   ]
  },
  {
   "cell_type": "markdown",
   "id": "046c01e4",
   "metadata": {},
   "source": [
    "숫자 0, 빈 문자열, 빈 리스트, 빈 튜플, None 객체는 항상 거짓이다.<br>\n",
    "추가로 빈 집합, 빈 사전 등도 모두 거짓이다."
   ]
  },
  {
   "cell_type": "code",
   "execution_count": 10,
   "id": "e915aa22",
   "metadata": {},
   "outputs": [
    {
     "data": {
      "text/plain": [
       "4"
      ]
     },
     "execution_count": 10,
     "metadata": {},
     "output_type": "execute_result"
    }
   ],
   "source": [
    "True + True + 2 * True"
   ]
  },
  {
   "cell_type": "code",
   "execution_count": 11,
   "id": "70ce0dc6",
   "metadata": {},
   "outputs": [
    {
     "data": {
      "text/plain": [
       "0"
      ]
     },
     "execution_count": 11,
     "metadata": {},
     "output_type": "execute_result"
    }
   ],
   "source": [
    "False + False"
   ]
  },
  {
   "cell_type": "code",
   "execution_count": 12,
   "id": "5682ce7c",
   "metadata": {},
   "outputs": [
    {
     "name": "stdout",
     "output_type": "stream",
     "text": [
      "1\n",
      "-2\n",
      "3\n",
      "a\n",
      "[0]\n",
      "(1,)\n"
     ]
    }
   ],
   "source": [
    "for i in [0, 1, -2, 3, '', 'a', [], [0], (), (1,), None]:\n",
    "    if i:\n",
    "        print(i)"
   ]
  },
  {
   "cell_type": "markdown",
   "id": "b3873a3b",
   "metadata": {},
   "source": [
    "(참고) NoneType == None"
   ]
  },
  {
   "cell_type": "code",
   "execution_count": 13,
   "id": "c687445a",
   "metadata": {},
   "outputs": [
    {
     "data": {
      "text/plain": [
       "NoneType"
      ]
     },
     "execution_count": 13,
     "metadata": {},
     "output_type": "execute_result"
    }
   ],
   "source": [
    "type(None)"
   ]
  },
  {
   "cell_type": "markdown",
   "id": "7240fc95",
   "metadata": {},
   "source": [
    "## 연습문제 1"
   ]
  },
  {
   "cell_type": "code",
   "execution_count": 14,
   "id": "dcae102c",
   "metadata": {},
   "outputs": [],
   "source": [
    "import os\n",
    "os.chdir('C:/Users/yunji/Desktop/코퍼스언어학')\n",
    "word = open('02_data.txt').read().split()"
   ]
  },
  {
   "cell_type": "code",
   "execution_count": 15,
   "id": "501c9287",
   "metadata": {},
   "outputs": [],
   "source": [
    "L = list()\n",
    "\n",
    "# re.search('\\W', i)에서 \n",
    "# ['1/2', '1/8', '3/4-', '3/4-', '1/2', '1/2', '8-', '1/2']\n",
    "# 얘네를 빼야 한다. 그래서 알파벳 문자 포함하는 search를 또 해야 함.\n",
    "\n",
    "for i in word:\n",
    "    if re.search('[a-zA-Z]', i) and re.search('\\W', i):\n",
    "        L.append(i)\n",
    "\n",
    "# _를 추가하고 싶으면 어떻게 해야 할까??\n",
    "# for i in word:\n",
    "#     if re.search('[^\\da-zA-Z]', i):\n",
    "#         L.append(i)"
   ]
  },
  {
   "cell_type": "code",
   "execution_count": 16,
   "id": "902ec58e",
   "metadata": {},
   "outputs": [
    {
     "data": {
      "text/plain": [
       "189"
      ]
     },
     "execution_count": 16,
     "metadata": {},
     "output_type": "execute_result"
    }
   ],
   "source": [
    "len(L)"
   ]
  },
  {
   "cell_type": "code",
   "execution_count": 17,
   "id": "d818f589",
   "metadata": {},
   "outputs": [
    {
     "data": {
      "text/plain": [
       "['center.',\n",
       " 'cups;',\n",
       " 'aside.',\n",
       " 'bowl,',\n",
       " 'flour,',\n",
       " 'powder,',\n",
       " 'salt,',\n",
       " 'soda;',\n",
       " 'aside.',\n",
       " 'attachment,']"
      ]
     },
     "execution_count": 17,
     "metadata": {},
     "output_type": "execute_result"
    }
   ],
   "source": [
    "L[:10]"
   ]
  },
  {
   "cell_type": "markdown",
   "id": "8cf3938e",
   "metadata": {},
   "source": [
    "## 최소 매칭: ?"
   ]
  },
  {
   "cell_type": "code",
   "execution_count": 18,
   "id": "13b89ddd",
   "metadata": {},
   "outputs": [
    {
     "data": {
      "text/plain": [
       "'<a href=\"in.html\">HERE<a href=\"out.html\">'"
      ]
     },
     "execution_count": 18,
     "metadata": {},
     "output_type": "execute_result"
    }
   ],
   "source": [
    "a = '<a href=\"in.html\">HERE<a href=\"out.html\">'\n",
    "a"
   ]
  },
  {
   "cell_type": "markdown",
   "id": "26df4067",
   "metadata": {},
   "source": [
    "기본적으로 최장 일치(Greedy Matching)이다."
   ]
  },
  {
   "cell_type": "code",
   "execution_count": 19,
   "id": "1489b0c2",
   "metadata": {},
   "outputs": [
    {
     "data": {
      "text/plain": [
       "'href=\"in.html\">HERE<a href=\"out.html\"'"
      ]
     },
     "execution_count": 19,
     "metadata": {},
     "output_type": "execute_result"
    }
   ],
   "source": [
    "re.search('href=\".*\"', a).group()\n",
    "# 왜 \"까지일까? .*이 쭉 되다가 그 뒤에 \"이 있기 때문에!!\n",
    "# \"로 마무리 되어야 한다.\n",
    "# 최장이기 때문에 in.html\"에서 끝나지 않고 out.html\"로 끝나는 것이다."
   ]
  },
  {
   "cell_type": "markdown",
   "id": "f8148459",
   "metadata": {},
   "source": [
    "최소 매칭(Non-Greedy or Lazy Mathcing)을 보고 싶다면, ?를 추가하면 된다.<br>\n",
    "다음 패턴 요소를 만족시킬 수 있는 최소한의 문자만 가져간다."
   ]
  },
  {
   "cell_type": "code",
   "execution_count": 20,
   "id": "7dc7499a",
   "metadata": {},
   "outputs": [
    {
     "data": {
      "text/plain": [
       "'href=\"in.html\"'"
      ]
     },
     "execution_count": 20,
     "metadata": {},
     "output_type": "execute_result"
    }
   ],
   "source": [
    "re.search('href=\".*?\"', a).group()\n",
    "# 반복 메타 문자 뒤의 물음표는 '최소 매칭 물음표'이다.\n",
    "# 반복 메타 문자 뒤가 아닌 물음표는 '반복 메타 문자 물음표'이다.\n",
    "# ?는 쉽게 말하면 최소를 의미하기 때문에, in.html\" 뒤에 끝나는 것."
   ]
  },
  {
   "cell_type": "markdown",
   "id": "2a9d31bb",
   "metadata": {},
   "source": [
    "## re.findall 함수"
   ]
  },
  {
   "cell_type": "markdown",
   "id": "fd4fe954",
   "metadata": {},
   "source": [
    "처음부터 탐색. 최장 일치로!!!<br>\n",
    "앞으로 가장 많이 쓸 거다.\n",
    "\n",
    "return 형식이 항상 **list**이다.<br>\n",
    "매치되는 문자열이 없다면 빈 리스트 [ ]를 출력한다.\n",
    "\n",
    "findall 함수를 가장 많이 사용한다."
   ]
  },
  {
   "cell_type": "code",
   "execution_count": 21,
   "id": "ff799fd6",
   "metadata": {},
   "outputs": [
    {
     "data": {
      "text/plain": [
       "'<a href=\"in.html\">HERE<a href=\"out.html\">'"
      ]
     },
     "execution_count": 21,
     "metadata": {},
     "output_type": "execute_result"
    }
   ],
   "source": [
    "a"
   ]
  },
  {
   "cell_type": "markdown",
   "id": "ab684795",
   "metadata": {},
   "source": [
    "?를 써주면, 마찬가지로 비탐욕적 탐색을 실행한다."
   ]
  },
  {
   "cell_type": "code",
   "execution_count": 22,
   "id": "584246b4",
   "metadata": {},
   "outputs": [
    {
     "data": {
      "text/plain": [
       "['href=\"in.html\"', 'href=\"out.html\"']"
      ]
     },
     "execution_count": 22,
     "metadata": {},
     "output_type": "execute_result"
    }
   ],
   "source": [
    "re.findall('href=\".*?\"', a)"
   ]
  },
  {
   "cell_type": "markdown",
   "id": "760c4c6e",
   "metadata": {},
   "source": [
    "( )를 해주면 괄호 내부에 있는 내용만 반환해준다."
   ]
  },
  {
   "cell_type": "code",
   "execution_count": 23,
   "id": "567cdcbf",
   "metadata": {},
   "outputs": [
    {
     "data": {
      "text/plain": [
       "['in.html', 'out.html']"
      ]
     },
     "execution_count": 23,
     "metadata": {},
     "output_type": "execute_result"
    }
   ],
   "source": [
    "re.findall('href=\"(.*?)\"', a)"
   ]
  },
  {
   "cell_type": "markdown",
   "id": "73a247e9",
   "metadata": {},
   "source": [
    "기본적으로는 Greedy!!!"
   ]
  },
  {
   "cell_type": "code",
   "execution_count": 24,
   "id": "65fe6678",
   "metadata": {},
   "outputs": [
    {
     "data": {
      "text/plain": [
       "['href=\"in.html\">HERE<a href=\"out.html\"']"
      ]
     },
     "execution_count": 24,
     "metadata": {},
     "output_type": "execute_result"
    }
   ],
   "source": [
    "re.findall('href=\".*\"', a)\n",
    "# 최장 매칭"
   ]
  },
  {
   "cell_type": "code",
   "execution_count": 25,
   "id": "86f81362",
   "metadata": {},
   "outputs": [
    {
     "data": {
      "text/plain": [
       "['a', 'href', 'in', 'html', 'HERE', 'a', 'href', 'out', 'html']"
      ]
     },
     "execution_count": 25,
     "metadata": {},
     "output_type": "execute_result"
    }
   ],
   "source": [
    "re.findall('\\w+', a)"
   ]
  },
  {
   "cell_type": "markdown",
   "id": "623dddc2",
   "metadata": {},
   "source": [
    "( )를 해서 캡쳐 그룹을 찾아낼 때 기존에 저장된 캡쳐본은 덮어쓰기 때문에, 마지막 글자가 저장되는 것을 볼 수 있다."
   ]
  },
  {
   "cell_type": "code",
   "execution_count": 26,
   "id": "d5ed374f",
   "metadata": {},
   "outputs": [
    {
     "data": {
      "text/plain": [
       "['a', 'f', 'n', 'l', 'E', 'a', 'f', 't', 'l']"
      ]
     },
     "execution_count": 26,
     "metadata": {},
     "output_type": "execute_result"
    }
   ],
   "source": [
    "re.findall('(\\w)+', a)"
   ]
  },
  {
   "cell_type": "markdown",
   "id": "51366341",
   "metadata": {},
   "source": [
    "### 어휘 경계는 어디일까?<br>\n",
    "\\\\b는 **위치**이지 문자가 아니다!!<br>\n",
    "(\\\\\\b는 어휘 경계를 말한다. \\w와 \\W 사이, 문자열 시작(끝)과 \\w 사이)<br>\n",
    "(\\w : 숫자, 자연어, _)\n",
    "\n",
    ".가 \\n을 제외하기 때문에, 아래의 경우 123, abc로 끊긴다.<br>\n",
    "공백 문자는 \\W(비단어)이기 때문에 \\\\b 안에 해당되지 않는다."
   ]
  },
  {
   "cell_type": "code",
   "execution_count": 27,
   "id": "8cd99967",
   "metadata": {},
   "outputs": [
    {
     "data": {
      "text/plain": [
       "['123', 'abc']"
      ]
     },
     "execution_count": 27,
     "metadata": {},
     "output_type": "execute_result"
    }
   ],
   "source": [
    "re.findall('\\\\b.+\\\\b', '\\t\\n123\\n\\tabc\\n\\n\\n')"
   ]
  },
  {
   "cell_type": "markdown",
   "id": "a1a3ad98",
   "metadata": {},
   "source": [
    "만약 3 뒤에 \\t가 왔으면 결과는 다르게 나온다.<br>\n",
    "이때의 어휘 경계는 1부터 c까지이다.<br>\n",
    "\\t는 경계를 만드는 위치이지 매칭을 멈추게 하는 문자가 아니다.<br>\n",
    ".+이 경계를 무시하고 계속 나아가기 때문에 \\t가 포함되는 것"
   ]
  },
  {
   "cell_type": "code",
   "execution_count": 28,
   "id": "dc79b6ad",
   "metadata": {},
   "outputs": [
    {
     "data": {
      "text/plain": [
       "['123\\t\\tabc']"
      ]
     },
     "execution_count": 28,
     "metadata": {},
     "output_type": "execute_result"
    }
   ],
   "source": [
    "re.findall('\\\\b.+\\\\b', '\\t\\n123\\t\\tabc\\n\\n\\n')"
   ]
  },
  {
   "cell_type": "code",
   "execution_count": 29,
   "id": "066bcebc",
   "metadata": {},
   "outputs": [
    {
     "data": {
      "text/plain": [
       "['123abc']"
      ]
     },
     "execution_count": 29,
     "metadata": {},
     "output_type": "execute_result"
    }
   ],
   "source": [
    "re.findall('\\\\b.+\\\\b', '\\t\\n123abc\\n\\n\\n')"
   ]
  },
  {
   "cell_type": "code",
   "execution_count": 79,
   "id": "0ef02c0c",
   "metadata": {},
   "outputs": [
    {
     "data": {
      "text/plain": [
       "['123..abc']"
      ]
     },
     "execution_count": 79,
     "metadata": {},
     "output_type": "execute_result"
    }
   ],
   "source": [
    "re.findall('\\\\b.+\\\\b', '\\t\\n123..abc..\\n\\n\\n')\n",
    "# 최장일치이기 때문에 ..도 매칭이 된다!!\n",
    "# abc..\\n로 끝나기 때문에 abc에서 끊기는 것"
   ]
  },
  {
   "cell_type": "code",
   "execution_count": 31,
   "id": "34e580c7",
   "metadata": {},
   "outputs": [
    {
     "data": {
      "text/plain": [
       "['1', '.', 'a', '.']"
      ]
     },
     "execution_count": 31,
     "metadata": {},
     "output_type": "execute_result"
    }
   ],
   "source": [
    "re.findall('\\\\b.', '\\t123.abc.\\n')"
   ]
  },
  {
   "cell_type": "code",
   "execution_count": null,
   "id": "0643f379",
   "metadata": {},
   "outputs": [
    {
     "data": {
      "text/plain": [
       "['\\t', '3', '.', 'c']"
      ]
     },
     "execution_count": 82,
     "metadata": {},
     "output_type": "execute_result"
    }
   ],
   "source": [
    "re.findall('.\\\\b', '\\t123.abc.\\n')"
   ]
  },
  {
   "cell_type": "markdown",
   "id": "fb2091d9",
   "metadata": {},
   "source": [
    "-은 이스케이프 문자가 아니라 [ ] 안에 꼭 넣을 필요는 없다.<br>\n",
    "캡쳐 그룹이 0/1개이면 리스트에 단일 요소들로 저장된다.<br>\n",
    "만약 캡쳐 그룹이 2개 이상이면, 매칭된 내용들을 tuple로 묶어 list에 저장한다."
   ]
  },
  {
   "cell_type": "code",
   "execution_count": 84,
   "id": "15e7c3ae",
   "metadata": {},
   "outputs": [
    {
     "data": {
      "text/plain": [
       "[('park', '010-1234-5678')]"
      ]
     },
     "execution_count": 84,
     "metadata": {},
     "output_type": "execute_result"
    }
   ],
   "source": [
    "re.findall('(\\w+)\\s+(\\d+[-]\\d+[-]\\d+)', \"park 010-1234-5678\")"
   ]
  },
  {
   "cell_type": "code",
   "execution_count": 34,
   "id": "3996b3d7",
   "metadata": {},
   "outputs": [
    {
     "data": {
      "text/plain": [
       "[('park', '010-1234-5678', '1234-5678')]"
      ]
     },
     "execution_count": 34,
     "metadata": {},
     "output_type": "execute_result"
    }
   ],
   "source": [
    "re.findall('(\\w+)\\s+(\\d+[-](\\d+[-]\\d+))', \"park 010-1234-5678\")"
   ]
  },
  {
   "cell_type": "code",
   "execution_count": null,
   "id": "8f35b3bb",
   "metadata": {},
   "outputs": [
    {
     "data": {
      "text/plain": [
       "[('park', '010-1234-5678', '1234', '5678'),\n",
       " ('chpo', '010-234-1234', '234', '1234')]"
      ]
     },
     "execution_count": 86,
     "metadata": {},
     "output_type": "execute_result"
    }
   ],
   "source": [
    "re.findall('(\\w+)\\s+(\\d+[-](\\d+)[-](\\d+))', \"park 010-1234-5678\")"
   ]
  },
  {
   "cell_type": "code",
   "execution_count": 89,
   "id": "13b812cd",
   "metadata": {},
   "outputs": [
    {
     "data": {
      "text/plain": [
       "('park', '010-1234-5678', '1234', '5678')"
      ]
     },
     "execution_count": 89,
     "metadata": {},
     "output_type": "execute_result"
    }
   ],
   "source": [
    "re.search('(\\w+)\\s+(\\d+[-](\\d+)[-](\\d+))', \"park 010-1234-5678\").group(1, 2, 3, 4)"
   ]
  },
  {
   "cell_type": "markdown",
   "id": "05a00367",
   "metadata": {},
   "source": [
    "$ 는 문자열 끝과 매치, 문자열 마지막 문자가 \\n 경우 그 왼쪽과 매치되는 문자이다.<br>\n",
    "문자열 마지막 문자가 \\n인 경우의 그 왼쪽과 매치되는 문자는 '.'이고, 문자열 끝은 '\\n'라 두 개가 매치된다."
   ]
  },
  {
   "cell_type": "code",
   "execution_count": 91,
   "id": "569a1d98",
   "metadata": {},
   "outputs": [
    {
     "data": {
      "text/plain": [
       "['.', '\\n']"
      ]
     },
     "execution_count": 91,
     "metadata": {},
     "output_type": "execute_result"
    }
   ],
   "source": [
    "re.findall('[\\w\\W]$', '\\t123.abc.\\n')"
   ]
  },
  {
   "cell_type": "code",
   "execution_count": 38,
   "id": "afe114e1",
   "metadata": {},
   "outputs": [
    {
     "data": {
      "text/plain": [
       "['\\n', '\\n']"
      ]
     },
     "execution_count": 38,
     "metadata": {},
     "output_type": "execute_result"
    }
   ],
   "source": [
    "re.findall('[\\w\\W]$', '\\t123.abc.\\n\\n')"
   ]
  },
  {
   "cell_type": "code",
   "execution_count": 39,
   "id": "b7ce6293",
   "metadata": {},
   "outputs": [
    {
     "data": {
      "text/plain": [
       "['\\t']"
      ]
     },
     "execution_count": 39,
     "metadata": {},
     "output_type": "execute_result"
    }
   ],
   "source": [
    "re.findall('[\\w\\W]$', '\\t123.abc.\\n\\t')"
   ]
  },
  {
   "cell_type": "markdown",
   "id": "16621967",
   "metadata": {},
   "source": [
    "## re.split 함수\n",
    "\n",
    "문자열 메소드의 split()과 구분해야 한다.<br/>\n",
    "캡쳐 그룹을 사용하면 그 구분자 자체도 list에 포함된다.<br>\n",
    "구분자가 문자열의 시작이나 끝에 있으면 그 위치에 ''를 생성한다."
   ]
  },
  {
   "cell_type": "code",
   "execution_count": 93,
   "id": "856206b8",
   "metadata": {},
   "outputs": [
    {
     "data": {
      "text/plain": [
       "['', '123', 'abc', '']"
      ]
     },
     "execution_count": 93,
     "metadata": {},
     "output_type": "execute_result"
    }
   ],
   "source": [
    "re.split('\\W+', '\\t\\n123..abc..\\n\\n\\n')\n",
    "# \\t\\n 123 .. abc ..\\n\\n\\n"
   ]
  },
  {
   "cell_type": "code",
   "execution_count": 41,
   "id": "cc13d3b7",
   "metadata": {},
   "outputs": [
    {
     "data": {
      "text/plain": [
       "['', '123..abc..\\n\\n\\n']"
      ]
     },
     "execution_count": 41,
     "metadata": {},
     "output_type": "execute_result"
    }
   ],
   "source": [
    "re.split('\\W+', '\\t\\n123..abc..\\n\\n\\n', 1)\n",
    "# 왼쪽에서부터 n번만 분리해라."
   ]
  },
  {
   "cell_type": "code",
   "execution_count": 42,
   "id": "7d96f0df",
   "metadata": {},
   "outputs": [
    {
     "data": {
      "text/plain": [
       "['', '123', 'abc..\\n\\n\\n']"
      ]
     },
     "execution_count": 42,
     "metadata": {},
     "output_type": "execute_result"
    }
   ],
   "source": [
    "re.split('\\W+', '\\t\\n123..abc..\\n\\n\\n', 2)"
   ]
  },
  {
   "cell_type": "code",
   "execution_count": 95,
   "id": "6f95e289",
   "metadata": {},
   "outputs": [
    {
     "data": {
      "text/plain": [
       "['', '123', 'abc', '']"
      ]
     },
     "execution_count": 95,
     "metadata": {},
     "output_type": "execute_result"
    }
   ],
   "source": [
    "re.split('\\W+', '\\t\\n123..abc..\\n\\n\\n', 3)"
   ]
  },
  {
   "cell_type": "code",
   "execution_count": 96,
   "id": "ff388ca6",
   "metadata": {},
   "outputs": [
    {
     "data": {
      "text/plain": [
       "['', '\\t\\n', '123', '..', 'abc', '..\\n\\n\\n', '']"
      ]
     },
     "execution_count": 96,
     "metadata": {},
     "output_type": "execute_result"
    }
   ],
   "source": [
    "re.split('(\\W+)', '\\t\\n123..abc..\\n\\n\\n')\n",
    "# 구분자도 출력하려면 정규표현식에 그룹핑() 해주면 된다."
   ]
  },
  {
   "cell_type": "markdown",
   "id": "30dba5ee",
   "metadata": {},
   "source": [
    "캡쳐 그룹을 아래와 같이 지정되면 덮어씌워지는 것을 기억하자"
   ]
  },
  {
   "cell_type": "code",
   "execution_count": 45,
   "id": "20129e3e",
   "metadata": {},
   "outputs": [
    {
     "data": {
      "text/plain": [
       "['', '\\n', '123', '.', 'abc', '\\n', '']"
      ]
     },
     "execution_count": 45,
     "metadata": {},
     "output_type": "execute_result"
    }
   ],
   "source": [
    "re.split('(\\W)+', '\\t\\n123..abc..\\n\\n\\n')"
   ]
  },
  {
   "cell_type": "markdown",
   "id": "31a33fa5",
   "metadata": {},
   "source": [
    "구분자가 있는가 없는가, 구분자가 있을 수 있는지 확인해 보아야 한다."
   ]
  },
  {
   "cell_type": "code",
   "execution_count": 100,
   "id": "f1749293",
   "metadata": {},
   "outputs": [
    {
     "data": {
      "text/plain": [
       "['', '123', '', 'abc', '..\\n\\n\\n']"
      ]
     },
     "execution_count": 100,
     "metadata": {},
     "output_type": "execute_result"
    }
   ],
   "source": [
    "re.split('\\W+(\\w+)', '\\t\\n123..abc..\\n\\n\\n')"
   ]
  },
  {
   "cell_type": "code",
   "execution_count": 101,
   "id": "31d48a37",
   "metadata": {},
   "outputs": [
    {
     "data": {
      "text/plain": [
       "['', '123', '..abc..\\n\\n\\n']"
      ]
     },
     "execution_count": 101,
     "metadata": {},
     "output_type": "execute_result"
    }
   ],
   "source": [
    "re.split('\\W+(\\w+)', '\\t\\n123..abc..\\n\\n\\n', 1)"
   ]
  },
  {
   "cell_type": "code",
   "execution_count": 102,
   "id": "b7952700",
   "metadata": {},
   "outputs": [
    {
     "data": {
      "text/plain": [
       "['', '\\t\\n', '123', '', '..', 'abc', '..\\n\\n\\n']"
      ]
     },
     "execution_count": 102,
     "metadata": {},
     "output_type": "execute_result"
    }
   ],
   "source": [
    "re.split('(\\W+)(\\w+)', '\\t\\n123..abc..\\n\\n\\n')"
   ]
  },
  {
   "cell_type": "markdown",
   "id": "95cdbf59",
   "metadata": {},
   "source": [
    "## re.sub 함수\n",
    "패턴과 일치하는 부분을 다른 문자열로 대체한다.<br>\n",
    "re.sub(pattern, repl, string, count, flags)\n"
   ]
  },
  {
   "cell_type": "code",
   "execution_count": 49,
   "id": "d53742d5",
   "metadata": {},
   "outputs": [
    {
     "data": {
      "text/plain": [
       "'write and write painting'"
      ]
     },
     "execution_count": 49,
     "metadata": {},
     "output_type": "execute_result"
    }
   ],
   "source": [
    "re.sub('red|blue', 'write', \"red and blue painting\")"
   ]
  },
  {
   "cell_type": "code",
   "execution_count": 50,
   "id": "978d96f0",
   "metadata": {},
   "outputs": [
    {
     "data": {
      "text/plain": [
       "'write and blue painting'"
      ]
     },
     "execution_count": 50,
     "metadata": {},
     "output_type": "execute_result"
    }
   ],
   "source": [
    "re.sub('red|blue', 'write', \"red and blue painting\", 1)\n",
    "# 왼쪽에서 n번만 바꿔라."
   ]
  },
  {
   "cell_type": "code",
   "execution_count": 51,
   "id": "3cc5e943",
   "metadata": {},
   "outputs": [
    {
     "data": {
      "text/plain": [
       "'write blue painting'"
      ]
     },
     "execution_count": 51,
     "metadata": {},
     "output_type": "execute_result"
    }
   ],
   "source": [
    "re.sub('(red|blue) and', 'write', \"red and blue painting\")"
   ]
  },
  {
   "cell_type": "code",
   "execution_count": 52,
   "id": "81c1f971",
   "metadata": {},
   "outputs": [
    {
     "data": {
      "text/plain": [
       "'red write painting'"
      ]
     },
     "execution_count": 52,
     "metadata": {},
     "output_type": "execute_result"
    }
   ],
   "source": [
    "re.sub('and (red|blue)', 'write', \"red and blue painting\")"
   ]
  },
  {
   "cell_type": "markdown",
   "id": "148a36f5",
   "metadata": {},
   "source": [
    "## re.compile 함수\n",
    "하나의 정규표현식을 여러 번 쓸 수 있다!! <br>\n",
    "반복해서 쓰지 않아도 된다.<br>\n",
    "re.compile(pattern, flags)<br><br>\n",
    "re.Pattern 자료형이다.<br>\n",
    "그렇기 때문에 '(\\w+)\\s+=\\s+(\\w+)'.match 이런 식으로는 쓰면 안 된다."
   ]
  },
  {
   "cell_type": "code",
   "execution_count": 53,
   "id": "98e76eb0",
   "metadata": {},
   "outputs": [],
   "source": [
    "p = re.compile('(\\w+)\\s+=\\s+(\\w+)')"
   ]
  },
  {
   "cell_type": "code",
   "execution_count": 103,
   "id": "2a16583f",
   "metadata": {},
   "outputs": [
    {
     "data": {
      "text/plain": [
       "re.Pattern"
      ]
     },
     "execution_count": 103,
     "metadata": {},
     "output_type": "execute_result"
    }
   ],
   "source": [
    "type(p)"
   ]
  },
  {
   "cell_type": "code",
   "execution_count": 107,
   "id": "62e2037b",
   "metadata": {},
   "outputs": [
    {
     "data": {
      "text/plain": [
       "('abc', '1234')"
      ]
     },
     "execution_count": 107,
     "metadata": {},
     "output_type": "execute_result"
    }
   ],
   "source": [
    "p.match('abc = 1234').groups()"
   ]
  },
  {
   "cell_type": "code",
   "execution_count": 56,
   "id": "abb8a870",
   "metadata": {},
   "outputs": [
    {
     "data": {
      "text/plain": [
       "('bc', '12')"
      ]
     },
     "execution_count": 56,
     "metadata": {},
     "output_type": "execute_result"
    }
   ],
   "source": [
    "p.search('bc = 12').groups()"
   ]
  },
  {
   "cell_type": "code",
   "execution_count": 57,
   "id": "b7723fbc",
   "metadata": {},
   "outputs": [
    {
     "data": {
      "text/plain": [
       "[('abc', '1234'), ('bc', '12')]"
      ]
     },
     "execution_count": 57,
     "metadata": {},
     "output_type": "execute_result"
    }
   ],
   "source": [
    "p.findall('abc = 1234 bc = 12')"
   ]
  },
  {
   "cell_type": "markdown",
   "id": "584c4ef3",
   "metadata": {},
   "source": [
    "## 정규표현 flags\n",
    "- re.DOTALL(re.S): 점 문자 포함, \\n까지 포함하자!\n",
    "- re.IGNORECASE(re.I): 대소문자 무시하자!\n",
    "- re.MULTILINE(re.M): ^와 $의 동작이 바뀐다(\\n으로 구분될 때).\n",
    "  - ^: 문자열 시작뿐만 아니라 각 줄의 시작에서도 매치된다.\n",
    "  - $: 문자열 끝뿐만 아니라 각 줄의 끝에서도 매치된다."
   ]
  },
  {
   "cell_type": "code",
   "execution_count": 58,
   "id": "f995d6db",
   "metadata": {},
   "outputs": [
    {
     "data": {
      "text/plain": [
       "'ab'"
      ]
     },
     "execution_count": 58,
     "metadata": {},
     "output_type": "execute_result"
    }
   ],
   "source": [
    "re.match('.+', 'ab\\ncd').group()"
   ]
  },
  {
   "cell_type": "markdown",
   "id": "22fd9d14",
   "metadata": {},
   "source": [
    ". 는 \\n을 포함하지 않지만 re.DOTALL과 re.S를 쓰면 \\n도 표현할 수 있다."
   ]
  },
  {
   "cell_type": "code",
   "execution_count": 59,
   "id": "94e1b8a2",
   "metadata": {},
   "outputs": [
    {
     "data": {
      "text/plain": [
       "'ab\\ncd'"
      ]
     },
     "execution_count": 59,
     "metadata": {},
     "output_type": "execute_result"
    }
   ],
   "source": [
    "re.match('.+', 'ab\\ncd', re.DOTALL).group()"
   ]
  },
  {
   "cell_type": "code",
   "execution_count": 60,
   "id": "302298dc",
   "metadata": {},
   "outputs": [
    {
     "data": {
      "text/plain": [
       "'ab\\ncd'"
      ]
     },
     "execution_count": 60,
     "metadata": {},
     "output_type": "execute_result"
    }
   ],
   "source": [
    "re.match('.+', 'ab\\ncd', re.S).group()"
   ]
  },
  {
   "cell_type": "code",
   "execution_count": 110,
   "id": "96116f11",
   "metadata": {},
   "outputs": [
    {
     "data": {
      "text/plain": [
       "'py'"
      ]
     },
     "execution_count": 110,
     "metadata": {},
     "output_type": "execute_result"
    }
   ],
   "source": [
    "re.match('[a-z]+', 'pyTHon').group()"
   ]
  },
  {
   "cell_type": "code",
   "execution_count": null,
   "id": "1e0d44eb",
   "metadata": {},
   "outputs": [
    {
     "ename": "AttributeError",
     "evalue": "'NoneType' object has no attribute 'group'",
     "output_type": "error",
     "traceback": [
      "\u001b[31m---------------------------------------------------------------------------\u001b[39m",
      "\u001b[31mAttributeError\u001b[39m                            Traceback (most recent call last)",
      "\u001b[36mCell\u001b[39m\u001b[36m \u001b[39m\u001b[32mIn[109]\u001b[39m\u001b[32m, line 1\u001b[39m\n\u001b[32m----> \u001b[39m\u001b[32m1\u001b[39m \u001b[43mre\u001b[49m\u001b[43m.\u001b[49m\u001b[43mmatch\u001b[49m\u001b[43m(\u001b[49m\u001b[33;43m'\u001b[39;49m\u001b[33;43m[A-Z]+\u001b[39;49m\u001b[33;43m'\u001b[39;49m\u001b[43m,\u001b[49m\u001b[43m \u001b[49m\u001b[33;43m'\u001b[39;49m\u001b[33;43mpyTHon\u001b[39;49m\u001b[33;43m'\u001b[39;49m\u001b[43m)\u001b[49m\u001b[43m.\u001b[49m\u001b[43mgroup\u001b[49m()\n",
      "\u001b[31mAttributeError\u001b[39m: 'NoneType' object has no attribute 'group'"
     ]
    }
   ],
   "source": [
    "# re.match('[A-Z]+', 'pyTHon').group()"
   ]
  },
  {
   "cell_type": "code",
   "execution_count": 111,
   "id": "2aeb37fc",
   "metadata": {},
   "outputs": [
    {
     "data": {
      "text/plain": [
       "'pyTHon'"
      ]
     },
     "execution_count": 111,
     "metadata": {},
     "output_type": "execute_result"
    }
   ],
   "source": [
    "re.match('[A-Z]+', 'pyTHon', re.IGNORECASE).group()"
   ]
  },
  {
   "cell_type": "code",
   "execution_count": 115,
   "id": "e3909cd9",
   "metadata": {},
   "outputs": [
    {
     "data": {
      "text/plain": [
       "'pyTHon'"
      ]
     },
     "execution_count": 115,
     "metadata": {},
     "output_type": "execute_result"
    }
   ],
   "source": [
    "re.match('[A-Z]+', 'pyTHon', re.I).group()"
   ]
  },
  {
   "cell_type": "markdown",
   "id": "11d34b31",
   "metadata": {},
   "source": [
    "^ 은 문자열 시작을 나타낸다."
   ]
  },
  {
   "cell_type": "code",
   "execution_count": 116,
   "id": "68c8fcb5",
   "metadata": {},
   "outputs": [
    {
     "data": {
      "text/plain": [
       "['ab']"
      ]
     },
     "execution_count": 116,
     "metadata": {},
     "output_type": "execute_result"
    }
   ],
   "source": [
    "re.findall('^[a-z]+', 'ab\\ncd\\nef')"
   ]
  },
  {
   "cell_type": "code",
   "execution_count": 118,
   "id": "70108088",
   "metadata": {},
   "outputs": [
    {
     "data": {
      "text/plain": [
       "['ab', 'cd', 'ef']"
      ]
     },
     "execution_count": 118,
     "metadata": {},
     "output_type": "execute_result"
    }
   ],
   "source": [
    "re.findall('^[a-z]+', 'ab\\ncd\\nef', re.MULTILINE)"
   ]
  },
  {
   "cell_type": "code",
   "execution_count": 67,
   "id": "acb98541",
   "metadata": {},
   "outputs": [
    {
     "data": {
      "text/plain": [
       "['ab', 'cd', 'ef']"
      ]
     },
     "execution_count": 67,
     "metadata": {},
     "output_type": "execute_result"
    }
   ],
   "source": [
    "re.findall('^[a-z]+', 'ab\\ncd\\nef', re.M)"
   ]
  },
  {
   "cell_type": "code",
   "execution_count": 68,
   "id": "9fc39efe",
   "metadata": {},
   "outputs": [
    {
     "data": {
      "text/plain": [
       "['ef']"
      ]
     },
     "execution_count": 68,
     "metadata": {},
     "output_type": "execute_result"
    }
   ],
   "source": [
    "re.findall('[a-z]+$', 'ab\\ncd\\nef')"
   ]
  },
  {
   "cell_type": "code",
   "execution_count": 69,
   "id": "8dd13037",
   "metadata": {},
   "outputs": [
    {
     "data": {
      "text/plain": [
       "['ab', 'cd', 'ef']"
      ]
     },
     "execution_count": 69,
     "metadata": {},
     "output_type": "execute_result"
    }
   ],
   "source": [
    "re.findall('[a-z]+$', 'ab\\ncd\\nef', re.M)"
   ]
  },
  {
   "cell_type": "markdown",
   "id": "9e14a094",
   "metadata": {},
   "source": [
    "## 정규표현 함수의 논항수와 flags"
   ]
  },
  {
   "cell_type": "code",
   "execution_count": 70,
   "id": "79d02f10",
   "metadata": {},
   "outputs": [
    {
     "data": {
      "text/plain": [
       "'pyTHon'"
      ]
     },
     "execution_count": 70,
     "metadata": {},
     "output_type": "execute_result"
    }
   ],
   "source": [
    "re.match('[A-Z]+', 'pyTHon', re.I).group()"
   ]
  },
  {
   "cell_type": "code",
   "execution_count": 71,
   "id": "b917a846",
   "metadata": {},
   "outputs": [
    {
     "data": {
      "text/plain": [
       "'pyTHon'"
      ]
     },
     "execution_count": 71,
     "metadata": {},
     "output_type": "execute_result"
    }
   ],
   "source": [
    "re.match('[A-Z]+', 'pyTHon', flags=re.I).group()"
   ]
  },
  {
   "cell_type": "code",
   "execution_count": 120,
   "id": "a7f90030",
   "metadata": {},
   "outputs": [
    {
     "data": {
      "text/plain": [
       "'py***on'"
      ]
     },
     "execution_count": 120,
     "metadata": {},
     "output_type": "execute_result"
    }
   ],
   "source": [
    "re.sub('[A-Z]+', '***', 'pyTHon')"
   ]
  },
  {
   "cell_type": "code",
   "execution_count": 123,
   "id": "e3ca622e",
   "metadata": {},
   "outputs": [
    {
     "data": {
      "text/plain": [
       "'py***on'"
      ]
     },
     "execution_count": 123,
     "metadata": {},
     "output_type": "execute_result"
    }
   ],
   "source": [
    "re.sub('[A-Z]+', '***', 'pyTHon', re.I)"
   ]
  },
  {
   "cell_type": "code",
   "execution_count": 122,
   "id": "0a9a09ee",
   "metadata": {},
   "outputs": [
    {
     "data": {
      "text/plain": [
       "'***'"
      ]
     },
     "execution_count": 122,
     "metadata": {},
     "output_type": "execute_result"
    }
   ],
   "source": [
    "re.sub('[A-Z]+', '***', 'pyTHon', flags=re.I)"
   ]
  },
  {
   "cell_type": "markdown",
   "id": "f9f3678b",
   "metadata": {},
   "source": [
    "위 결과가 다르게 나오는 이유는 인자 전달 위치가 다르기 때문이다.<br>\n",
    "- re.match(pattern, string, flags)\n",
    "- re.search(pattern, string, flags)\n",
    "- re.findall(pattern, string, flags)\n",
    "- re.split(pattern, string, maxsplit, flags)\n",
    "- re.sub(pattern, repl, string, count, flags)\n",
    "- re.compile(pattern, flags)"
   ]
  },
  {
   "cell_type": "markdown",
   "id": "6c77c2e0",
   "metadata": {},
   "source": [
    "## 연습문제 2"
   ]
  },
  {
   "cell_type": "markdown",
   "id": "04c91949",
   "metadata": {},
   "source": [
    "제어구문 최대한 안 쓰고 해보기!"
   ]
  },
  {
   "cell_type": "code",
   "execution_count": 72,
   "id": "0e84bd18",
   "metadata": {},
   "outputs": [
    {
     "data": {
      "text/plain": [
       "'회원 명단입니다.\\nDonald Trump\\t\\tTrump.python@python.ac.kr\\nBarack Obama   obama@python.org\\n이상입니다.\\n'"
      ]
     },
     "execution_count": 72,
     "metadata": {},
     "output_type": "execute_result"
    }
   ],
   "source": [
    "a = '''회원 명단입니다.\n",
    "Donald Trump\\t\\tTrump.python@python.ac.kr\n",
    "Barack Obama   obama@python.org\n",
    "이상입니다.\n",
    "'''\n",
    "a"
   ]
  },
  {
   "cell_type": "code",
   "execution_count": 73,
   "id": "8ae2d324",
   "metadata": {},
   "outputs": [
    {
     "name": "stdout",
     "output_type": "stream",
     "text": [
      "Trump.python@python.ac.kr\n",
      "obama@python.org\n",
      "\n",
      "Trump.python@python.ac.kr\n",
      "obama@python.org\n",
      "\n",
      "Trump.python@python.ac.kr\n",
      "obama@python.org\n",
      "\n",
      "Trump.python@python.ac.kr\n",
      "obama@python.org\n",
      "\n",
      "Trump.python@python.ac.kr\n",
      "obama@python.org\n"
     ]
    }
   ],
   "source": [
    "for i in re.findall('\\w+\\s+\\w+\\s+(.+@.+)', a):\n",
    "    print(i)\n",
    "print()\n",
    "\n",
    "for i in re.findall('(\\w+.?\\w+@.+)', a):\n",
    "    print(i)\n",
    "print()\n",
    "\n",
    "print('\\n'.join(re.findall('[a-z.]+@[a-z@.]+', a, re.I))); print()\n",
    "\n",
    "print('\\n'.join(re.findall('[a-z.]+@[a-z.]+', a, re.I))); print()\n",
    "\n",
    "for i in a.split():\n",
    "    if '@' in i: print(i)"
   ]
  }
 ],
 "metadata": {
  "kernelspec": {
   "display_name": "Python 3",
   "language": "python",
   "name": "python3"
  },
  "language_info": {
   "codemirror_mode": {
    "name": "ipython",
    "version": 3
   },
   "file_extension": ".py",
   "mimetype": "text/x-python",
   "name": "python",
   "nbconvert_exporter": "python",
   "pygments_lexer": "ipython3",
   "version": "3.11.9"
  }
 },
 "nbformat": 4,
 "nbformat_minor": 5
}
