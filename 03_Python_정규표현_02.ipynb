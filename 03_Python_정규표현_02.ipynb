{
 "cells": [
  {
   "cell_type": "markdown",
   "id": "7cda9da5",
   "metadata": {},
   "source": [
    "# 정규표현 함수\n",
    "## re.search 함수\n",
    "\n",
    "re.Match로 반환되기 때문에 group(), groups()를 사용할 수 있다."
   ]
  },
  {
   "cell_type": "code",
   "execution_count": 1,
   "id": "d8b43cba",
   "metadata": {},
   "outputs": [],
   "source": [
    "import re"
   ]
  },
  {
   "cell_type": "code",
   "execution_count": 2,
   "id": "0300d3ff",
   "metadata": {},
   "outputs": [
    {
     "data": {
      "text/plain": [
       "<re.Match object; span=(0, 2), match='\\t\\n'>"
      ]
     },
     "execution_count": 2,
     "metadata": {},
     "output_type": "execute_result"
    }
   ],
   "source": [
    "re.search('\\s+', '\\t\\n123\\t\\nabc\\t\\n')"
   ]
  },
  {
   "cell_type": "code",
   "execution_count": 3,
   "id": "881a13da",
   "metadata": {},
   "outputs": [
    {
     "data": {
      "text/plain": [
       "<re.Match object; span=(10, 12), match='\\t\\n'>"
      ]
     },
     "execution_count": 3,
     "metadata": {},
     "output_type": "execute_result"
    }
   ],
   "source": [
    "re.search('\\s+$', '\\t\\n123\\t\\nabc\\t\\n')"
   ]
  },
  {
   "cell_type": "code",
   "execution_count": 4,
   "id": "75a7bac1",
   "metadata": {},
   "outputs": [
    {
     "data": {
      "text/plain": [
       "'\\t\\n'"
      ]
     },
     "execution_count": 4,
     "metadata": {},
     "output_type": "execute_result"
    }
   ],
   "source": [
    "re.search('\\s+$', '\\t\\n123\\t\\nabc\\t\\n').group()"
   ]
  },
  {
   "cell_type": "code",
   "execution_count": 12,
   "id": "2b5a128d",
   "metadata": {},
   "outputs": [
    {
     "data": {
      "text/plain": [
       "('\\t\\n',)"
      ]
     },
     "execution_count": 12,
     "metadata": {},
     "output_type": "execute_result"
    }
   ],
   "source": [
    "re.search('(\\s+)$', '\\t\\n123\\t\\nabc\\t\\n').groups()\n",
    "# re.search('\\s+$', '\\t\\n123\\t\\nabc\\t\\n').groups()"
   ]
  },
  {
   "cell_type": "code",
   "execution_count": 13,
   "id": "df006660",
   "metadata": {},
   "outputs": [
    {
     "data": {
      "text/plain": [
       "('\\n',)"
      ]
     },
     "execution_count": 13,
     "metadata": {},
     "output_type": "execute_result"
    }
   ],
   "source": [
    "re.search('(\\s)+$', '\\t\\n123\\t\\nabc\\t\\n').groups()"
   ]
  },
  {
   "cell_type": "markdown",
   "id": "767fb655",
   "metadata": {},
   "source": [
    "## 정규표현과 조건문"
   ]
  },
  {
   "cell_type": "code",
   "execution_count": 14,
   "id": "85738685",
   "metadata": {},
   "outputs": [],
   "source": [
    "a = ['abc', 'bcd103', '103abc']"
   ]
  },
  {
   "cell_type": "code",
   "execution_count": 17,
   "id": "920a21ca",
   "metadata": {},
   "outputs": [],
   "source": [
    "# re.search('\\w+', a)"
   ]
  },
  {
   "cell_type": "code",
   "execution_count": null,
   "id": "5b67d01e",
   "metadata": {},
   "outputs": [
    {
     "name": "stdout",
     "output_type": "stream",
     "text": [
      "bcd103 103\n",
      "103abc 103\n"
     ]
    }
   ],
   "source": [
    "for i in a:\n",
    "    if re.search('\\d+', i):\n",
    "        print(i, re.search('\\d+', i).group())\n",
    "\n",
    "# 찾는 것이기 때문에 첫 시작 위치는 상관없다."
   ]
  },
  {
   "cell_type": "markdown",
   "id": "6754864c",
   "metadata": {},
   "source": [
    "## 불 자료형 Bool Type"
   ]
  },
  {
   "cell_type": "code",
   "execution_count": 22,
   "id": "e915aa22",
   "metadata": {},
   "outputs": [
    {
     "data": {
      "text/plain": [
       "4"
      ]
     },
     "execution_count": 22,
     "metadata": {},
     "output_type": "execute_result"
    }
   ],
   "source": [
    "True + True + 2 * True"
   ]
  },
  {
   "cell_type": "code",
   "execution_count": 55,
   "id": "70ce0dc6",
   "metadata": {},
   "outputs": [
    {
     "data": {
      "text/plain": [
       "0"
      ]
     },
     "execution_count": 55,
     "metadata": {},
     "output_type": "execute_result"
    }
   ],
   "source": [
    "False + False"
   ]
  },
  {
   "cell_type": "code",
   "execution_count": 56,
   "id": "5682ce7c",
   "metadata": {},
   "outputs": [
    {
     "name": "stdout",
     "output_type": "stream",
     "text": [
      "1\n",
      "-2\n",
      "3\n",
      "a\n",
      "[0]\n",
      "(1,)\n"
     ]
    }
   ],
   "source": [
    "for i in [0, 1, -2, 3, '', 'a', [], [0], (), (1,), None]:\n",
    "    if i:\n",
    "        print(i)"
   ]
  },
  {
   "cell_type": "markdown",
   "id": "b3873a3b",
   "metadata": {},
   "source": [
    "(참고) NoneType == None"
   ]
  },
  {
   "cell_type": "code",
   "execution_count": 20,
   "id": "c687445a",
   "metadata": {},
   "outputs": [
    {
     "data": {
      "text/plain": [
       "NoneType"
      ]
     },
     "execution_count": 20,
     "metadata": {},
     "output_type": "execute_result"
    }
   ],
   "source": [
    "type(None)"
   ]
  },
  {
   "cell_type": "markdown",
   "id": "7240fc95",
   "metadata": {},
   "source": [
    "## 연습문제 1"
   ]
  },
  {
   "cell_type": "code",
   "execution_count": 132,
   "id": "dcae102c",
   "metadata": {},
   "outputs": [],
   "source": [
    "import os\n",
    "os.chdir('C:/Users/yunji/Desktop/코퍼스언어학')\n",
    "word = open('02_data.txt').read().split()"
   ]
  },
  {
   "cell_type": "code",
   "execution_count": 164,
   "id": "501c9287",
   "metadata": {},
   "outputs": [],
   "source": [
    "L = list(); mark = list()\n",
    "\n",
    "# re.search('\\W', i)에서 \n",
    "# ['1/2', '1/8', '3/4-', '3/4-', '1/2', '1/2', '8-', '1/2']\n",
    "# 얘네를 빼야 한다. 그래서 알파벳 문자 포함하는 search를 또 해야 함.\n",
    "\n",
    "for i in word:\n",
    "    if re.search('[a-zA-Z]', i) and re.search('\\W', i):\n",
    "        L.append(i)\n",
    "\n",
    "# _를 추가하고 싶으면 어떻게 해야 할까??\n",
    "# for i in word:\n",
    "#     if re.search('[^\\da-zA-Z]', i):\n",
    "#         L.append(i)"
   ]
  },
  {
   "cell_type": "code",
   "execution_count": 165,
   "id": "902ec58e",
   "metadata": {},
   "outputs": [
    {
     "data": {
      "text/plain": [
       "189"
      ]
     },
     "execution_count": 165,
     "metadata": {},
     "output_type": "execute_result"
    }
   ],
   "source": [
    "len(L)"
   ]
  },
  {
   "cell_type": "code",
   "execution_count": 166,
   "id": "d818f589",
   "metadata": {},
   "outputs": [
    {
     "data": {
      "text/plain": [
       "['center.',\n",
       " 'cups;',\n",
       " 'aside.',\n",
       " 'bowl,',\n",
       " 'flour,',\n",
       " 'powder,',\n",
       " 'salt,',\n",
       " 'soda;',\n",
       " 'aside.',\n",
       " 'attachment,']"
      ]
     },
     "execution_count": 166,
     "metadata": {},
     "output_type": "execute_result"
    }
   ],
   "source": [
    "L[:10]"
   ]
  },
  {
   "cell_type": "markdown",
   "id": "8cf3938e",
   "metadata": {},
   "source": [
    "## 최소 매칭?"
   ]
  },
  {
   "cell_type": "code",
   "execution_count": 167,
   "id": "13b89ddd",
   "metadata": {},
   "outputs": [
    {
     "data": {
      "text/plain": [
       "'<a href=\"in.html\">HERE<a href=\"out.html\">'"
      ]
     },
     "execution_count": 167,
     "metadata": {},
     "output_type": "execute_result"
    }
   ],
   "source": [
    "a = '<a href=\"in.html\">HERE<a href=\"out.html\">'\n",
    "a"
   ]
  },
  {
   "cell_type": "code",
   "execution_count": 176,
   "id": "1489b0c2",
   "metadata": {},
   "outputs": [
    {
     "data": {
      "text/plain": [
       "'href=\"in.html\">HERE<a href=\"out.html\"'"
      ]
     },
     "execution_count": 176,
     "metadata": {},
     "output_type": "execute_result"
    }
   ],
   "source": [
    "re.search('href=\".*\"', a).group()\n",
    "# 왜 \"까지일까? .*이 쭉 되다가 그 뒤에 \"이 있기 때문에!!\n",
    "# \"로 마무리 되어야 한다.\n",
    "# 최장이기 때문에 in.html\"에서 끝나지 않고 out.html\"로 끝나는 것이다."
   ]
  },
  {
   "cell_type": "code",
   "execution_count": 177,
   "id": "7dc7499a",
   "metadata": {},
   "outputs": [
    {
     "data": {
      "text/plain": [
       "'href=\"in.html\"'"
      ]
     },
     "execution_count": 177,
     "metadata": {},
     "output_type": "execute_result"
    }
   ],
   "source": [
    "re.search('href=\".*?\"', a).group()\n",
    "# 반복 메타 문자 뒤의 물음표는 '최소 매칭 물음표'이다.\n",
    "# 반복 메타 문자 뒤가 아닌 물음표는 '반복 메타 문자 물음표'이다.\n",
    "# ?는 쉽게 말하면 최소를 의미하기 때문에, in.html\" 뒤에 끝나는 것."
   ]
  },
  {
   "cell_type": "markdown",
   "id": "2a9d31bb",
   "metadata": {},
   "source": [
    "## re.findall 함수"
   ]
  },
  {
   "cell_type": "markdown",
   "id": "fd4fe954",
   "metadata": {},
   "source": [
    "return 형식이 **list**이다.<br/>\n",
    "근데 그룹이 두 개 이상이면 tuple이래(다음에 자세히 해두실 듯 하다...)."
   ]
  },
  {
   "cell_type": "code",
   "execution_count": 178,
   "id": "584246b4",
   "metadata": {},
   "outputs": [
    {
     "data": {
      "text/plain": [
       "['href=\"in.html\"', 'href=\"out.html\"']"
      ]
     },
     "execution_count": 178,
     "metadata": {},
     "output_type": "execute_result"
    }
   ],
   "source": [
    "re.findall('href=\".*?\"', a)"
   ]
  },
  {
   "cell_type": "code",
   "execution_count": 180,
   "id": "567cdcbf",
   "metadata": {},
   "outputs": [
    {
     "data": {
      "text/plain": [
       "['in.html', 'out.html']"
      ]
     },
     "execution_count": 180,
     "metadata": {},
     "output_type": "execute_result"
    }
   ],
   "source": [
    "re.findall('href=\"(.*?)\"', a)"
   ]
  },
  {
   "cell_type": "code",
   "execution_count": 182,
   "id": "65fe6678",
   "metadata": {},
   "outputs": [
    {
     "data": {
      "text/plain": [
       "['href=\"in.html\">HERE<a href=\"out.html\"']"
      ]
     },
     "execution_count": 182,
     "metadata": {},
     "output_type": "execute_result"
    }
   ],
   "source": [
    "re.findall('href=\".*\"', a)\n",
    "# 최장 매칭"
   ]
  },
  {
   "cell_type": "code",
   "execution_count": 183,
   "id": "86f81362",
   "metadata": {},
   "outputs": [
    {
     "data": {
      "text/plain": [
       "['a', 'href', 'in', 'html', 'HERE', 'a', 'href', 'out', 'html']"
      ]
     },
     "execution_count": 183,
     "metadata": {},
     "output_type": "execute_result"
    }
   ],
   "source": [
    "re.findall('\\w+', a)"
   ]
  }
 ],
 "metadata": {
  "kernelspec": {
   "display_name": "Python 3",
   "language": "python",
   "name": "python3"
  },
  "language_info": {
   "codemirror_mode": {
    "name": "ipython",
    "version": 3
   },
   "file_extension": ".py",
   "mimetype": "text/x-python",
   "name": "python",
   "nbconvert_exporter": "python",
   "pygments_lexer": "ipython3",
   "version": "3.11.9"
  }
 },
 "nbformat": 4,
 "nbformat_minor": 5
}
